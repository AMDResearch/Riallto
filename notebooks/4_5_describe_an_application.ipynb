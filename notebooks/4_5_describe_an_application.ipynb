{
 "cells": [
  {
   "cell_type": "markdown",
   "id": "b1f79b0f-12a0-4c74-8423-7c84050279af",
   "metadata": {},
   "source": [
    "# Describing an Application\n",
    "\n",
    "## Goals\n",
    "\n",
    "* Understanding the properties of a dataflow application\n",
    "\n",
    "* Learn how to describe an application using the Riallto `AppBuilder` \n",
    "\n",
    "* See how to instantiate kernels and describe data movement using the *call graph*\n",
    "\n",
    "* Understand data movement and how to use the interface tile\n",
    "\n",
    "---\n"
   ]
  },
  {
   "cell_type": "markdown",
   "id": "bd4fb085",
   "metadata": {},
   "source": [
    "## Introduction\n",
    "\n",
    "Building an application requires a derived instance of the Riallto `AppBuilder` class where kernels will be instantiated. In the `AppBuilder` class the `callgraph()` is used  describes how the kernels are connected together and how data flows through those connections.\n",
    "\n",
    "The inputs and outputs to the `callgraph` function are Python `numpy` arrays. These input and output arrays are declared on the x86 CPU and exist in user space in the external DDR5 system memory.\n",
    "\n",
    "In the following sections, you will learn about the different components of the `AppBuilder` class. \n",
    "\n",
    "---"
   ]
  },
  {
   "cell_type": "markdown",
   "id": "b51555e9",
   "metadata": {},
   "source": [
    "## Dataflow Application Properties\n",
    "\n",
    "We will start by examining the properties of an application. We will use the previously discussed edge detection example and show how the `AppBuilder` class is used to create the application.\n",
    "\n",
    "The same edge detection dataflow graph from earlier notebooks is shown below.\n",
    "\n",
    "<center><img src=\"./images/png/edge_detect_dfg.png\" style=\"max-height: 80px; width:auto; height:auto;\"></center>\n",
    "<center><strong>Edge detection dataflow graph</strong></center>"
   ]
  },
  {
   "cell_type": "markdown",
   "id": "64d4ef78",
   "metadata": {},
   "source": [
    "With the goal of defining the *mapped dataflow graph* that will run on the NPU, let us begin by identifying key observations from the dataflow graph above:\n",
    "\n",
    "* **one** input.\n",
    "* **one** output.\n",
    "* **four** kernels: rgb2gray, filter2D, threshold, gray2rgb.\n",
    "* The **data flows linearly** from the input to the output traversing the four kernels, the output buffer of one kernel becomes the input buffer of the following one\n",
    "* **Kernels** consume data from the input buffer and produce data into the output buffer."
   ]
  },
  {
   "cell_type": "markdown",
   "id": "00362ddd-30e7-4f23-a74c-8ef2263de356",
   "metadata": {},
   "source": [
    "Now, we can focus on subtle observations based on what we learned in earlier notebooks in section 3:\n",
    "\n",
    "* Every application needs to use an interface tile (gateways to system memory).\n",
    "* Communication between kernels is done using neighboring data memory or data movers via streams.\n",
    "* Buffers are statically allocated in data memory or the memory tile.\n",
    "* Input data needs to be tiled to fit in data memory."
   ]
  },
  {
   "cell_type": "markdown",
   "id": "5ff6b83a",
   "metadata": {},
   "source": [
    "\n",
    "---\n"
   ]
  },
  {
   "cell_type": "markdown",
   "id": "e60f7b5c-35d4-453e-8c47-83b34beffd58",
   "metadata": {},
   "source": [
    "## Instantiating Kernels\n",
    "\n",
    "In Riallto, AIE kernels in Python become objects of a class. AIE kernels are instantiated in the `__init__` method of your class. The `__init__` code and kernel instantiations looks like this:\n",
    "\n",
    "```python\n",
    "from npu.lib.kernels import Rgba2Gray, Filter2D, Threshold, Gray2Rgba\n",
    "\n",
    "def __init__(self):\n",
    "    self.rgba2gray = Rgba2Gray()\n",
    "    self.filter2d = Filter2D()\n",
    "    self.threshold = Threshold()\n",
    "    self.gray2rgba = Gray2Rgba()\n",
    "    super().__init__()\n",
    "```\n",
    "\n",
    "The `__init__` method initializes four objects:\n",
    "\n",
    "* self.rgba2gray: an instance of the `Rgba2Gray` kernel class.\n",
    "* self.filter2d: an instance of the `Filter2D` kernel class.\n",
    "* self.threshold: an instance of the `Threshold` kernel class.\n",
    "* self.gray2rgba: an instance of the `Gray2Rgba` kernel class.\n",
    "\n",
    "\n",
    "The kernels are imported from `npu.lib.kernel`. You can also create your own kernels and instantiate them here. . We drew inspiration from Pytorch where the layers are defined in the `__init__` method. See an example [here](https://pytorch.org/tutorials/beginner/blitz/neural_networks_tutorial.html)\n",
    "\n",
    "Finally, the `__init__` method of the AppBuilder class (`super().__init__()`) is then called.\n",
    "\n",
    "<div class=\"alert alert-box alert-info\">\n",
    "    Instantiating a kernel does not run it. Kernels must be <i>called</i> to be executed in the application.\n",
    "</div>"
   ]
  },
  {
   "cell_type": "markdown",
   "id": "e488ab6c",
   "metadata": {},
   "source": [
    "\n",
    "---\n"
   ]
  },
  {
   "cell_type": "markdown",
   "id": "585f251d-c253-450c-ad0e-2a5beb227cc4",
   "metadata": {},
   "source": [
    "## Calling Kernels\n",
    "\n",
    "While we are using Python to build the application, kernels are written in C++. The output argument(s) of a kernel become the return value in Python.  This is similar to what OpenCV does in the C/C++ vs Python API.\n",
    "\n",
    "For instance, the `rgb2gray` kernel function prototype in C++ is:\n",
    "\n",
    "```c++\n",
    "rgba2gray(uint8_t *in1, uint8_t *out1, int32_t nbytes){..}\n",
    "```\n",
    "\n",
    "In Python the same call becomes:\n",
    "\n",
    "```python\n",
    "out1 = rgb2gray(in1, nbytes)\n",
    "```\n",
    "\n",
    "\n",
    "\n",
    "<div class=\"alert alert-box alert-info\">\n",
    "\n",
    "Kernels with multiple outputs, the return will be a tuple.\n",
    "\n",
    "</div>\n"
   ]
  },
  {
   "cell_type": "markdown",
   "id": "7ae4b518",
   "metadata": {},
   "source": [
    "\n",
    "---\n"
   ]
  },
  {
   "cell_type": "markdown",
   "id": "409fd7e3-eeb1-4968-8426-4f08987b71f4",
   "metadata": {},
   "source": [
    "## Describing Data Movement\n",
    "\n",
    "To define data movement between the kernels we use the mandatory `callgraph` method. \n",
    "The purpose of the `callgraph` method is to define the topology of our dataflow graph.  We use it to specify how the nodes and the buffers are connected thereby describing how data flows through the graph. `callgraph` is inspired by the [Pytorch forward method](https://pytorch.org/tutorials/beginner/blitz/neural_networks_tutorial.html). It is a central part of the class that describes how our kernels are connected and how data is scheduled throughout our application kernels.\n",
    "\n",
    "A simplified data movement for the edge detection application is shown below:\n",
    "\n",
    "```python\n",
    "def callgraph(self, x_in:np.ndarray, x_out:np.ndarray):\n",
    "    rgba2gray_output = self.rgba2gray(x_in[tile], ...)\n",
    "    filter2d_output = self.filter2d(rgba2gray_output)\n",
    "    threshold_output = self.threshold(filter2d_output, ...)\n",
    "    gray2rgba_output = self.gray2rgba(threshold_output, ...)\n",
    "```\n",
    "\n",
    "From the code snipped, you can see that the `callgraph` gets two input arguments `x_in` is the input data, and `x_out` is the output data (result).\n",
    "\n",
    "<div class=\"alert alert-box alert-info\">\n",
    "\n",
    "We will discuss `x_out` in more detail later in the notebook.\n",
    "\n",
    "</div>\n",
    "\n",
    "Focusing on the data movement:\n",
    "\n",
    "* `rgba2gray()` takes `x_in` and produces `rgba2gray_output`\n",
    "* `filter2d()` takes `rgba2gray_output` produces `filter2d_output`\n",
    "* `threshold()` takes `filter2d_output` and produces `threshold_output`\n",
    "* `gray2rgba()` takes `threshold_output`and produces `gray2rgba_output`\n",
    "* We are not showing how z is moved to `x_out`, we will discuss this later\n",
    "\n",
    "`rgba2gray_output`, `filter2d_output`, `threshold_output`, `gray2rgba_output` are variable names for the buffers shown in the DFG above. The size of these buffers is automatically inferred. The size depends on shape of the input data. This will also be covered in more detail later. \n",
    "\n",
    "`rgba2gray_output`, `filter2d_output`, `threshold_output`, `gray2rgba_output` are arbitrary names.\n",
    "\n",
    "<div class=\"alert alert-box alert-info\">\n",
    "    Kernels can have several arguments. For example, graph nodes can have several inputs and outputs to other nodes. For simplicity, we deliberately picked a simple example where each kernel has only one input and one output. Kernels can also have Run Time Parameters. Again, for simplicity, runtime parameters will not be shown in the code for this example.\n",
    "</div>\n"
   ]
  },
  {
   "cell_type": "markdown",
   "id": "5b7b3a0b",
   "metadata": {},
   "source": [
    "\n",
    "---\n"
   ]
  },
  {
   "cell_type": "markdown",
   "id": "77311b07-dd1d-4ed3-abf6-5a87132c8a49",
   "metadata": {},
   "source": [
    "## Using the AppBuilder class\n",
    "\n",
    "In Riallto, mapped dataflow graphs (applications) are implemented as classes that inherit from the `AppBuilder` class. The `callgraph` function is defined within the class and is called when the application is built.\n",
    "\n",
    "The `callgraph` function takes input and output data as its argument. The input and output data must be a `numpy` array which are then passed through a series of operations performed by the kernels before producing the final output.\n",
    "\n",
    "Below, it is a simplification of the edge detection application:\n",
    "\n",
    "```python\n",
    "from npu.build.appbuilder import AppBuilder\n",
    "from npu.lib import Rgba2Gray, Filter2D, Threshold, Gray2Rgba\n",
    "\n",
    "class SimplifiedEdgeDetect(AppBuilder):\n",
    "    \n",
    "    def __init__(self):\n",
    "        self.rgba2gray = Rgba2Gray()\n",
    "        self.filter2d = Filter2D()\n",
    "        self.threshold = Threshold()\n",
    "        self.gray2rgba = Gray2Rgba()\n",
    "        super().__init__()\n",
    "\n",
    "    def callgraph(self, x_in:np.ndarray, x_out:np.ndarray):\n",
    "        rgba2gray_output = self.rgba2gray(x_in[tile], ...)\n",
    "        filter2d_output = self.filter2d(rgba2gray_output)\n",
    "        threshold_output = self.threshold(filter2d_output, ...)\n",
    "        gray2rgba_output = self.gray2rgba(threshold_output, ...)\n",
    "```\n",
    "\n",
    "The `AppBuilder` will automatically assign each kernel to a tile and configure the data movement between kernels. Where possible data will be moved between neighboring tiles using the local data memory interfaces. Where this is not possible, the streaming network will be used. "
   ]
  },
  {
   "cell_type": "markdown",
   "id": "47b9ccbc",
   "metadata": {},
   "source": [
    "\n",
    "---\n"
   ]
  },
  {
   "cell_type": "markdown",
   "id": "a2a2bf26-4248-4827-9a32-ae77b6b7ab29",
   "metadata": {},
   "source": [
    "## Tiled Data Movement\n",
    "\n",
    "We discussed in [Scaling *Data Parallel* Applications to Multiple Compute Tiles](./3_3_Scaled_color_threshold_example.ipynb) that the input data needs to be partitioned to fit into the data memory of each compute tile, 64KB per compute tile. For this example there are no dependencies between pixels so data can be sent in any order to the application.\n",
    "\n",
    "If we consider a 720p image, a simple way to partition a frame is to move one row at a time into the array. We can use `numpy` slicing to do this. We can create a loop in the `callgraph()` that iterates over the image frame, moving a row of data (tile) into the array each iteration:\n",
    "\n",
    "This tiling is used to schedule the sequencing of data via the data movers (buffer descriptors configuration) and nearest neighbor communication.\n",
    "\n",
    "```python\n",
    "from npu.build.appbuilder import AppBuilder\n",
    "from npu.lib import Rgba2Gray, Filter2D, Threshold, Gray2Rgba\n",
    "\n",
    "class SimplifiedTiledEdgeDetect(AppBuilder):\n",
    "    \n",
    "    def __init__(self):\n",
    "        self.rgba2gray = Rgba2Gray()\n",
    "        self.filter2d = Filter2D()\n",
    "        self.threshold = Threshold()\n",
    "        self.gray2rgba = Gray2Rgba()\n",
    "        \n",
    "        super().__init__()\n",
    "\n",
    "    def callgraph(self, x_in:np.ndarray, x_out:np.ndarray):\n",
    "        for tile in range(x_in.shape[0]):\n",
    "            rgba2gray_output = self.rgba2gray(x_in[tile], ...)\n",
    "            filter2d_output = self.filter2d(rgba2gray_output)\n",
    "            threshold_output = self.threshold(filter2d_output, ...)\n",
    "            gray2rgba_output = self.gray2rgba(threshold_output, ...)\n",
    "```\n",
    "\n",
    "<div class=\"alert alert-box alert-info\">\n",
    "    The input image is being processed one tile at the time.\n",
    "</div>\n"
   ]
  },
  {
   "cell_type": "markdown",
   "id": "a3a41027",
   "metadata": {},
   "source": [
    "\n",
    "---\n"
   ]
  },
  {
   "cell_type": "markdown",
   "id": "fcefe7ad-2357-4f98-b234-90dcbb2d1ef6",
   "metadata": {},
   "source": [
    "## Using the Interface Tile\n",
    "\n",
    "Once we have defined the data movement in space, how data flow between kernels. We need to schedule the sequence of data flowing to our application, data movement in time. The amount of memory in the compute tile is limited, so we need to tile the input data. The order in which the input data is partition is what we call sequence.\n",
    "\n",
    "To define the data scheduling, we need to use the interface tile to bring data from system memory and also to push the results to system memory. The data scheduling generates the data mover configuration that it is loaded at runtime.\n",
    "\n",
    "To do this, we use the `ITRead` and `ITWrite` classes.\n",
    "\n",
    "The `ITRead` has one argument:\n",
    "\n",
    "1. `inputbuffer`, the portion of the input buffer we want to read. In this case, it would be `x_in[tile]`\n",
    "\n",
    "The `ITWrite` has two arguments:\n",
    "\n",
    "1. `inputbuffer`, result of one of our kernels. In the example above, this would be `rgba`.\n",
    "2. `bufref`, the portion of the output buffer we want to write. In this case, it would be `x_out[tile]`\n",
    "\n",
    "The interface tile has the capability to move data to/from non-contiguous regions in system memory. The `ITWrite` allows us to specify how the results from kernels are moved to system memory.\n",
    "\n",
    "The diagram below shows a representation of the `ITRead()` and `ITWrite()`:"
   ]
  },
  {
   "cell_type": "markdown",
   "id": "24c1ca4c",
   "metadata": {},
   "source": [
    "\n",
    "<center><img src=\"./images/png/shared_system_memory_itread_itwrite.png\" style=\"max-height: 365px; width:auto; height:auto;\"></center>\n",
    "<center><strong>Invalidate and flush the cache with synchronization calls </strong></center>"
   ]
  },
  {
   "cell_type": "markdown",
   "id": "5a42a013",
   "metadata": {},
   "source": [
    "\n",
    "\n",
    "A completed version of the edge detection application, is shown below:\n",
    "\n",
    "```python\n",
    "from npu.build.appbuilder import AppBuilder\n",
    "from npu.build.itkernel import ITWrite\n",
    "from npu.lib import Rgba2Gray, Filter2D, Threshold, Gray2Rgba\n",
    "\n",
    "class CompleteEdgeDetect(AppBuilder):\n",
    "    \n",
    "    def __init__(self):\n",
    "        self.rgba2gray = Rgba2Gray()\n",
    "        self.filter2d = Filter2D()\n",
    "        self.threshold = Threshold()\n",
    "        self.gray2rgba = Gray2Rgba()\n",
    "        super().__init__()\n",
    "\n",
    "    def callgraph(self, x_in:np.ndarray, x_out:np.ndarray):\n",
    "        for tile in range(x_in.shape[0]):\n",
    "            input_tile = ITRead(x_in[tile])\n",
    "            rgba2gray_output = self.rgba2gray(input_tile, ...)\n",
    "            filter2d_output = self.filter2d(rgba2gray_output)\n",
    "            threshold_output = self.threshold(filter2d_output, ...)\n",
    "            gray2rgba_output = self.gray2rgba(threshold_output, ...)\n",
    "            _ = ITWrite(gray2rgba_output, bufref=x_out[tile])\n",
    "```\n",
    "\n",
    "<div class=\"alert alert-box alert-info\">\n",
    "\n",
    "`ITRead` is no needed as the data movement can be inferred by the access pattern in the tiling, however it is added in this example for simplicity.\n",
    "\n",
    "</div>\n"
   ]
  },
  {
   "cell_type": "markdown",
   "id": "858c2d77",
   "metadata": {},
   "source": [
    "`ITRead` and `ITWrite` APIs are used for explicit description of the data movement via the interface tile. We can also describe this data movement (implicitly) using numpy slicing. See below:\n",
    "\n",
    "```python\n",
    "    def callgraph(self, x_in:np.ndarray, x_out:np.ndarray):\n",
    "        for tile in range(x_in.shape[0]):\n",
    "            rgba2gray_output = self.rgba2gray(x_in[tile], ...)\n",
    "            filter2d_output = self.filter2d(rgba2gray_output)\n",
    "            threshold_output = self.threshold(filter2d_output, ...)\n",
    "            gray2rgba_output = self.gray2rgba(threshold_output, ...)\n",
    "            x_out[tile] gray2rgba_output\n",
    "```\n",
    "\n",
    "<div class=\"alert alert-box alert-info\">\n",
    "\n",
    "In the following notebooks, we favor the implicit data movement via the interface tile using numpy slicing.\n",
    "\n",
    "</div>"
   ]
  },
  {
   "cell_type": "markdown",
   "id": "86099217",
   "metadata": {},
   "source": [
    "\n",
    "---\n"
   ]
  },
  {
   "cell_type": "markdown",
   "id": "864155a6",
   "metadata": {},
   "source": [
    "## Next Steps\n",
    "\n",
    "In the next notebooks you will build your own applications based on what you have just learned."
   ]
  },
  {
   "cell_type": "markdown",
   "id": "fed1f93d",
   "metadata": {},
   "source": [
    "\n",
    "---\n",
    "\n",
    "<center>\n",
    "Copyright&copy; 2023 AMD, Inc\n",
    "</center>\n",
    "<center>\n",
    "SPDX-License-Identifier: MIT\n",
    "</center>"
   ]
  }
 ],
 "metadata": {
  "kernelspec": {
   "display_name": "Python 3 (ipykernel)",
   "language": "python",
   "name": "python3"
  },
  "language_info": {
   "codemirror_mode": {
    "name": "ipython",
    "version": 3
   },
   "file_extension": ".py",
   "mimetype": "text/x-python",
   "name": "python",
   "nbconvert_exporter": "python",
   "pygments_lexer": "ipython3",
   "version": "3.9.2"
  }
 },
 "nbformat": 4,
 "nbformat_minor": 5
}
