{
 "cells": [
  {
   "cell_type": "markdown",
   "metadata": {},
   "source": [
    "# Exploration Software Framework\n",
    "\n",
    "\n",
    "\n",
    "## Goals\n",
    "\n",
    "* Familiarize yourself with the capabilities of the Riallto exploration framework for creating NPU applications\n",
    "\n",
    "* Understand the Riallto `%%kernel` magic\n",
    "\n",
    "* Review the structure of the Riallto Python package including its most important modules and methods \n",
    "\n",
    "* Find out where to access documentation\n",
    "\n",
    "* Understand the services MLIR-AIE provides to Riallto \n",
    "\n",
    "## References\n",
    "\n",
    "**[JupyterLab](https://jupyterlab.readthedocs.io/en/latest/)**\n",
    "\n",
    "**[MLIR-AIE](https://xilinx.github.io/mlir-aie/)**\n",
    "\n",
    "**[Windows Subsystem for Linux 2 (WSL 2)](https://learn.microsoft.com/en-us/windows/wsl/about)**\n",
    "\n",
    "**[Built-in magic commands](https://ipython.readthedocs.io/en/stable/interactive/magics.html#built-in-magic-commands)**\n",
    "\n",
    "**[Riallto NPU documentation](https://www.riallto.ai/modules.html)** \n",
    "\n",
    "---\n"
   ]
  },
  {
   "cell_type": "markdown",
   "metadata": {
    "tags": []
   },
   "source": [
    "## Riallto Exploration Framework\n",
    "\n",
    "In this section 4, you will learn how to develop applications for the NPU using the Riallto framework. \n",
    "\n",
    "The Riallto exploration framework has two parts: \n",
    "\n",
    "* **JupyterLab**\n",
    "    * Riallto uses [JupyterLab](https://jupyterlab.readthedocs.io/en/latest/), a browser-based, integrated development environment (IDE). Kernels for the compute tiles are written in C++. Using Riallto, you can use Python to build and test your application from a Jupyter notebook.\n",
    "* **AIEtools**\n",
    "    * These are the compilation tools used to build the Ryzen AI NPU application. \n",
    "\n",
    "The AIETools tools are Linux based. For Windows laptops, they run in [Windows Subsystem for Linux 2 (WSL 2)](https://learn.microsoft.com/en-us/windows/wsl/about). If you have installed Riallto and are reading this material on your laptop as a Jupyter notebook, WSL 2 should have been already installed and enabled on your system. "
   ]
  },
  {
   "cell_type": "markdown",
   "metadata": {
    "tags": []
   },
   "source": [
    "<div class=\"alert alert-box alert-info\">\n",
    "To check that the WSL 2 instance, where the <em>Riallto</em> tools are installed, is enabled on your system, run the following cell:\n",
    "</div>"
   ]
  },
  {
   "cell_type": "code",
   "execution_count": 1,
   "metadata": {
    "tags": []
   },
   "outputs": [
    {
     "name": "stdout",
     "output_type": "stream",
     "text": [
      "NAME=\"Ubuntu\"\n",
      "VERSION=\"20.04.3 LTS (Focal Fossa)\"\n",
      "ID=ubuntu\n",
      "ID_LIKE=debian\n",
      "PRETTY_NAME=\"Ubuntu 20.04.3 LTS\"\n",
      "VERSION_ID=\"20.04\"\n",
      "HOME_URL=\"https://www.ubuntu.com/\"\n",
      "SUPPORT_URL=\"https://help.ubuntu.com/\"\n",
      "BUG_REPORT_URL=\"https://bugs.launchpad.net/ubuntu/\"\n",
      "PRIVACY_POLICY_URL=\"https://www.ubuntu.com/legal/terms-and-policies/privacy-policy\"\n",
      "VERSION_CODENAME=focal\n",
      "UBUNTU_CODENAME=focal\n"
     ]
    }
   ],
   "source": [
    "!wsl -d Riallto cat /etc/os-release"
   ]
  },
  {
   "cell_type": "markdown",
   "metadata": {},
   "source": [
    "The output of this cell should report the OS version where the 'Riallto' tools are installed. If you do not see this, or if you installed the **Lite** version of Riallto, please refer to the [Riallto installation instructions](https://www.riallto.ai/install-riallto.html) to install the **Full** version of Riallto."
   ]
  },
  {
   "cell_type": "markdown",
   "metadata": {},
   "source": [
    "\n",
    "---\n"
   ]
  },
  {
   "cell_type": "markdown",
   "metadata": {
    "tags": []
   },
   "source": [
    "## Programming the NPU\n",
    "\n",
    "To recap, the Ryzen AI NPU is a dataflow architecture. Data flows through a series of compute nodes within the NPU.  Each node is assigned specific processing tasks. Data is directed only to the nodes where it is needed for computation. \n",
    "\n",
    "<center><img src=\"./images/png/edge_detect_dfg.png\" style=\"max-height: 80px; width:auto; height:auto;\"></center>\n",
    "<center><strong>Example dataflow graph of the edge detection application</strong></center>"
   ]
  },
  {
   "cell_type": "markdown",
   "metadata": {},
   "source": [
    "A Ryzen AI dataflow application consists of:\n",
    "* the software kernels that run on compute nodes\n",
    "* the NPU graph that defines the tile connectivity and the movement of data between the tiles\n",
    "\n",
    "To build an application for the NPU, we need to create dataflow programs. A dataflow program effectively translates the application, as described by its dataflow graph, into code that can be compiled into an executable application for the NPU.\n",
    "\n",
    "There are two main parts to a program that will run on the Ryzen AI NPU\n",
    "\n",
    "### AI engine software kernel(s)\n",
    "\n",
    "AI Engine software kernels are the programs that run on the individual AI Engines in a compute tiles. You may choose to run one software kernel per compute tile. You could also distribute the execution of a single kernel across multiple compute tiles.  A third option is to run multiple distinct kernels on individual tiles. And, of course, hybrid combinations of all three options are also valid.\n",
    "\n",
    "The AIEcompiler tools used in Riallto support building C/C++ software kernels for the AI Engine processors. Creating software kernels is similar to developing software for other (embedded) processors. There are special considerations you need to take into account when programming for the AI Engine to take advantage of the special features this processor supports. E.g., VLIW, SIMD, 512-bit data path, fixed-point and floating-point vector support. Notebooks in section 3 introduced these features. In section 4 you will see how to write software kernels to use these features. \n",
    "\n",
    "### NPU graph\n",
    "\n",
    "The notebooks in section 3 showed how dataflow graphs are used to represent NPU applications. Dataflow graphs are abstract graphical representations of an application. The NPU *graph* is similar in concept, but different to the dataflow graphs. The NPU graph is a detailed *programmatic* description of the connectivity between tiles and how data is moved in the array. It captures how the dataflow graph is mapped to the NPU array to create a *mapped* graph.  It will be compiled into machine code that is used to configure the NPU. \n",
    "\n",
    "You will see how to write both kernels and graphs and how they are compiled to develop an application to run on the NPU."
   ]
  },
  {
   "cell_type": "markdown",
   "metadata": {},
   "source": [
    "----"
   ]
  },
  {
   "cell_type": "markdown",
   "metadata": {},
   "source": [
    "## Riallto `npu` Python Package"
   ]
  },
  {
   "cell_type": "markdown",
   "metadata": {},
   "source": [
    "The Riallto `npu` Python package contains:\n",
    "\n",
    "* Methods to call the graph compiler\n",
    "* Methods to call the AI Engine compiler\n",
    "* Application builder\n",
    "* x86 memory buffer allocation\n",
    "* Methods to synchronize data between the CPU and NPU\n",
    "* Reusable graph templates\n",
    "* Special helper methods intended to be used in a Jupyter notebook to:\n",
    "    * Visualize the NPU application\n",
    "    * Display NPU NumPy arrays as images\n",
    "* %%kernel magic to build kernels from Jupyter Notebook code cells\n",
    "* Small library of example, reusable, image processing software kernels\n",
    "* ONNX support (covered in section 5)\n"
   ]
  },
  {
   "cell_type": "markdown",
   "metadata": {},
   "source": [
    "----"
   ]
  },
  {
   "cell_type": "markdown",
   "metadata": {},
   "source": [
    "### IPython cell magics"
   ]
  },
  {
   "cell_type": "markdown",
   "metadata": {},
   "source": [
    "You can write your kernel in two ways:\n",
    "\n",
    "* By using a code editor to create a `.c` or `.cpp` source file, or \n",
    "* By writing the C/C++ source code in any Jupyter Notebook code cell that is annotated with a special Riallto [IPython cell magic](https://ipython.readthedocs.io/en/stable/interactive/magics.html). \n",
    "\n",
    "Jupyter notebooks use the Interactive Python (IPython) interpreter by default. IPython is a standard Python interpreter that has been extended with features to enhance programmer productivity. One of these is called a _cell magic_.  We have defined our own Riallto cell magic called `%%kernel`.  \n",
    "\n",
    "When a code cell starts with `%%kernel`, all subsequent code in the cell will no longer be interpreted as regular Python code. Instead, it will be passed as input to the code handler we have written for `%%kernel`."
   ]
  },
  {
   "cell_type": "markdown",
   "metadata": {},
   "source": [
    "You can find more information about the Riallto `%%kernel` magic by running the following cell."
   ]
  },
  {
   "cell_type": "code",
   "execution_count": 2,
   "metadata": {
    "tags": []
   },
   "outputs": [],
   "source": [
    "import npu"
   ]
  },
  {
   "cell_type": "code",
   "execution_count": 3,
   "metadata": {
    "tags": []
   },
   "outputs": [
    {
     "data": {
      "text/plain": [
       "\u001b[1;31mDocstring:\u001b[0m\n",
       "Specify a compute tile C++ kernel and return an npu.build.Kernel object.\n",
       "\n",
       "This cell magic command allows users to input C++ kernel code within\n",
       "a Jupyter notebook cell. It then returns a corresponding Kernel object\n",
       "that can be compiled into an object file for use in a Riallto application.\n",
       "The Cpp source must return a void type, input and output buffers are specified\n",
       "as pointer types, as parameters are specified with non-pointer types.\n",
       "\n",
       "Header files included in the directory where the notebook is are permitted.\n",
       "\n",
       "Parameters\n",
       "----------\n",
       "cell : str\n",
       "    The string content of the cell, expected to be C++ code defining\n",
       "    the kernel.\n",
       "\n",
       "Returns\n",
       "-------\n",
       "Kernel : object\n",
       "    Returns a Kernel object that has the same name as the last function\n",
       "    defined in the cell magic. See npu.build.Kernel.\n",
       "\n",
       "Examples\n",
       "--------\n",
       "In a Jupyter notebook %%kernel cell\n",
       "\n",
       "\n",
       "void passthrough(uint8_t *in_buffer, uint8_t* out_buffer, uint32_t nbytes) {\n",
       "    for(int i=0; i<nbytes; i++) {\n",
       "        out_buffer[i] = in_buffer[i];\n",
       "        \n",
       "    }\n",
       "    \n",
       "}\n",
       "\n",
       "\n",
       "\n",
       "This will construct a passthrough npu.build.Kernel object that can be used within\n",
       "a callgraph to construct a complete application. \n",
       "\u001b[1;31mFile:\u001b[0m      c:\\users\\riallto\\appdata\\local\\programs\\python\\python39\\lib\\site-packages\\npu\\magic.py"
      ]
     },
     "metadata": {},
     "output_type": "display_data"
    }
   ],
   "source": [
    "?%%kernel"
   ]
  },
  {
   "cell_type": "markdown",
   "metadata": {},
   "source": [
    "----"
   ]
  },
  {
   "cell_type": "markdown",
   "metadata": {
    "tags": []
   },
   "source": [
    "## Structure of the Riallto NPU package "
   ]
  },
  {
   "cell_type": "markdown",
   "metadata": {},
   "source": [
    "The main Riallto Python package is the `npu` package. The following section gives an overview of the key modules and user methods that are used to build NPU applications in the next notebooks in this section. You can review the [npu documentation](https://www.riallto.ai/modules.html) for more details on the NPU Python package or follow the links for modules below.\n",
    "\n",
    "### npu.build \n",
    "\n",
    "Contains modules that will be used to build an application for the NPU. \n",
    "\n",
    "* [npu.build.appbuilder](https://www.riallto.ai/npu.build.html#module-npu.build.appbuilder) \n",
    "\n",
    "  Used to build NPU applications from a high level description specified in the callgraph() method.\n",
    "\n",
    "  `AppBuilder` builds the complete NPU application. This will create an MLIR .aie file `mlir.aie` file which is used as input for the MLIR-AIE compiler. When the process finishes, an `.xclbin` file and companion `.json` will be delivered.\n",
    "\n",
    "  The `.xclbin` file is a container file that includes multiple binary files which include the NPU configuration and executables for software kernels in the application. The `.json` contains application metadata that is used in Riallto to display information about the application and visualisations. \n",
    "\n",
    "  Selected user methods that will be used in section 4 examples:\n",
    "\n",
    "  * `build()` - builds the application\n",
    "  * `callgraph()` - describes how the kernels are connected together and how data flows through them\n",
    "  * `display()` - visualize how your application is mapped to the NPU\n",
    "\n",
    "  \n",
    "\n",
    "* [npu.build.buffers](https://www.riallto.ai/npu.build.html#module-npu.build.buffers) \n",
    "\n",
    "  Includes the methods to allocate buffers in external memory and configure the buffers for the NPU.\n",
    "\n",
    "* [npu.build.kernel](https://www.riallto.ai/npu.build.html#module-npu.build.kernel)\n",
    "\n",
    "  Includes the kernel object that can be used to build a software kernel for an AI Engine processor.\n",
    "\n",
    "  * `build()` calls the AI engine compiler to build the software kernel\n",
    "  * `to_cpp()` converts to cpp\n",
    "\n",
    "  You can also readback source code from the kernel object, view the object file and display the kernel.\n",
    "\n",
    "* [npu.build.itkernel](https://www.riallto.ai/npu.build.html#module-npu.build.itkernel) \n",
    "\n",
    "  Includes methods for managing read and writes from the interface tile to and from external memory."
   ]
  },
  {
   "cell_type": "markdown",
   "metadata": {},
   "source": [
    "### npu.lib\n",
    "\n",
    "Contains a small library of example applications, and example image processing software kernels. \n",
    "Most of the example applications are used in section 3 and include the color detect, color threshold examples and variations, edge detect and denoise examples. \n",
    "\n",
    "Software kernels include functions that are used to make up the examples mentioned previously. E.g., `rgba2gray()` and `rgb2hue()` are reusable software kernels that do color conversion used in the example applications. Other software kernels (e.g., `filter2d()`, `median()` and bitwise functions) are used to process data in the example applications.  You can include the provided software kernels in your own custom applications. \n",
    "\n",
    "For a list of applications and kernels, `videoapps()` and `aiekernels()` (below) in `npu.utils` to list available applications and kernels or review the [npu.lib documentation](https://www.riallto.ai/npu.lib.html)"
   ]
  },
  {
   "cell_type": "markdown",
   "metadata": {},
   "source": [
    "### npu.utils\n",
    "\n",
    "Includes useful utilities for developing applications. \n",
    "\n",
    "* [npu.utils.nputop()](https://www.riallto.ai/npu.build.html#npu.utils.nputop) \n",
    "\n",
    "  Provides information about applications currently running on the NPU. This command can be run standalone\n",
    "  \n",
    "* [npu.utils.aiekernels()](https://www.riallto.ai/npu.build.html#npu.utils.aiekernels) \n",
    "\n",
    "    Returns a list of software kernels in the Riallto kernel library\n",
    "\n",
    "* [npu.utils.videoapps()](https://www.riallto.ai/npu.utils.html#module-npu.utils.videoapps) \n",
    "\n",
    "  Returns a list of video application examples available in the Riallto applications library\n"
   ]
  },
  {
   "cell_type": "markdown",
   "metadata": {},
   "source": [
    "### npu.runtime\n",
    "\n",
    "Loads applications from an xclbin file to the NPU, synchronizes data, and visualizes the application. \n",
    "\n",
    "* [npu.runtime.apprunner](https://www.riallto.ai/npu.runtime.html#module-npu.runtime.apprunner) \n",
    "\n",
    "  * `sync_{to|from}_npu` - manage data synchronization between the x86 and NPU as they are not cache coherent \n",
    "  * `call()` - configure the NPU and load individual software kernels to the compute tile. After the completion of this method, the application will be running on the NPU\n",
    "  * `display()` - displays a visualization of the application mapped to the NPU array\n",
    "\n",
    "  Also included are methods for building widgets to controller the RunTime parameters:\n",
    "\n",
    "  * `rtpwidgets()` - helper function to build user widgets\n",
    "  * `rtpsliders()` - automatically generate slider widgets for any RunTime Parameters"
   ]
  },
  {
   "cell_type": "markdown",
   "metadata": {},
   "source": [
    "\n",
    "---\n"
   ]
  },
  {
   "cell_type": "markdown",
   "metadata": {},
   "source": [
    "## MLIR-AIE\n",
    "\n",
    "The MLIR-AIE toolchain is part of what we described above as the *AIEtools* used by Riallto.\n",
    "\n",
    "The [MLIR-AIE compiler](https://xilinx.github.io/mlir-aie/) is an open-source research project from the Research and Advanced Development group (RAD) at AMD. This project is primarily intended to support tool builders with convenient low-level access to devices and enable the development of a wide variety of programming models from higher level abstractions.\n",
    "\n",
    "The input to the MLIR-aie compiler is an MLIR intermediate representation that will be generated by the **Riallto** framework as an MLIR source file. You will see more on this file format later.\n",
    "\n",
    "If you would like to explore the capabilities of the NPU beyond the application patterns of this framework, we recommend you use MLIR-AIE directly."
   ]
  },
  {
   "cell_type": "markdown",
   "metadata": {},
   "source": [
    "----"
   ]
  },
  {
   "cell_type": "markdown",
   "metadata": {},
   "source": [
    "## Next Steps\n",
    "\n",
    "In the next notebooks, we will guide you through the process of creating custom software kernels using a pre-configured graph to generate an application. Then, we describe how to build your custom dataflow graph by using the Riallto `AppBuilder` and a set of optimized software kernels from the Riallto library."
   ]
  },
  {
   "cell_type": "markdown",
   "metadata": {},
   "source": [
    "-------------\n",
    "\n",
    "<center>\n",
    "Copyright&copy; 2023 AMD, Inc\n",
    "</center>\n",
    "<center>\n",
    "SPDX-License-Identifier: MIT\n",
    "</center>"
   ]
  }
 ],
 "metadata": {
  "kernelspec": {
   "display_name": "Python 3 (ipykernel)",
   "language": "python",
   "name": "python3"
  },
  "language_info": {
   "codemirror_mode": {
    "name": "ipython",
    "version": 3
   },
   "file_extension": ".py",
   "mimetype": "text/x-python",
   "name": "python",
   "nbconvert_exporter": "python",
   "pygments_lexer": "ipython3",
   "version": "3.9.2"
  },
  "widgets": {
   "application/vnd.jupyter.widget-state+json": {
    "state": {},
    "version_major": 2,
    "version_minor": 0
   }
  }
 },
 "nbformat": 4,
 "nbformat_minor": 4
}
