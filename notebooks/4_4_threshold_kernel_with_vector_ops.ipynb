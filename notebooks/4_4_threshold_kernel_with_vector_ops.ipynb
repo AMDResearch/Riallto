{
 "cells": [
  {
   "cell_type": "markdown",
   "id": "36bd044d-2483-4d4d-9db6-219d505ef9cc",
   "metadata": {},
   "source": [
    "# How to Use the Vector Processing Units\n",
    "\n",
    "\n",
    "## Goals\n",
    "\n",
    "* Introduce AI Engine vector operations within a user-defined kernel\n",
    "\n",
    "* Develop our first single instruction multiple data path (SIMD) application\n",
    "\n",
    "* Achieve better performance when changing the run-time parameters (RTPs) during application execution"
   ]
  },
  {
   "cell_type": "markdown",
   "id": "d41950c5-e887-4275-9d2c-4ae37bfa2d5c",
   "metadata": {
    "tags": []
   },
   "source": [
    "## References\n",
    "\n",
    "**[AIE API reference manual](https://www.xilinx.com/htmldocs/xilinx2023_2/aiengine_api/aie_api/doc/)**\n",
    "\n",
    "**[Single Instruction Multiple Data (SIMD)](https://en.wikipedia.org/wiki/Single_instruction,_multiple_data)**\n",
    "\n",
    "\n",
    "---"
   ]
  },
  {
   "cell_type": "markdown",
   "id": "1f022153-5a5c-4f6a-8bf8-070150eb41dd",
   "metadata": {},
   "source": [
    "## Vectorization\n",
    "\n",
    "Vectorization is a technique that allows a computer processor to perform the same operation on multiple data elements simultaneously, using a single instruction. This is supported by the SIMD architecture of the AI Engines in the NPU compute tiles. [SIMD](https://en.wikipedia.org/wiki/Single_instruction,_multiple_data) stands for Single Instruction, Multiple Data.  \n",
    "\n",
    "A vector represents a collection of data elements of the same type. A SIMD instruction is a single instruction that is executed simultaneously on multiple data elements. In other words, it processes vectors using a single operation.\n",
    "\n",
    "Vectorization is the process of transforming scalar operations (operations on individual data elements) into vector operations (operations on vectors). Instead of processing one data element at a time, vectorization enables the CPU to work on a batch of data elements in parallel. This approach leverages parallelism to improve the computational efficiency of tasks that involve the same operations on a set of data, such as arrays or vectors.\n",
    "\n",
    "We will show how the benefits of SIMD data parallelism are achieved with the AI Engine's vector processor unit, shown below. "
   ]
  },
  {
   "cell_type": "markdown",
   "id": "72798159-e9a3-4b48-b91c-3e581c16ba32",
   "metadata": {},
   "source": [
    "<center><img src=\"./images/png/ai_engine_processor.png\" style=\"max-height: 400px; width:auto; height:auto;\"></center>\n",
    "<center><strong>AIE-ML Architecture</strong></center>  "
   ]
  },
  {
   "cell_type": "markdown",
   "id": "3326eaed-e40d-4e3f-9680-83d7a6c1a86a",
   "metadata": {},
   "source": [
    "<div class=\"alert alert-info\" role=\"alert\">\n",
    "   The <em>vectorization factor</em> is the number of data lanes in the vector unit.  It corresponds to the number of scalar iterations that can be performed by each vector instruction. The vector processing unit (VPU) data path is 512-bit wide. It has 64 lanes for 8-bit data types, 32 lanes for 16-bit types or 16 lanes for 32-bit types. The VPU's vectorization factor is configurable to accommodate the different widths of different data types. \n",
    "</div>\n"
   ]
  },
  {
   "cell_type": "markdown",
   "id": "e22fc571-a2a1-4441-97a5-8da68de728db",
   "metadata": {},
   "source": [
    "## Introduction to the AI Engine API\n",
    "\n",
    "The previous examples used C++ code with no special APIs. C/C++ have limited built in support for vector processing. We will use the AI Engine API which support the vector architecture of the processor.\n",
    "\n",
    "You can read more details in the [AIE API reference manual](https://www.xilinx.com/htmldocs/xilinx2023_2/aiengine_api/aie_api/doc/)\n",
    "\n",
    "To get started we need to understand the load and store vector APIs, and the arithmetic vector APIs."
   ]
  },
  {
   "cell_type": "markdown",
   "id": "748ec060-1ccd-45bf-a1ab-3b7fa2490cf2",
   "metadata": {
    "tags": []
   },
   "source": [
    "## Load/Store and Vector APIs\n",
    "\n",
    "Input and output data to software kernels running on AI Engines are stored in memory buffers in the local data memory of the compute tiles. Pointers provide the software kernel with access to the data buffers. On an AI Engine, the software kernel can read data from the input buffer pointer as a vector. This loads the inputs into special vector registers in the Vector Processing Unit. In the AI Engine, the output from the VPU is also stored in special vector registers, which can be written back to the output memory buffer as a vector.  \n",
    "\n",
    "The AI Engine VPU can perform up to two load and one store operations from local data memory per clock cycle. If you are unfamiliar with the terms load and store, a *load* is a read from memory, and a *store* is a write to memory. The data path for each of these load and store operations is 256-bit wide. This means we can load 512-bit of data and store 256-bit of data in one cycle.  \n",
    "\n",
    "We can use the following APIs to load and store vectors:\n",
    "\n",
    "* `::aie::load_v<N>(pointer)`: [AIE Load vector operator documentation](https://www.xilinx.com/htmldocs/xilinx2023_2/aiengine_api/aie_api/doc/group__group__memory.html#ga1d143988d732069ef3c66dc6d2ae3ea9)\n",
    "  * loads a vector of `N` elements from the input `pointer` and returns a vector of `N` elements of the underlying type of `pointer`.\n",
    "\n",
    "* `::aie::store_v(pointer, vector)`: [AIE Store vector operator documentation](https://www.xilinx.com/htmldocs/xilinx2023_2/aiengine_api/aie_api/doc/group__group__memory.html#gaa134a9db67641fc7ee69be78c7b00bf6)\n",
    "  * stores a `vector` into the buffer in data memory associated to the output `pointer`.\n",
    "\n",
    "We must use vector data types with these APIs. To declare a vector data type we can use the following:\n",
    "\n",
    "* `::aie::vector<<type>, <vector length>> vector_name`: [AIE vector data type documentation](https://www.xilinx.com/htmldocs/xilinx2023_2/aiengine_api/aie_api/doc/group__group__basic__types.html#classaie_1_1vector)\n",
    "  * Creates a vector of the specified type and length\n",
    "\n",
    "You will see these APIs used in the next software kernel we will build. "
   ]
  },
  {
   "cell_type": "markdown",
   "id": "8156729a-6c4e-4fd0-aefd-eeb8a40ebd54",
   "metadata": {},
   "source": [
    "<div class=\"alert alert-info\" role=\"alert\">\n",
    "  Data should be 128-bit aligned to get maximum performance. Data aligned on different boundaries will not be loaded/stored in a single operation. \n",
    "</div>\n",
    "\n",
    "---"
   ]
  },
  {
   "cell_type": "markdown",
   "id": "e1ec66da-1dc6-4c8b-b2a5-03e3dc859e0c",
   "metadata": {},
   "source": [
    "## Operating on Vectors\n",
    "\n",
    "The AI Engine APIs support the following vector operations:\n",
    "\n",
    "- [Arithmetic](https://www.xilinx.com/htmldocs/xilinx2023_2/aiengine_api/aie_api/doc/group__group__arithmetic.html) - E.g., adding, subtracting, multiplying, accumulating, bitwise. \n",
    "\n",
    "- [Comparison](https://www.xilinx.com/htmldocs/xilinx2023_2/aiengine_api/aie_api/doc/group__group__compare.html) - E.g., less than, greater than, equals/not equals. \n",
    "\n",
    "- [Reduction](https://www.xilinx.com/htmldocs/xilinx2023_2/aiengine_api/aie_api/doc/group__group__reduce.html) - E.g., reduction add, min, max.\n",
    "\n",
    "- [Reshaping](https://www.xilinx.com/htmldocs/xilinx2023_2/aiengine_api/aie_api/doc/group__group__reshape.html) - E.g., select, filter, interleave, shuffle. \n",
    "\n",
    "You can follow the links for more details, but this is not necessary at this stage. \n",
    "\n",
    "These APIs will be demonstrated in the software kernel code in the next examples. "
   ]
  },
  {
   "cell_type": "markdown",
   "id": "d853eed2-456e-45b5-a5fd-61f53abe88d3",
   "metadata": {},
   "source": [
    "## Vectorizing the pass-through Kernel"
   ]
  },
  {
   "cell_type": "markdown",
   "id": "cc1b48ee-8a7d-421e-9ee4-e9a83f7c3970",
   "metadata": {},
   "source": [
    "To make a vectorized version of the pass-through application that we saw in earlier notebooks, we write the following C++ code:\n",
    "\n",
    "```c++\n",
    "void passthrough_vectorized(uint8_t *in_buffer, uint8_t *out_buffer, uint32_t nbytes){\n",
    "    // a buffer to temporarily store our vector\n",
    "    ::aie::vector<uint8_t, 64> buffer; \n",
    "\n",
    "    // divide by vectorization factor (64)\n",
    "    uint32_t loop_count = nbytes >> 6; \n",
    "    \n",
    "    for(int i=0; i<loop_count; i++) {\n",
    "        \n",
    "         // load 64 elements into the buffer\n",
    "        buffer = ::aie::load_v<64>(in_buffer);\n",
    "\n",
    "        // store buffer into the out buffer\n",
    "        ::aie::store_v(out_buffer, buffer); \n",
    "\n",
    "         // We need to increment the buffers by 64 each iteration now\n",
    "        in_buffer += 64;\n",
    "        out_buffer += 64;\n",
    "    }\n",
    "}\n",
    "```"
   ]
  },
  {
   "cell_type": "markdown",
   "id": "68d77a19-2061-4c08-a1db-5e31f0e5d084",
   "metadata": {},
   "source": [
    "### Explaining the code\n",
    "\n",
    "The C++ code defines a function named `passthrough_vectorized()` that operates on arrays of 8-bit unsigned integers (uint8_t). Like the first passthrough example we saw, this function copies data from an input buffer to an output buffer in a vectorized manner, without any other processing. By vectorizing this example, it processes data in chunks of 64 elements at a time for improved performance.\n",
    "Breaking this code down line by line:\n",
    "\n",
    "#### Declare a vector\n",
    "\n",
    "```\n",
    "::aie::vector<uint8_t,64> buffer;\n",
    "```\n",
    "\n",
    "This line declares a vector named buffer, which can hold 64 elements of uint8_t type."
   ]
  },
  {
   "cell_type": "markdown",
   "id": "057b1264-2e67-4d1f-95a4-4318c362595f",
   "metadata": {},
   "source": [
    "#### Calculate the number of loop iterations\n",
    "\n",
    "```c++\n",
    "uint32_t loop_count = nbytes >> 6;\n",
    "```\n",
    "\n",
    "This line calculates the number of iterations required to process the data. It shifts the nbytes (number of bytes) to the right by 6 bits, effectively dividing it by 64 (2<sup>6</sup>). This determines how many 64-element chunks there are in the data to be processed."
   ]
  },
  {
   "cell_type": "markdown",
   "id": "1056546a-0d2b-478d-a016-a8047fe7556b",
   "metadata": {},
   "source": [
    "#### Create a loop and load input data\n",
    "\n",
    "```c++\n",
    "for(int i=0; i<loop_count; i++) {\n",
    "```\n",
    "\n",
    "This initiates a loop that will run loop_count times, with i as the loop counter\n",
    "\n",
    "```c++\n",
    "buffer = ::aie::load_v<64>(in_buffer);\n",
    "```\n",
    "\n",
    "Inside the loop, this line loads 64 elements from the in_buffer into the buffer. The load vectorized operation is provided by the ::aie:: library. It effectively copies 64-Byte from the data memory to one of the vector registers of the NPU array."
   ]
  },
  {
   "cell_type": "markdown",
   "id": "7f18a108-f26b-459f-967f-7e611e37a960",
   "metadata": {},
   "source": [
    "#### Store the result\n",
    "\n",
    "```c++\n",
    "::aie::store_v(out_buffer, buffer);\n",
    "```\n",
    "\n",
    "The input is loaded into a vector register in the VPU. For this *passthrough* software kernel, the input passes unmodified through the VPU. The ::aie::stores_v writes the result from the vector registers back to the output memory buffer. The store operation effectively copies the 64 elements from the VPU to the local data memory. "
   ]
  },
  {
   "cell_type": "markdown",
   "id": "507a951d-e2a5-4c3d-be0c-a76e63d8f9a7",
   "metadata": {},
   "source": [
    "#### Increment the counters\n",
    "\n",
    "```c++\n",
    "input_buffer += 64;\n",
    "output_buffer += 64;\n",
    "```\n",
    "\n",
    "After processing a chunk of 64-element, both buffer pointers are incremented by 64 to prepare for the next chunk of data.\n",
    "\n",
    "#### Vectorized software kernel conclusion\n",
    "\n",
    "The function continues the loop until it has processed all the data in nbytes. The use of vectorized operations allows load and store access and copying, as it operates on larger data chunks at a time. This will result in significant performance improvements compared to scalar processing (processing one element at a time)."
   ]
  },
  {
   "cell_type": "markdown",
   "id": "4c9a03ac-5309-4837-a97f-36f081545815",
   "metadata": {},
   "source": [
    "\n",
    "---\n"
   ]
  },
  {
   "cell_type": "markdown",
   "id": "716c5259-d652-49ae-8b2c-bb794a7b4796",
   "metadata": {
    "tags": []
   },
   "source": [
    "## Writing a Vectorized Threshold Kernel\n",
    "\n",
    "Rather than build the simple passthrough kernel, we will go straight to a vectorized threshold kernel. \n",
    "\n",
    "The overall objective of a vectorized threshold kernel is to implement the same *threshold functionality* we saw in an earlier example, but parallelized so that it can process multiple pixels in each iteration. This will significantly reduce the time the kernel needs to iterate in its innermost loop, resulting in a noticeable speed-up.\n",
    "\n",
    "Each RGBA pixel is 4-Byte so we choose a vector data type of length 32-bit to represent each pixel in our compute tile.  Since our vector processing is 512-bit wide, we can now process 16 RGBA pixels per operation. "
   ]
  },
  {
   "cell_type": "markdown",
   "id": "a4358a7c-72d7-4b25-acfd-c27c8f10c45c",
   "metadata": {
    "tags": []
   },
   "source": [
    "Start by importing the `npu` package:"
   ]
  },
  {
   "cell_type": "code",
   "execution_count": null,
   "id": "580ea5a4-5b9a-4735-b92e-ede8ca3d04d5",
   "metadata": {},
   "outputs": [],
   "source": [
    "import npu"
   ]
  },
  {
   "cell_type": "markdown",
   "id": "43c79728-4d98-4dc1-b166-03de18120c02",
   "metadata": {},
   "source": [
    "This kernel will have the same functionality as the kernel defined in the previous notebook but with vector operations replacing the scalar operations.\n",
    "\n",
    "The primary AI Engine API operations we will use are:\n",
    "\n",
    "| ::aie:: call   | Operation Performed  |\n",
    "| --------------------- | -------------------------------------- |\n",
    "| ::aie::load_v<>()  | Vector load  |\n",
    "| ::aie::store_v()   | Vector store  |\n",
    "| ::aie::broadcast<>()  | Replicate arg_1 in each data lane of vector in arg_2. We will use this to pass the RunTime 'threshold' parameter to each data lane  |\n",
    "| ::aie::zeros<>() | Create a vector of zeros with the specified number of lanes and data type |\n",
    "| ::aie::lt<>()  | Vector less than comparison |\n",
    "| ::aie::mask<>()  | Vector compare arg1 with arg2 with resulting Boolean mask in arg3  |\n",
    "| ::aie::select()  | Select arg1 or arg2 based on mask in arg3  |\n",
    "\n",
    "Let us look at the different portions of our kernel to explore how this works. The completed software kernel code is provided here:"
   ]
  },
  {
   "cell_type": "code",
   "execution_count": null,
   "id": "73b9ef56-3850-4228-966c-857109c2edf9",
   "metadata": {},
   "outputs": [],
   "source": [
    "%%kernel\n",
    "\n",
    "void threshold_vec(uint8_t *in_buffer, uint8_t *out_buffer,\n",
    "                   uint32_t nbytes,\n",
    "                   uint8_t r_threshold, uint8_t g_threshold, uint8_t b_threshold)\n",
    "{\n",
    "    // Vector lanes\n",
    "    const uint8_t vector_lanes = 64;\n",
    "    // Value of saturated pixels\n",
    "    const uint8_t saturated = 255;\n",
    "\n",
    "    // Declare 512-bit wide vectors\n",
    "    ::aie::vector<uint8_t, vector_lanes> input_pixels;\n",
    "    ::aie::vector<uint8_t, vector_lanes> output_pixels;\n",
    "    ::aie::vector<uint8_t, vector_lanes> threshold_vector;\n",
    "    ::aie::vector<uint8_t, vector_lanes> saturation_vector;\n",
    "    ::aie::vector<uint8_t, vector_lanes> zeros_vector = ::aie::zeros<uint8_t, 64>();\n",
    "\n",
    "    // Broadcast saturated value into all 64 lanes of saturation_vector\n",
    "    saturation_vector = ::aie::broadcast<uint8_t, vector_lanes>(saturated);\n",
    "\n",
    "    // Create a new uint32 for the pixel threshold values, and concatenate the RTP values \n",
    "    uint32_t pixel_rtps32;\n",
    "    pixel_rtps32 = (uint32_t)b_threshold << 16 | \n",
    "                   (uint32_t)g_threshold << 8 |\n",
    "                   (uint32_t)r_threshold;\n",
    "\n",
    "    // Broadcast threshold values into the kernel 32-bit at a time \n",
    "    threshold_vector =::aie::broadcast<uint32_t, 16>(pixel_rtps32).cast_to<uint8_t>();\n",
    "\n",
    "    // Vectorized thresholding loop\n",
    "    uint16_t loop_count = (nbytes) >> 6;  \n",
    "    for(int j=0; j<loop_count; j++) {\n",
    "\n",
    "        // Vector load pixels and mask\n",
    "        input_pixels = ::aie::load_v<vector_lanes>(in_buffer); \n",
    "\n",
    "        // Create 64-bit threshold status register\n",
    "        ::aie::mask<64> threshold_status;\n",
    "        // Capture Boolean results of thresholding\n",
    "        threshold_status = ::aie::lt(threshold_vector, input_pixels);\n",
    "\n",
    "        // Vector select actual pixel values using threshold_status as mask\n",
    "        output_pixels = ::aie::select(zeros_vector, saturation_vector, threshold_status);\n",
    "        // Vector store thresholded pixels in output buffer\n",
    "        ::aie::store_v(out_buffer, output_pixels);   \n",
    "\n",
    "        // Advance buffer pointers by vectorization factor\n",
    "        in_buffer += vector_lanes;\n",
    "        out_buffer += vector_lanes;\n",
    "    }\n",
    "}"
   ]
  },
  {
   "cell_type": "markdown",
   "id": "ad902240",
   "metadata": {},
   "source": [
    "\n",
    "---\n"
   ]
  },
  {
   "cell_type": "markdown",
   "id": "d15137be-11f4-47bd-8d3e-30155ab6a580",
   "metadata": {},
   "source": [
    "## Examining the Kernel\n",
    "\n",
    "The vectorized kernel code above looks different from those in the previous notebooks. It uses APIs from the AI Engine library `::aie` to perform vector operations. To explain this kernel, we are going to break it up into two main parts:\n",
    "\n",
    "1. The initialization, i.e., the bit before the for loop.\n",
    "2. The inner loop body, i.e., the bit inside the innermost loop.\n",
    "\n",
    "\n",
    "### Initialization\n",
    "\n",
    "The majority of the computation work that the kernel performs is within the innermost loop; however, before we can get to that, we need to set up some vectors that we are going to use within that inner loop. \n",
    "\n",
    "We start by defining some constants. The individual red, green and blue and alpha values of the pixel are 8-bit. We will use unsigned int8 as the vector data type so that we can operate on each pixel component. As the AI Engine datapath is 512-bit wide and supports 64 8-bit lanes, we define a constant for the number of lanes. Each pixel is 32-bit, so we will be able to process 16 pixels at a time. \n",
    "\n",
    "We will also define a `saturated` value we will set pixel components to if it exceeds the threshold. 255 is the maximum value for an unsigned int8. \n",
    "\n",
    "```c++\n",
    "    const uint8_t vector_lanes = 64;\n",
    "    const uint8_t saturated = 255;\n",
    "```"
   ]
  },
  {
   "cell_type": "markdown",
   "id": "1609e031-0671-47ab-8209-cad0de14ed96",
   "metadata": {},
   "source": [
    "Next, we declare vectors for the input, output, a threshold vector, and a saturation vector. Each of these vectors is 512-bit wide (64 lanes x 8-bit). \n",
    "\n",
    "The `saturation_vector` will be used for the values that we want our pixels to be set to if they are over the threshold value. We will use the `threshold_vector` for the pixel-wise comparison in our inner loop. \n",
    "\n",
    "```c++\n",
    "    // Declare 512-bit wide vectors\n",
    "    ::aie::vector<uint8_t, vector_lanes> input_pixels;\n",
    "    ::aie::vector<uint8_t, vector_lanes> output_pixels;\n",
    "    ::aie::vector<uint8_t, vector_lanes> threshold_vector;\n",
    "    ::aie::vector<uint8_t, vector_lanes> saturation_vector;\n",
    "    ::aie::vector<uint8_t, vector_lanes> zeros_vector = ::aie::zeros<uint8_t, 64>();\n",
    "```"
   ]
  },
  {
   "cell_type": "markdown",
   "id": "5eb19424-b650-4c1a-b3cd-20b221febee3",
   "metadata": {},
   "source": [
    "The next line initializes the `saturation_vector`. This is done using the `::aie::broadcast()` function, which copies or broadcasts the saturated value into each lane of the vector. \n",
    "\n",
    "```c++\n",
    "    ::aie::vector<uint8_t, 64> saturation_vector = ::aie::broadcast<uint8_t, 64>(saturated);\n",
    "```"
   ]
  },
  {
   "cell_type": "markdown",
   "id": "f2981d2d-9bad-4901-b207-4b8fc07e7a6f",
   "metadata": {},
   "source": [
    "<center><img src=\"./images/png/sat_vec_broadcast.png\" style=\"max-width:70%\"></center>"
   ]
  },
  {
   "cell_type": "markdown",
   "id": "6dc7b51f-d188-493e-b9f1-da93ff151a2e",
   "metadata": {},
   "source": [
    "The next lines create a 32-bit unsigned int which will store the combined values from the individual 8-bit RGBA components. The values are combined by shifting and using a bitwise OR. Red is bits 0-7, green is bits 8-15, and blue is bits 16-23. The alpha channel is bits 25-31 but is not used so ORing with 0x0 ensures these bits are set these bits to zero. \n",
    "\n",
    "```c++\n",
    "    uint32_t pixel_rtps32;\n",
    "    pixel_rtps32 = 0x0 |\n",
    "                   (uint32_t)b_threshold << 16 | \n",
    "                   (uint32_t)g_threshold << 8 |\n",
    "                   (uint32_t)r_threshold;\n",
    "```"
   ]
  },
  {
   "cell_type": "markdown",
   "id": "d024f33a-4516-4a59-82a5-f37dd59fe766",
   "metadata": {},
   "source": [
    "The next line is a little complicated. We start from `pixel_rtps32` to create the `threshold_vector`.\n",
    "\n",
    "Broadcast will create a new temporary variable, and broadcast this to the `threshold_vector`. First, we broadcast 16x 32-bit combined RGBA values, but cast them back to uint8 types to fill the 64x 8-bit lanes of the threshold_vector. \n",
    "\n",
    "```c++\n",
    "    // Broadcast threshold values into %%kernel 32 bits at a time \n",
    "    threshold_vector =::aie::broadcast<uint32_t, 16>(pixel_rtps32).cast_to<uint8_t>();\n",
    "```"
   ]
  },
  {
   "cell_type": "markdown",
   "id": "1c798d0f-9127-4eb6-82a5-af85ec5be89c",
   "metadata": {},
   "source": [
    "The `threshold_vector` vector will be compared with our input RGBA vector."
   ]
  },
  {
   "cell_type": "markdown",
   "id": "571f17da-cd86-4b60-b81a-cf3f2571cac6",
   "metadata": {},
   "source": [
    "<center><img src=\"./images/png/t_vec_broadcast.png\" style=\"max-width:70%\"></center>"
   ]
  },
  {
   "cell_type": "markdown",
   "id": "55402135-197e-4989-aed7-6c1adb452da8",
   "metadata": {},
   "source": [
    "### Inner loop body\n",
    "\n",
    "The inner loop of our kernel is as follows:\n",
    "```c++\n",
    "    uint16_t loop_count = (nbytes) >> 6;  \n",
    "    for(int j=0; j<loop_count; j++) {\n",
    "        \n",
    "        // Vector load pixels and mask\n",
    "        input_pixels = ::aie::load_v<vector_lanes>(in_buffer); \n",
    "        \n",
    "        // Create 64-bit threshold status register\n",
    "        ::aie::mask<64> threshold_status;\n",
    "        // Capture Boolean results of thresholding\n",
    "        threshold_status = ::aie::lt(threshold_vector, input_pixels);\n",
    "        \n",
    "        // Vector select actual pixel values using threshold_status as mask\n",
    "        output_pixels = ::aie::select(zeros_vector, saturation_vector, threshold_status);\n",
    "        // Vector store thresholded pixels in output buffer\n",
    "        ::aie::store_v(out_buffer, output_pixels);   \n",
    "        \n",
    "        // Advance buffer pointers by vectorization factor\n",
    "        in_buffer += vector_lanes;\n",
    "        out_buffer += vector_lanes;\n",
    "    }\n",
    "```"
   ]
  },
  {
   "cell_type": "markdown",
   "id": "08e6d1cd",
   "metadata": {},
   "source": [
    "#### Setup the loop counter and load input data\n",
    "\n",
    "The first thing to notice about the inner loop is that the bounds have changed; we can see that it has been divided by 64 with the `loop_count = nbytes >>6;` as we are processing 64 lanes in parallel in our vector operations. \n",
    "\n",
    "Inside the loop, we load into the input_pixels vector. A vector of 64-element is loaded from the input data buffer into `input_pixels` vector, based on the current location that `in_buffer` is pointing to, our input buffer pointer.\n",
    "\n",
    "```c++\n",
    "    input_pixels = ::aie::load_v<vector_lanes>(in_buffer); \n",
    "```\n",
    "\n",
    "Notice we use the `::aie::load_v()` vector load function. This is equivalent to reading a pointer in standard C, except doing this in C would require doing this 64 times for 8-bit types, or 16 times for 32-bit types. \n",
    "\n"
   ]
  },
  {
   "cell_type": "markdown",
   "id": "0935e70f-a00a-42bf-971d-4b01546974ce",
   "metadata": {},
   "source": [
    "#### Compare input vector against threshold and generate a mask\n",
    "\n",
    "Next, we declare a 64-bit `threshold_status` mask. In the following line we use the `aie::lt()` which is a *less than* vector operation. Perform an element-wise less than operation between our new input vector `input_pixels` and the threshold vector `threshold_vector` we made in the initialization step to produce a 64-element mask vector.\n",
    "If the comparison is true, a 1 is written, or a 0 if the comparison is false. \n",
    "\n",
    "```c++\n",
    "    ::aie::mask<64> threshold_status;\n",
    "    \n",
    "    threshold_status = ::aie::lt(threshold_vector, input_pixels);\n",
    "```\n",
    "\n",
    "Both these operations are shown visually below:\n",
    "\n",
    "<center><img src=\"./images/png/vec_gt_mask.png\" style=\"max-height: 400px; width:auto; height:auto;\"></center>\n",
    "<center><strong>Loading and thresholding 16 RGBA pixels</strong></center>"
   ]
  },
  {
   "cell_type": "markdown",
   "id": "51f89056-a6ec-4e42-bc11-9c37f4ddd0eb",
   "metadata": {},
   "source": [
    "Once we have a mask of the element-wise comparisons between our vector and our threshold values, we use it to select whether the RGB channels of each pixel is set zero or is set it to the maximum value. The following lines from the inner loop above achieve this:\n",
    "\n",
    "```c++\n",
    "        output_pixels = ::aie::select(zeros_vector, saturation_vector, threshold_status);\n",
    "```\n",
    "\n",
    "<center><img src=\"./images/png/select_vec_store_v.png\" style=\"max-height: 550px; width:auto; height:auto;\"></center>\n",
    "<center><strong>Selecting and writing 16 RGBA pixels</strong></center>"
   ]
  },
  {
   "cell_type": "markdown",
   "id": "7ee6f1c8-f5b6-4586-9ca5-1c65fd654ad1",
   "metadata": {},
   "source": [
    "The output vector can then be written back to the output data memory buffer using `::aie::store_v()`\n",
    "\n",
    "```c++\n",
    "    ::aie::store_v(out_buffer, output_pixels);   \n",
    "```\n",
    "\n",
    "The last step is to increment the input and output pointers. "
   ]
  },
  {
   "cell_type": "markdown",
   "id": "32e5f61d",
   "metadata": {},
   "source": [
    "\n",
    "---\n"
   ]
  },
  {
   "cell_type": "markdown",
   "id": "31d9eb2a",
   "metadata": {},
   "source": [
    "## Build the Application\n",
    "\n",
    "Let us build and run this new vectorized version and see if we get a smoother response in the output. \n",
    "\n",
    "**Run the cell below to build the application.**"
   ]
  },
  {
   "cell_type": "code",
   "execution_count": null,
   "id": "301edbda-f053-4699-8cb4-9bcd160d84fb",
   "metadata": {},
   "outputs": [],
   "source": [
    "import numpy as np\n",
    "\n",
    "from npu.lib.graphs.graph_1ct import RGB720pBuilder\n",
    "\n",
    "img_in = np.zeros(shape=(720,1280, 4), dtype=np.uint8)\n",
    "img_out = np.zeros(shape=(720,1280, 4), dtype=np.uint8)\n",
    "\n",
    "app_builder = RGB720pBuilder(kernel=threshold_vec)\n",
    "app_builder.build(img_in, img_out)"
   ]
  },
  {
   "cell_type": "markdown",
   "id": "220c7f93",
   "metadata": {},
   "source": [
    "\n",
    "---\n"
   ]
  },
  {
   "cell_type": "markdown",
   "id": "f44a5309-3e34-48aa-9e0e-7eed51beaa25",
   "metadata": {},
   "source": [
    "## Run the Application\n",
    "\n",
    "Now that our application is built, let us look at the output."
   ]
  },
  {
   "cell_type": "code",
   "execution_count": null,
   "id": "9f3a72d0-fa9e-4a9f-bcfd-9d20fbb78800",
   "metadata": {},
   "outputs": [],
   "source": [
    "from npu.lib.graphs.image_looper_720p import ImageLooper720p\n",
    "\n",
    "app = ImageLooper720p(img='images/jpg/ryzenai_future_starts_now.jpg', \n",
    "                      xclbin='threshold_vec.xclbin', \n",
    "                      rtps={\"r_threshold\" : { \"type\": \"slider\", \"value\": 0, \"min\": 0, \"max\" : 255},\n",
    "                            \"g_threshold\" : { \"type\": \"slider\", \"min\": 0, \"max\" : 255},\n",
    "                            \"b_threshold\" : { \"type\": \"slider\", \"min\": 0, \"max\" : 255}})"
   ]
  },
  {
   "cell_type": "code",
   "execution_count": null,
   "id": "74738af1-80db-462d-a1f5-500d2a32cfdd",
   "metadata": {},
   "outputs": [],
   "source": [
    "app.start()"
   ]
  },
  {
   "cell_type": "markdown",
   "id": "a231487b-cafb-4b60-b70b-a863dc810802",
   "metadata": {},
   "source": [
    "The response to changes in the RTPs are now much smoother thanks to vectorizing the kernel.\n",
    "\n",
    "<div class=\"alert alert-info\" role=\"info\">\n",
    "    Vectorization help us achieve real-time performance for this video processing application.\n",
    "</div>"
   ]
  },
  {
   "cell_type": "markdown",
   "id": "d95ec4b9",
   "metadata": {},
   "source": [
    "\n",
    "---\n"
   ]
  },
  {
   "cell_type": "markdown",
   "id": "a2a812d2",
   "metadata": {},
   "source": [
    "## Next Steps\n",
    "\n",
    "In the next notebook we will learn how to use the `AppBuilder` class to create your own custom dataflow graph that can run in the NPU."
   ]
  },
  {
   "cell_type": "markdown",
   "id": "91ee6fed-ed8a-4349-8924-6c1d04b266c2",
   "metadata": {},
   "source": [
    "\n",
    "---\n",
    "\n",
    "<center>\n",
    "Copyright&copy; 2023 AMD, Inc\n",
    "</center>\n",
    "<center>\n",
    "SPDX-License-Identifier: MIT\n",
    "</center>"
   ]
  }
 ],
 "metadata": {
  "kernelspec": {
   "display_name": "Python 3 (ipykernel)",
   "language": "python",
   "name": "python3"
  },
  "language_info": {
   "codemirror_mode": {
    "name": "ipython",
    "version": 3
   },
   "file_extension": ".py",
   "mimetype": "text/x-python",
   "name": "python",
   "nbconvert_exporter": "python",
   "pygments_lexer": "ipython3",
   "version": "3.9.2"
  },
  "widgets": {
   "application/vnd.jupyter.widget-state+json": {
    "state": {
     "127b464c9e3d4e779e77ec752496a56f": {
      "model_module": "@jupyter-widgets/controls",
      "model_module_version": "2.0.0",
      "model_name": "HBoxModel",
      "state": {
       "children": [
        "IPY_MODEL_981e2647168144d8808c3f4ee352e2a0",
        "IPY_MODEL_4183976322c44786a1cfd583b4e6e4b1",
        "IPY_MODEL_fe718cafcaf7478ca2d6def45f2be364"
       ],
       "layout": "IPY_MODEL_e80a4ac9fbf1414b8874a0ba24a410d6"
      }
     },
     "4183976322c44786a1cfd583b4e6e4b1": {
      "model_module": "@jupyter-widgets/controls",
      "model_module_version": "2.0.0",
      "model_name": "IntSliderModel",
      "state": {
       "behavior": "drag-tap",
       "description": "g_thresh",
       "layout": "IPY_MODEL_9e3cef5821ae454280bf63a7f19b6d0a",
       "max": 255,
       "style": "IPY_MODEL_9e802f70d0c240a39ad3032203ed1142"
      }
     },
     "5c8b07ae9b6148c38633663b0840f26f": {
      "model_module": "@jupyter-widgets/controls",
      "model_module_version": "2.0.0",
      "model_name": "ButtonModel",
      "state": {
       "description": "Stop",
       "layout": "IPY_MODEL_8ee5c6ebad8641bfa6bb0bb918644de9",
       "style": "IPY_MODEL_7fd3151a6146419fa9fc623bec9ad17a",
       "tooltip": null
      }
     },
     "75e0229784e6424598919a0b2e5f7b7d": {
      "model_module": "@jupyter-widgets/base",
      "model_module_version": "2.0.0",
      "model_name": "LayoutModel",
      "state": {}
     },
     "7fd3151a6146419fa9fc623bec9ad17a": {
      "model_module": "@jupyter-widgets/controls",
      "model_module_version": "2.0.0",
      "model_name": "ButtonStyleModel",
      "state": {
       "font_family": null,
       "font_size": null,
       "font_style": null,
       "font_variant": null,
       "font_weight": null,
       "text_color": null,
       "text_decoration": null
      }
     },
     "8ee5c6ebad8641bfa6bb0bb918644de9": {
      "model_module": "@jupyter-widgets/base",
      "model_module_version": "2.0.0",
      "model_name": "LayoutModel",
      "state": {}
     },
     "981e2647168144d8808c3f4ee352e2a0": {
      "model_module": "@jupyter-widgets/controls",
      "model_module_version": "2.0.0",
      "model_name": "IntSliderModel",
      "state": {
       "behavior": "drag-tap",
       "description": "r_thresh",
       "layout": "IPY_MODEL_a3ba52d4fc5948d58a13165daf73dd0d",
       "max": 255,
       "style": "IPY_MODEL_cdf127c406ba495d856324650d282fd8"
      }
     },
     "9e3cef5821ae454280bf63a7f19b6d0a": {
      "model_module": "@jupyter-widgets/base",
      "model_module_version": "2.0.0",
      "model_name": "LayoutModel",
      "state": {}
     },
     "9e802f70d0c240a39ad3032203ed1142": {
      "model_module": "@jupyter-widgets/controls",
      "model_module_version": "2.0.0",
      "model_name": "SliderStyleModel",
      "state": {
       "description_width": "auto"
      }
     },
     "a3ba52d4fc5948d58a13165daf73dd0d": {
      "model_module": "@jupyter-widgets/base",
      "model_module_version": "2.0.0",
      "model_name": "LayoutModel",
      "state": {}
     },
     "c337b16b2aae42e3ad701fc8995c3416": {
      "buffers": [
       {
        "data": "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",
        "encoding": "base64",
        "path": [
         "value"
        ]
       }
      ],
      "model_module": "@jupyter-widgets/controls",
      "model_module_version": "2.0.0",
      "model_name": "ImageModel",
      "state": {
       "format": "jpeg",
       "layout": "IPY_MODEL_d813dd6e9a0a41f3b4536e0688ed657f",
       "value": {}
      }
     },
     "cdf127c406ba495d856324650d282fd8": {
      "model_module": "@jupyter-widgets/controls",
      "model_module_version": "2.0.0",
      "model_name": "SliderStyleModel",
      "state": {
       "description_width": "auto"
      }
     },
     "d0dec98f211d494d8ff2af89647c1cfc": {
      "model_module": "@jupyter-widgets/controls",
      "model_module_version": "2.0.0",
      "model_name": "SliderStyleModel",
      "state": {
       "description_width": "auto"
      }
     },
     "d813dd6e9a0a41f3b4536e0688ed657f": {
      "model_module": "@jupyter-widgets/base",
      "model_module_version": "2.0.0",
      "model_name": "LayoutModel",
      "state": {}
     },
     "e80a4ac9fbf1414b8874a0ba24a410d6": {
      "model_module": "@jupyter-widgets/base",
      "model_module_version": "2.0.0",
      "model_name": "LayoutModel",
      "state": {}
     },
     "fe718cafcaf7478ca2d6def45f2be364": {
      "model_module": "@jupyter-widgets/controls",
      "model_module_version": "2.0.0",
      "model_name": "IntSliderModel",
      "state": {
       "behavior": "drag-tap",
       "description": "b_thresh",
       "layout": "IPY_MODEL_75e0229784e6424598919a0b2e5f7b7d",
       "max": 255,
       "style": "IPY_MODEL_d0dec98f211d494d8ff2af89647c1cfc"
      }
     }
    },
    "version_major": 2,
    "version_minor": 0
   }
  }
 },
 "nbformat": 4,
 "nbformat_minor": 5
}
