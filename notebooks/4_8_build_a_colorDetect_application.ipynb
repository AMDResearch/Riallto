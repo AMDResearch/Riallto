{
 "cells": [
  {
   "cell_type": "markdown",
   "id": "2e1f5f65-9726-4df6-9fc5-21b3e375e1f2",
   "metadata": {},
   "source": [
    "# Reusing Software Kernels\n",
    "\n",
    "## Goals\n",
    "\n",
    "* Learn how to build an application from the library of available software kernels\n",
    "\n",
    "* See an example of multicasting data from the memory tile\n",
    "\n",
    "---\n"
   ]
  },
  {
   "cell_type": "markdown",
   "id": "6118216e-b8ab-484c-b14e-dcbb12e3de01",
   "metadata": {},
   "source": [
    "## Build a Color Detection Application\n",
    "\n",
    "We are going to build a simpler version of the color detection application we saw in a previous notebook. The image below shows the data flow graph that we are going to implement:\n",
    "\n",
    "<center><img src=\"./images/png/color_detect_dev_dfg.png\" style=\"max-height: 150px; width:auto; height:auto;\"></center>\n",
    "<center><strong>Color detection data flow graph</strong></center>"
   ]
  },
  {
   "cell_type": "markdown",
   "id": "58589d0a-dee2-4d24-9028-ca03ef13c3e0",
   "metadata": {},
   "source": [
    "* `rgb2hsv()` converts the RGBA input image to [HSV (Hue Saturation Value)](https://en.wikipedia.org/wiki/HSL_and_HSV). This will allow us to use Hue to select a range of colors to filter. \n",
    "\n",
    "* `inRange()` is used for color-based image segmentation. It can isolate or filter out pixels in an image that fall within a specified color range, while ignoring the pixels outside that range. The hue value of each pixel will be compared against a range of values that you can specify. The range of values are passed as runtime parameters to the software kernel. \n",
    "\n",
    "   The output of `inRange()` is effectively a mask where pixels within the range are set to their max value, or set to zero if they are outside the range. \n",
    "  \n",
    "* `rgb2gray()` converts the output to grayscale. \n",
    "   \n",
    "* `bitwiseand()` carries out a bitwise AND between the mask and the original input image. Pixels within the range will be unchanged. Pixels outside the range will be filtered out. This will be the output returned from the application.   \n",
    "\n",
    "In this example the `rgb2hsv` and `bitwiseand` software kernels will be mapped to two different compute tiles. Both these software kernels need the input data as indicated in the graph. You will see how the input data is *multicast* by the memory tile to the two software kernels.  \n",
    "\n",
    "<div class=\"alert alert-info\" role=\"info\">\n",
    "  <i>Broadcast</i> sends data from one source to <i>every</i> node in a system. <i>Multicast</i> sends data from one source to <b>selected</b> nodes in the system.\n",
    "</div>\n",
    "\n"
   ]
  },
  {
   "cell_type": "markdown",
   "id": "a3d9edb2-0fb3-4013-bb66-e488ebb1432f",
   "metadata": {},
   "source": [
    "### Import kernels and modules\n",
    "\n",
    "Start by importing the software kernels that we will use in the design:"
   ]
  },
  {
   "cell_type": "code",
   "execution_count": 1,
   "id": "63775690-9520-478f-8902-750c9d04f340",
   "metadata": {},
   "outputs": [],
   "source": [
    "from npu.lib import Rgba2Hue, Gray2Rgba, BitwiseAnd, InRange"
   ]
  },
  {
   "cell_type": "markdown",
   "id": "d1b0b805-a8f5-4d85-95e4-f37e52c17207",
   "metadata": {},
   "source": [
    "Next import the modules we will need:"
   ]
  },
  {
   "cell_type": "code",
   "execution_count": 2,
   "id": "a6bff337-493c-4ea4-a9cd-1b4e094b0920",
   "metadata": {},
   "outputs": [],
   "source": [
    "import numpy as np\n",
    "\n",
    "from npu.build.appbuilder import AppBuilder\n",
    "from npu.build.mtkernel import MTPassThrough # Memory Tile modules"
   ]
  },
  {
   "cell_type": "markdown",
   "id": "90e0b7d1-94a3-453c-baa4-504fd3fafa1e",
   "metadata": {},
   "source": [
    "### Create the color detection application class\n",
    "\n",
    "* Instantiate each of the kernels in the `__init__` method. \n",
    "* Define the call graph as per the dataflow graph.\n",
    "\n",
    "As before, this application will process 720p (1280x720) RGBA images, and one row will be passed to the application for each iteration.\n"
   ]
  },
  {
   "cell_type": "code",
   "execution_count": 3,
   "id": "ccd4d344-bad7-4efc-ad81-520065bce6b8",
   "metadata": {},
   "outputs": [],
   "source": [
    "class ColorDetectApplication(AppBuilder):\n",
    "\n",
    "    def __init__(self):\n",
    "        self.rgba2hue = Rgba2Hue()\n",
    "        self.inrange = InRange()\n",
    "        self.gray2rgba = Gray2Rgba()\n",
    "        self.bitwiseand = BitwiseAnd()\n",
    "        self.mtbuffer_in = MTPassThrough()\n",
    "        super().__init__()\n",
    "\n",
    "    def callgraph(self, x_in:np.ndarray, x_out:np.ndarray) -> None:\n",
    "        rows = x_in.shape[0]\n",
    "        bytes_per_row = x_in.shape[1] * x_in.shape[2]\n",
    "        for row in range(rows):\n",
    "            multicast_data = self.mtbuffer_in(x_in[row])\n",
    "            rgba2hue_output = self.rgba2hue(multicast_data, bytes_per_row)\n",
    "            inrange_output = self.inrange(rgba2hue_output, x_in.shape[1], 0, 79)\n",
    "            gray2rgba_output = self.gray2rgba(inrange_output, x_in.shape[1])\n",
    "            bitwiseand_output = self.bitwiseand(gray2rgba_output, multicast_data, bytes_per_row)\n",
    "            x_out[row] = bitwiseand_output"
   ]
  },
  {
   "cell_type": "markdown",
   "id": "8f53a3e4",
   "metadata": {},
   "source": [
    "### Memory tile multicast \n",
    "\n",
    "Notice that `multicast_data` is the output or returned object from the `MTPassThrough()` method. `multicast_data` is then used as an input parameter to both `rgba2hue()` and `bitwiseand()`. When building the graph for this application, the Riallto *tracer* will determine the connections between software kernels. It will implement the movement of this data as a multicast from the memory tile to the two software kernels.\n",
    "\n",
    "In this example we only need to multicast to two compute tiles. In larger application we can use multicast to send data to many compute tiles. The mechanism is the same when data is sent from a memory tile to all (compute) tiles, but rather than call this \"multicast\", the correct terminology for this operation is \"broadcast\". "
   ]
  },
  {
   "cell_type": "markdown",
   "id": "d97ca2a2-bc71-4751-a62d-e606d532e231",
   "metadata": {},
   "source": [
    "### Instantiate the color detection class\n",
    "\n",
    "Declare an instance of the class and allocate an input and an output buffer. "
   ]
  },
  {
   "cell_type": "code",
   "execution_count": 4,
   "id": "67710083-2d0b-4c76-b25f-7e5e1357ef98",
   "metadata": {},
   "outputs": [],
   "source": [
    "app_builder = ColorDetectApplication()\n",
    "\n",
    "x_in = np.zeros(shape=(720, 1280, 4), dtype=np.uint8)\n",
    "x_out = np.zeros(shape=(720, 1280, 4), dtype=np.uint8)"
   ]
  },
  {
   "cell_type": "markdown",
   "id": "7a75d7dd-6613-49f3-8553-bb4a6b7a6f6a",
   "metadata": {},
   "source": [
    "### Build the color detection application"
   ]
  },
  {
   "cell_type": "code",
   "execution_count": 5,
   "id": "48358139-9272-4bc8-91c3-4eee1fd64a32",
   "metadata": {},
   "outputs": [
    {
     "name": "stdout",
     "output_type": "stream",
     "text": [
      "Using cached rgba2hue kernel object file...\n",
      "Using cached in_range kernel object file...\n",
      "Using cached gray2rgba kernel object file...\n",
      "Using cached bitwiseand kernel object file...\n",
      "Building the xclbin...\n",
      "Successfully Building Application... ColorDetectApplication.xclbin & ColorDetectApplication.seq delivered\n"
     ]
    }
   ],
   "source": [
    "app_builder.build(x_in, x_out)"
   ]
  },
  {
   "cell_type": "markdown",
   "id": "f512a408-6f0c-4cd5-8c9a-37a8b8bbce35",
   "metadata": {},
   "source": [
    "## Visualize the Application"
   ]
  },
  {
   "cell_type": "code",
   "execution_count": 6,
   "id": "3ca62909-076f-43c4-b2b7-9360c94ca7fe",
   "metadata": {},
   "outputs": [
    {
     "data": {
      "image/svg+xml": [
       "<svg xmlns=\"http://www.w3.org/2000/svg\" xmlns:xlink=\"http://www.w3.org/1999/xlink\" id=\"svg\" version=\"1.1\" width=\"420\" height=\"980\" viewBox=\"0, 0, 420, 980\">\n",
       "            <defs>\n",
       "                <marker id=\"ic_startarrow\" markerWidth=\"10\" markerHeight=\"7\" refX=\"10\" refY=\"3.5\" orient=\"auto\">\n",
       "                <polygon points=\"0 0, 4 2, 0 4\" fill=\"black\"/>\n",
       "                </marker>\n",
       "                <marker id=\"ic_endarrow\" markerWidth=\"7\" markerHeight=\"4\" refX=\"0\" refY=\"2\" orient=\"auto\" markerUnits=\"strokeWidth\">\n",
       "                    <polygon points=\"0 0, 4 2, 0 4\" fill=\"black\"/>\n",
       "                </marker>\n",
       "\n",
       "                <marker id=\"red_startarrow\" markerWidth=\"10\" markerHeight=\"7\" refX=\"0\" refY=\"2\" orient=\"auto\">\n",
       "                <polygon points=\"0 2, 4 0, 4 4\" fill=\"red\"/>\n",
       "                </marker>\n",
       "                <marker id=\"red_endarrow\" markerWidth=\"7\" markerHeight=\"4\" refX=\"4\" refY=\"2\" orient=\"auto\" markerUnits=\"strokeWidth\">\n",
       "                    <polygon points=\"0 0, 4 2, 0 4\" fill=\"red\"/>\n",
       "                </marker>\n",
       "\n",
       "                <marker id=\"startarrow\" markerWidth=\"10\" markerHeight=\"7\" refX=\"10\" refY=\"3.5\" orient=\"auto\">\n",
       "                <polygon points=\"0 0, 4 2, 0 4\" fill=\"black\"/>\n",
       "                </marker>\n",
       "                <marker id=\"endarrow\" markerWidth=\"10\" markerHeight=\"7\" refX=\"0\" refY=\"3.5\" orient=\"auto\" markerUnits=\"strokeWidth\">\n",
       "                    <polygon points=\"0 0, 4 2, 0 4\" fill=\"black\"/>\n",
       "                </marker>\n",
       "            </defs>\n",
       "            <style>                .ic_animations {                     opacity: 0.8;                 }            </style>\n",
       "            <g id=\"svg\"><rect id=\"border\" class=\"border\" width=\"400\" height=\"960\" x=\"10.0\" y=\"10.0\" stroke=\"black\" stroke-width=\"1\" fill=\"white\"/>\n",
       "<g> <rect id=\"aie_tile0\" class=\"aie_tile\" width=\"180\" height=\"140\" x=\"20\" y=\"20\" stroke=\"black\" stroke-width=\"2\" fill=\"#C2E9FF\"/> </g>\n",
       "<g> <text id=\"text_aie_tile0\" class=\"aie_tile_text\" x=\"20\" y=\"20\" fill=\"\" font-family=\"Arial, Helvetica, sans-serif\"> <tspan x=\"110.0\" y=\"89.3\" dy=\"1em\" font-size=\"1\"> </tspan></text></g>\n",
       "<g> <rect id=\"interconnect_box0\" class=\"interconnect_box\" width=\"40\" height=\"40\" x=\"30\" y=\"30\" stroke=\"black\" stroke-width=\"1\" fill=\"#DBBCBD\"/> </g>\n",
       "<g> <text id=\"text_interconnect_box0\" class=\"interconnect_box_text\" x=\"30\" y=\"30\" fill=\"\" font-family=\"Arial, Helvetica, sans-serif\"> <tspan x=\"50.0\" y=\"49.3\" dy=\"1em\" font-size=\"1\"> </tspan></text></g>\n",
       "<line id=\"ic_h_line0_0\" class=\"interconnect\" x1=\"38.0\" y1=\"45.0\" x2=\"58.0\" y2=\"45.0\" stroke=\"black\" stroke-width=\"1\" fill=\"none\" marker-end=\"url(#ic_endarrow)\"/>\n",
       "<line id=\"ic_h_line0_1\" class=\"interconnect\" x1=\"62.0\" y1=\"55.0\" x2=\"42.0\" y2=\"55.0\" stroke=\"black\" stroke-width=\"1\" fill=\"none\" marker-end=\"url(#ic_endarrow)\"/>\n",
       "<line id=\"ic_h_line0_2\" class=\"interconnect\" x1=\"45.0\" y1=\"62.0\" x2=\"45.0\" y2=\"42.0\" stroke=\"black\" stroke-width=\"1\" fill=\"none\" marker-end=\"url(#ic_endarrow)\"/>\n",
       "<line id=\"ic_h_line0_3\" class=\"interconnect\" x1=\"55.0\" y1=\"38.0\" x2=\"55.0\" y2=\"58.0\" stroke=\"black\" stroke-width=\"1\" fill=\"none\" marker-end=\"url(#ic_endarrow)\"/>\n",
       "<g> <rect id=\"aie_tile_container0\" class=\"aie_tile_container\" width=\"120\" height=\"60.0\" x=\"70\" y=\"90.0\" stroke=\"black\" stroke-width=\"1\" fill=\"#ffffff\"/> </g>\n",
       "<g> <text id=\"text_aie_tile_container0\" class=\"aie_tile_container_text\" x=\"70\" y=\"90.0\" fill=\"\" font-family=\"Arial, Helvetica, sans-serif\"> <tspan x=\"130.0\" y=\"119.3\" dy=\"1em\" font-size=\"1\"> </tspan></text></g>\n",
       "<g> <rect id=\"aie_box0\" class=\"aie_box\" width=\"46.0\" height=\"46.0\" x=\"77.0\" y=\"97.0\" stroke=\"black\" stroke-width=\"1\" fill=\"white\"/> </g>\n",
       "<g> <text id=\"text_aie_box0\" class=\"aie_box_text\" x=\"77.0\" y=\"97.0\" fill=\"black\" font-family=\"Arial, Helvetica, sans-serif\"> <tspan x=\"100.0\" y=\"111.6\" dy=\"1em\" font-size=\"12\"> </tspan></text></g>\n",
       "<g> <rect id=\"memory_outline_0_8\" x=\"137.0\" y=\"97.0\" height=\"46.0\" width=\"5.75\" style=\"stroke:#f0f0f0; fill:#fefefe; stroke-opacity:0.5\"> </rect> </g>\n",
       "<g> <rect id=\"memory_outline_1_8\" x=\"142.75\" y=\"97.0\" height=\"46.0\" width=\"5.75\" style=\"stroke:#f0f0f0; fill:#fefefe; stroke-opacity:0.5\"> </rect> </g>\n",
       "<g> <rect id=\"memory_outline_2_8\" x=\"148.5\" y=\"97.0\" height=\"46.0\" width=\"5.75\" style=\"stroke:#f0f0f0; fill:#fefefe; stroke-opacity:0.5\"> </rect> </g>\n",
       "<g> <rect id=\"memory_outline_3_8\" x=\"154.25\" y=\"97.0\" height=\"46.0\" width=\"5.75\" style=\"stroke:#f0f0f0; fill:#fefefe; stroke-opacity:0.5\"> </rect> </g>\n",
       "<g> <rect id=\"memory_outline_4_8\" x=\"160.0\" y=\"97.0\" height=\"46.0\" width=\"5.75\" style=\"stroke:#f0f0f0; fill:#fefefe; stroke-opacity:0.5\"> </rect> </g>\n",
       "<g> <rect id=\"memory_outline_5_8\" x=\"165.75\" y=\"97.0\" height=\"46.0\" width=\"5.75\" style=\"stroke:#f0f0f0; fill:#fefefe; stroke-opacity:0.5\"> </rect> </g>\n",
       "<g> <rect id=\"memory_outline_6_8\" x=\"171.5\" y=\"97.0\" height=\"46.0\" width=\"5.75\" style=\"stroke:#f0f0f0; fill:#fefefe; stroke-opacity:0.5\"> </rect> </g>\n",
       "<g> <rect id=\"memory_outline_7_8\" x=\"177.25\" y=\"97.0\" height=\"46.0\" width=\"5.75\" style=\"stroke:#f0f0f0; fill:#fefefe; stroke-opacity:0.5\"> </rect> </g>\n",
       "<g> <rect id=\"memory_outline_0_8\" x=\"137.0\" y=\"97.0\" height=\"46.0\" width=\"5.75\" style=\"stroke:#f0f0f0; fill:#fefefe; stroke-opacity:0.5\"> </rect> </g>\n",
       "<g> <rect id=\"memory_outline_1_8\" x=\"142.75\" y=\"97.0\" height=\"46.0\" width=\"5.75\" style=\"stroke:#f0f0f0; fill:#fefefe; stroke-opacity:0.5\"> </rect> </g>\n",
       "<g> <rect id=\"memory_outline_2_8\" x=\"148.5\" y=\"97.0\" height=\"46.0\" width=\"5.75\" style=\"stroke:#f0f0f0; fill:#fefefe; stroke-opacity:0.5\"> </rect> </g>\n",
       "<g> <rect id=\"memory_outline_3_8\" x=\"154.25\" y=\"97.0\" height=\"46.0\" width=\"5.75\" style=\"stroke:#f0f0f0; fill:#fefefe; stroke-opacity:0.5\"> </rect> </g>\n",
       "<g> <rect id=\"memory_outline_4_8\" x=\"160.0\" y=\"97.0\" height=\"46.0\" width=\"5.75\" style=\"stroke:#f0f0f0; fill:#fefefe; stroke-opacity:0.5\"> </rect> </g>\n",
       "<g> <rect id=\"memory_outline_5_8\" x=\"165.75\" y=\"97.0\" height=\"46.0\" width=\"5.75\" style=\"stroke:#f0f0f0; fill:#fefefe; stroke-opacity:0.5\"> </rect> </g>\n",
       "<g> <rect id=\"memory_outline_6_8\" x=\"171.5\" y=\"97.0\" height=\"46.0\" width=\"5.75\" style=\"stroke:#f0f0f0; fill:#fefefe; stroke-opacity:0.5\"> </rect> </g>\n",
       "<g> <rect id=\"memory_outline_7_8\" x=\"177.25\" y=\"97.0\" height=\"46.0\" width=\"5.75\" style=\"stroke:#f0f0f0; fill:#fefefe; stroke-opacity:0.5\"> </rect> </g>\n",
       "<g> <rect id=\"local_memory_box0\" class=\"local_memory_box\" width=\"46.0\" height=\"46.0\" x=\"137.0\" y=\"97.0\" stroke=\"black\" stroke-width=\"1\" fill=\"None\"/> </g>\n",
       "<g> <text id=\"text_local_memory_box0\" class=\"local_memory_box_text\" x=\"137.0\" y=\"97.0\" fill=\"black\" font-family=\"Arial, Helvetica, sans-serif\"> <tspan x=\"160.0\" y=\"111.6\" dy=\"1em\" font-size=\"12\"> </tspan></text></g>\n",
       "<g> <rect id=\"aie_tile1\" class=\"aie_tile\" width=\"180\" height=\"140\" x=\"20\" y=\"180\" stroke=\"black\" stroke-width=\"2\" fill=\"#C2E9FF\"/> </g>\n",
       "<g> <text id=\"text_aie_tile1\" class=\"aie_tile_text\" x=\"20\" y=\"180\" fill=\"\" font-family=\"Arial, Helvetica, sans-serif\"> <tspan x=\"110.0\" y=\"249.3\" dy=\"1em\" font-size=\"1\"> </tspan></text></g>\n",
       "<g> <rect id=\"interconnect_box1\" class=\"interconnect_box\" width=\"40\" height=\"40\" x=\"30\" y=\"190\" stroke=\"black\" stroke-width=\"1\" fill=\"#DBBCBD\"/> </g>\n",
       "<g> <text id=\"text_interconnect_box1\" class=\"interconnect_box_text\" x=\"30\" y=\"190\" fill=\"\" font-family=\"Arial, Helvetica, sans-serif\"> <tspan x=\"50.0\" y=\"209.3\" dy=\"1em\" font-size=\"1\"> </tspan></text></g>\n",
       "<line id=\"ic_h_line1_0\" class=\"interconnect\" x1=\"38.0\" y1=\"205.0\" x2=\"58.0\" y2=\"205.0\" stroke=\"black\" stroke-width=\"1\" fill=\"none\" marker-end=\"url(#ic_endarrow)\"/>\n",
       "<line id=\"ic_h_line1_1\" class=\"interconnect\" x1=\"62.0\" y1=\"215.0\" x2=\"42.0\" y2=\"215.0\" stroke=\"black\" stroke-width=\"1\" fill=\"none\" marker-end=\"url(#ic_endarrow)\"/>\n",
       "<line id=\"ic_h_line1_2\" class=\"interconnect\" x1=\"45.0\" y1=\"222.0\" x2=\"45.0\" y2=\"202.0\" stroke=\"black\" stroke-width=\"1\" fill=\"none\" marker-end=\"url(#ic_endarrow)\"/>\n",
       "<line id=\"ic_h_line1_3\" class=\"interconnect\" x1=\"55.0\" y1=\"198.0\" x2=\"55.0\" y2=\"218.0\" stroke=\"black\" stroke-width=\"1\" fill=\"none\" marker-end=\"url(#ic_endarrow)\"/>\n",
       "<g> <rect id=\"aie_tile_container1\" class=\"aie_tile_container\" width=\"120\" height=\"60.0\" x=\"70\" y=\"250.0\" stroke=\"black\" stroke-width=\"1\" fill=\"#ffffff\"/> </g>\n",
       "<g> <text id=\"text_aie_tile_container1\" class=\"aie_tile_container_text\" x=\"70\" y=\"250.0\" fill=\"\" font-family=\"Arial, Helvetica, sans-serif\"> <tspan x=\"130.0\" y=\"279.3\" dy=\"1em\" font-size=\"1\"> </tspan></text></g>\n",
       "<g> <rect id=\"aie_box1\" class=\"aie_box\" width=\"46.0\" height=\"46.0\" x=\"77.0\" y=\"257.0\" stroke=\"black\" stroke-width=\"1\" fill=\"white\"/> </g>\n",
       "<g> <text id=\"text_aie_box1\" class=\"aie_box_text\" x=\"77.0\" y=\"257.0\" fill=\"black\" font-family=\"Arial, Helvetica, sans-serif\"> <tspan x=\"100.0\" y=\"271.6\" dy=\"1em\" font-size=\"12\"> </tspan></text></g>\n",
       "<g> <rect id=\"memory_outline_0_8\" x=\"137.0\" y=\"257.0\" height=\"46.0\" width=\"5.75\" style=\"stroke:#f0f0f0; fill:#fefefe; stroke-opacity:0.5\"> </rect> </g>\n",
       "<g> <rect id=\"memory_outline_1_8\" x=\"142.75\" y=\"257.0\" height=\"46.0\" width=\"5.75\" style=\"stroke:#f0f0f0; fill:#fefefe; stroke-opacity:0.5\"> </rect> </g>\n",
       "<g> <rect id=\"memory_outline_2_8\" x=\"148.5\" y=\"257.0\" height=\"46.0\" width=\"5.75\" style=\"stroke:#f0f0f0; fill:#fefefe; stroke-opacity:0.5\"> </rect> </g>\n",
       "<g> <rect id=\"memory_outline_3_8\" x=\"154.25\" y=\"257.0\" height=\"46.0\" width=\"5.75\" style=\"stroke:#f0f0f0; fill:#fefefe; stroke-opacity:0.5\"> </rect> </g>\n",
       "<g> <rect id=\"memory_outline_4_8\" x=\"160.0\" y=\"257.0\" height=\"46.0\" width=\"5.75\" style=\"stroke:#f0f0f0; fill:#fefefe; stroke-opacity:0.5\"> </rect> </g>\n",
       "<g> <rect id=\"memory_outline_5_8\" x=\"165.75\" y=\"257.0\" height=\"46.0\" width=\"5.75\" style=\"stroke:#f0f0f0; fill:#fefefe; stroke-opacity:0.5\"> </rect> </g>\n",
       "<g> <rect id=\"memory_outline_6_8\" x=\"171.5\" y=\"257.0\" height=\"46.0\" width=\"5.75\" style=\"stroke:#f0f0f0; fill:#fefefe; stroke-opacity:0.5\"> </rect> </g>\n",
       "<g> <rect id=\"memory_outline_7_8\" x=\"177.25\" y=\"257.0\" height=\"46.0\" width=\"5.75\" style=\"stroke:#f0f0f0; fill:#fefefe; stroke-opacity:0.5\"> </rect> </g>\n",
       "<g> <rect id=\"memory_outline_0_8\" x=\"137.0\" y=\"257.0\" height=\"46.0\" width=\"5.75\" style=\"stroke:#f0f0f0; fill:#fefefe; stroke-opacity:0.5\"> </rect> </g>\n",
       "<g> <rect id=\"memory_outline_1_8\" x=\"142.75\" y=\"257.0\" height=\"46.0\" width=\"5.75\" style=\"stroke:#f0f0f0; fill:#fefefe; stroke-opacity:0.5\"> </rect> </g>\n",
       "<g> <rect id=\"memory_outline_2_8\" x=\"148.5\" y=\"257.0\" height=\"46.0\" width=\"5.75\" style=\"stroke:#f0f0f0; fill:#fefefe; stroke-opacity:0.5\"> </rect> </g>\n",
       "<g> <rect id=\"memory_outline_3_8\" x=\"154.25\" y=\"257.0\" height=\"46.0\" width=\"5.75\" style=\"stroke:#f0f0f0; fill:#fefefe; stroke-opacity:0.5\"> </rect> </g>\n",
       "<g> <rect id=\"memory_outline_4_8\" x=\"160.0\" y=\"257.0\" height=\"46.0\" width=\"5.75\" style=\"stroke:#f0f0f0; fill:#fefefe; stroke-opacity:0.5\"> </rect> </g>\n",
       "<g> <rect id=\"memory_outline_5_8\" x=\"165.75\" y=\"257.0\" height=\"46.0\" width=\"5.75\" style=\"stroke:#f0f0f0; fill:#fefefe; stroke-opacity:0.5\"> </rect> </g>\n",
       "<g> <rect id=\"memory_outline_6_8\" x=\"171.5\" y=\"257.0\" height=\"46.0\" width=\"5.75\" style=\"stroke:#f0f0f0; fill:#fefefe; stroke-opacity:0.5\"> </rect> </g>\n",
       "<g> <rect id=\"memory_outline_7_8\" x=\"177.25\" y=\"257.0\" height=\"46.0\" width=\"5.75\" style=\"stroke:#f0f0f0; fill:#fefefe; stroke-opacity:0.5\"> </rect> </g>\n",
       "<g> <rect id=\"local_memory_box1\" class=\"local_memory_box\" width=\"46.0\" height=\"46.0\" x=\"137.0\" y=\"257.0\" stroke=\"black\" stroke-width=\"1\" fill=\"None\"/> </g>\n",
       "<g> <text id=\"text_local_memory_box1\" class=\"local_memory_box_text\" x=\"137.0\" y=\"257.0\" fill=\"black\" font-family=\"Arial, Helvetica, sans-serif\"> <tspan x=\"160.0\" y=\"271.6\" dy=\"1em\" font-size=\"12\"> </tspan></text></g>\n",
       "<g> <rect id=\"aie_tile2\" class=\"aie_tile\" width=\"180\" height=\"140\" x=\"20\" y=\"340\" stroke=\"black\" stroke-width=\"2\" fill=\"#C2E9FF\"/> </g>\n",
       "<g> <text id=\"text_aie_tile2\" class=\"aie_tile_text\" x=\"20\" y=\"340\" fill=\"\" font-family=\"Arial, Helvetica, sans-serif\"> <tspan x=\"110.0\" y=\"409.3\" dy=\"1em\" font-size=\"1\"> </tspan></text></g>\n",
       "<g> <rect id=\"interconnect_box2\" class=\"interconnect_box\" width=\"40\" height=\"40\" x=\"30\" y=\"350\" stroke=\"black\" stroke-width=\"1\" fill=\"#DBBCBD\"/> </g>\n",
       "<g> <text id=\"text_interconnect_box2\" class=\"interconnect_box_text\" x=\"30\" y=\"350\" fill=\"\" font-family=\"Arial, Helvetica, sans-serif\"> <tspan x=\"50.0\" y=\"369.3\" dy=\"1em\" font-size=\"1\"> </tspan></text></g>\n",
       "<line id=\"ic_h_line2_0\" class=\"interconnect\" x1=\"38.0\" y1=\"365.0\" x2=\"58.0\" y2=\"365.0\" stroke=\"black\" stroke-width=\"1\" fill=\"none\" marker-end=\"url(#ic_endarrow)\"/>\n",
       "<line id=\"ic_h_line2_1\" class=\"interconnect\" x1=\"62.0\" y1=\"375.0\" x2=\"42.0\" y2=\"375.0\" stroke=\"black\" stroke-width=\"1\" fill=\"none\" marker-end=\"url(#ic_endarrow)\"/>\n",
       "<line id=\"ic_h_line2_2\" class=\"interconnect\" x1=\"45.0\" y1=\"382.0\" x2=\"45.0\" y2=\"362.0\" stroke=\"black\" stroke-width=\"1\" fill=\"none\" marker-end=\"url(#ic_endarrow)\"/>\n",
       "<line id=\"ic_h_line2_3\" class=\"interconnect\" x1=\"55.0\" y1=\"358.0\" x2=\"55.0\" y2=\"378.0\" stroke=\"black\" stroke-width=\"1\" fill=\"none\" marker-end=\"url(#ic_endarrow)\"/>\n",
       "<g> <rect id=\"aie_tile_container2\" class=\"aie_tile_container\" width=\"120\" height=\"60.0\" x=\"70\" y=\"410.0\" stroke=\"black\" stroke-width=\"1\" fill=\"#ffffff\"/> </g>\n",
       "<g> <text id=\"text_aie_tile_container2\" class=\"aie_tile_container_text\" x=\"70\" y=\"410.0\" fill=\"\" font-family=\"Arial, Helvetica, sans-serif\"> <tspan x=\"130.0\" y=\"439.3\" dy=\"1em\" font-size=\"1\"> </tspan></text></g>\n",
       "<g> <rect id=\"aie_box2\" class=\"aie_box\" width=\"46.0\" height=\"46.0\" x=\"77.0\" y=\"417.0\" stroke=\"black\" stroke-width=\"1\" fill=\"white\"/> </g>\n",
       "<g> <text id=\"text_aie_box2\" class=\"aie_box_text\" x=\"77.0\" y=\"417.0\" fill=\"black\" font-family=\"Arial, Helvetica, sans-serif\"> <tspan x=\"100.0\" y=\"431.6\" dy=\"1em\" font-size=\"12\"> </tspan></text></g>\n",
       "<g> <rect id=\"memory_outline_0_8\" x=\"137.0\" y=\"417.0\" height=\"46.0\" width=\"5.75\" style=\"stroke:#f0f0f0; fill:#fefefe; stroke-opacity:0.5\"> </rect> </g>\n",
       "<g> <rect id=\"memory_outline_1_8\" x=\"142.75\" y=\"417.0\" height=\"46.0\" width=\"5.75\" style=\"stroke:#f0f0f0; fill:#fefefe; stroke-opacity:0.5\"> </rect> </g>\n",
       "<g> <rect id=\"memory_outline_2_8\" x=\"148.5\" y=\"417.0\" height=\"46.0\" width=\"5.75\" style=\"stroke:#f0f0f0; fill:#fefefe; stroke-opacity:0.5\"> </rect> </g>\n",
       "<g> <rect id=\"memory_outline_3_8\" x=\"154.25\" y=\"417.0\" height=\"46.0\" width=\"5.75\" style=\"stroke:#f0f0f0; fill:#fefefe; stroke-opacity:0.5\"> </rect> </g>\n",
       "<g> <rect id=\"memory_outline_4_8\" x=\"160.0\" y=\"417.0\" height=\"46.0\" width=\"5.75\" style=\"stroke:#f0f0f0; fill:#fefefe; stroke-opacity:0.5\"> </rect> </g>\n",
       "<g> <rect id=\"memory_outline_5_8\" x=\"165.75\" y=\"417.0\" height=\"46.0\" width=\"5.75\" style=\"stroke:#f0f0f0; fill:#fefefe; stroke-opacity:0.5\"> </rect> </g>\n",
       "<g> <rect id=\"memory_outline_6_8\" x=\"171.5\" y=\"417.0\" height=\"46.0\" width=\"5.75\" style=\"stroke:#f0f0f0; fill:#fefefe; stroke-opacity:0.5\"> </rect> </g>\n",
       "<g> <rect id=\"memory_outline_7_8\" x=\"177.25\" y=\"417.0\" height=\"46.0\" width=\"5.75\" style=\"stroke:#f0f0f0; fill:#fefefe; stroke-opacity:0.5\"> </rect> </g>\n",
       "<g> <rect id=\"memory_outline_0_8\" x=\"137.0\" y=\"417.0\" height=\"46.0\" width=\"5.75\" style=\"stroke:#f0f0f0; fill:#fefefe; stroke-opacity:0.5\"> </rect> </g>\n",
       "<g> <rect id=\"memory_outline_1_8\" x=\"142.75\" y=\"417.0\" height=\"46.0\" width=\"5.75\" style=\"stroke:#f0f0f0; fill:#fefefe; stroke-opacity:0.5\"> </rect> </g>\n",
       "<g> <rect id=\"memory_outline_2_8\" x=\"148.5\" y=\"417.0\" height=\"46.0\" width=\"5.75\" style=\"stroke:#f0f0f0; fill:#fefefe; stroke-opacity:0.5\"> </rect> </g>\n",
       "<g> <rect id=\"memory_outline_3_8\" x=\"154.25\" y=\"417.0\" height=\"46.0\" width=\"5.75\" style=\"stroke:#f0f0f0; fill:#fefefe; stroke-opacity:0.5\"> </rect> </g>\n",
       "<g> <rect id=\"memory_outline_4_8\" x=\"160.0\" y=\"417.0\" height=\"46.0\" width=\"5.75\" style=\"stroke:#f0f0f0; fill:#fefefe; stroke-opacity:0.5\"> </rect> </g>\n",
       "<g> <rect id=\"memory_outline_5_8\" x=\"165.75\" y=\"417.0\" height=\"46.0\" width=\"5.75\" style=\"stroke:#f0f0f0; fill:#fefefe; stroke-opacity:0.5\"> </rect> </g>\n",
       "<g> <rect id=\"memory_outline_6_8\" x=\"171.5\" y=\"417.0\" height=\"46.0\" width=\"5.75\" style=\"stroke:#f0f0f0; fill:#fefefe; stroke-opacity:0.5\"> </rect> </g>\n",
       "<g> <rect id=\"memory_outline_7_8\" x=\"177.25\" y=\"417.0\" height=\"46.0\" width=\"5.75\" style=\"stroke:#f0f0f0; fill:#fefefe; stroke-opacity:0.5\"> </rect> </g>\n",
       "<g> <rect id=\"local_memory_box2\" class=\"local_memory_box\" width=\"46.0\" height=\"46.0\" x=\"137.0\" y=\"417.0\" stroke=\"black\" stroke-width=\"1\" fill=\"None\"/> </g>\n",
       "<g> <text id=\"text_local_memory_box2\" class=\"local_memory_box_text\" x=\"137.0\" y=\"417.0\" fill=\"black\" font-family=\"Arial, Helvetica, sans-serif\"> <tspan x=\"160.0\" y=\"431.6\" dy=\"1em\" font-size=\"12\"> </tspan></text></g>\n",
       "<g> <rect id=\"aie_tile3\" class=\"aie_tile\" width=\"180\" height=\"140\" x=\"20\" y=\"500\" stroke=\"black\" stroke-width=\"2\" fill=\"#C2E9FF\"/> </g>\n",
       "<g> <text id=\"text_aie_tile3\" class=\"aie_tile_text\" x=\"20\" y=\"500\" fill=\"\" font-family=\"Arial, Helvetica, sans-serif\"> <tspan x=\"110.0\" y=\"569.3\" dy=\"1em\" font-size=\"1\"> </tspan></text></g>\n",
       "<g> <rect id=\"interconnect_box3\" class=\"interconnect_box\" width=\"40\" height=\"40\" x=\"30\" y=\"510\" stroke=\"black\" stroke-width=\"1\" fill=\"#DBBCBD\"/> </g>\n",
       "<g> <text id=\"text_interconnect_box3\" class=\"interconnect_box_text\" x=\"30\" y=\"510\" fill=\"\" font-family=\"Arial, Helvetica, sans-serif\"> <tspan x=\"50.0\" y=\"529.3\" dy=\"1em\" font-size=\"1\"> </tspan></text></g>\n",
       "<line id=\"ic_h_line3_0\" class=\"interconnect\" x1=\"38.0\" y1=\"525.0\" x2=\"58.0\" y2=\"525.0\" stroke=\"black\" stroke-width=\"1\" fill=\"none\" marker-end=\"url(#ic_endarrow)\"/>\n",
       "<line id=\"ic_h_line3_1\" class=\"interconnect\" x1=\"62.0\" y1=\"535.0\" x2=\"42.0\" y2=\"535.0\" stroke=\"black\" stroke-width=\"1\" fill=\"none\" marker-end=\"url(#ic_endarrow)\"/>\n",
       "<line id=\"ic_h_line3_2\" class=\"interconnect\" x1=\"45.0\" y1=\"542.0\" x2=\"45.0\" y2=\"522.0\" stroke=\"black\" stroke-width=\"1\" fill=\"none\" marker-end=\"url(#ic_endarrow)\"/>\n",
       "<line id=\"ic_h_line3_3\" class=\"interconnect\" x1=\"55.0\" y1=\"518.0\" x2=\"55.0\" y2=\"538.0\" stroke=\"black\" stroke-width=\"1\" fill=\"none\" marker-end=\"url(#ic_endarrow)\"/>\n",
       "<g> <rect id=\"aie_tile_container3\" class=\"aie_tile_container\" width=\"120\" height=\"60.0\" x=\"70\" y=\"570.0\" stroke=\"black\" stroke-width=\"1\" fill=\"#ffffff\"/> </g>\n",
       "<g> <text id=\"text_aie_tile_container3\" class=\"aie_tile_container_text\" x=\"70\" y=\"570.0\" fill=\"\" font-family=\"Arial, Helvetica, sans-serif\"> <tspan x=\"130.0\" y=\"599.3\" dy=\"1em\" font-size=\"1\"> </tspan></text></g>\n",
       "<g> <rect id=\"aie_box3\" class=\"aie_box\" width=\"46.0\" height=\"46.0\" x=\"77.0\" y=\"577.0\" stroke=\"black\" stroke-width=\"1\" fill=\"white\"/> </g>\n",
       "<g> <text id=\"text_aie_box3\" class=\"aie_box_text\" x=\"77.0\" y=\"577.0\" fill=\"black\" font-family=\"Arial, Helvetica, sans-serif\"> <tspan x=\"100.0\" y=\"591.6\" dy=\"1em\" font-size=\"12\"> </tspan></text></g>\n",
       "<g> <rect id=\"memory_outline_0_8\" x=\"137.0\" y=\"577.0\" height=\"46.0\" width=\"5.75\" style=\"stroke:#f0f0f0; fill:#fefefe; stroke-opacity:0.5\"> </rect> </g>\n",
       "<g> <rect id=\"memory_outline_1_8\" x=\"142.75\" y=\"577.0\" height=\"46.0\" width=\"5.75\" style=\"stroke:#f0f0f0; fill:#fefefe; stroke-opacity:0.5\"> </rect> </g>\n",
       "<g> <rect id=\"memory_outline_2_8\" x=\"148.5\" y=\"577.0\" height=\"46.0\" width=\"5.75\" style=\"stroke:#f0f0f0; fill:#fefefe; stroke-opacity:0.5\"> </rect> </g>\n",
       "<g> <rect id=\"memory_outline_3_8\" x=\"154.25\" y=\"577.0\" height=\"46.0\" width=\"5.75\" style=\"stroke:#f0f0f0; fill:#fefefe; stroke-opacity:0.5\"> </rect> </g>\n",
       "<g> <rect id=\"memory_outline_4_8\" x=\"160.0\" y=\"577.0\" height=\"46.0\" width=\"5.75\" style=\"stroke:#f0f0f0; fill:#fefefe; stroke-opacity:0.5\"> </rect> </g>\n",
       "<g> <rect id=\"memory_outline_5_8\" x=\"165.75\" y=\"577.0\" height=\"46.0\" width=\"5.75\" style=\"stroke:#f0f0f0; fill:#fefefe; stroke-opacity:0.5\"> </rect> </g>\n",
       "<g> <rect id=\"memory_outline_6_8\" x=\"171.5\" y=\"577.0\" height=\"46.0\" width=\"5.75\" style=\"stroke:#f0f0f0; fill:#fefefe; stroke-opacity:0.5\"> </rect> </g>\n",
       "<g> <rect id=\"memory_outline_7_8\" x=\"177.25\" y=\"577.0\" height=\"46.0\" width=\"5.75\" style=\"stroke:#f0f0f0; fill:#fefefe; stroke-opacity:0.5\"> </rect> </g>\n",
       "<g> <rect id=\"memory_outline_0_8\" x=\"137.0\" y=\"577.0\" height=\"46.0\" width=\"5.75\" style=\"stroke:#f0f0f0; fill:#fefefe; stroke-opacity:0.5\"> </rect> </g>\n",
       "<g> <rect id=\"memory_outline_1_8\" x=\"142.75\" y=\"577.0\" height=\"46.0\" width=\"5.75\" style=\"stroke:#f0f0f0; fill:#fefefe; stroke-opacity:0.5\"> </rect> </g>\n",
       "<g> <rect id=\"memory_outline_2_8\" x=\"148.5\" y=\"577.0\" height=\"46.0\" width=\"5.75\" style=\"stroke:#f0f0f0; fill:#fefefe; stroke-opacity:0.5\"> </rect> </g>\n",
       "<g> <rect id=\"memory_outline_3_8\" x=\"154.25\" y=\"577.0\" height=\"46.0\" width=\"5.75\" style=\"stroke:#f0f0f0; fill:#fefefe; stroke-opacity:0.5\"> </rect> </g>\n",
       "<g> <rect id=\"memory_outline_4_8\" x=\"160.0\" y=\"577.0\" height=\"46.0\" width=\"5.75\" style=\"stroke:#f0f0f0; fill:#fefefe; stroke-opacity:0.5\"> </rect> </g>\n",
       "<g> <rect id=\"memory_outline_5_8\" x=\"165.75\" y=\"577.0\" height=\"46.0\" width=\"5.75\" style=\"stroke:#f0f0f0; fill:#fefefe; stroke-opacity:0.5\"> </rect> </g>\n",
       "<g> <rect id=\"memory_outline_6_8\" x=\"171.5\" y=\"577.0\" height=\"46.0\" width=\"5.75\" style=\"stroke:#f0f0f0; fill:#fefefe; stroke-opacity:0.5\"> </rect> </g>\n",
       "<g> <rect id=\"memory_outline_7_8\" x=\"177.25\" y=\"577.0\" height=\"46.0\" width=\"5.75\" style=\"stroke:#f0f0f0; fill:#fefefe; stroke-opacity:0.5\"> </rect> </g>\n",
       "<g> <rect id=\"local_memory_box3\" class=\"local_memory_box\" width=\"46.0\" height=\"46.0\" x=\"137.0\" y=\"577.0\" stroke=\"black\" stroke-width=\"1\" fill=\"None\"/> </g>\n",
       "<g> <text id=\"text_local_memory_box3\" class=\"local_memory_box_text\" x=\"137.0\" y=\"577.0\" fill=\"black\" font-family=\"Arial, Helvetica, sans-serif\"> <tspan x=\"160.0\" y=\"591.6\" dy=\"1em\" font-size=\"12\"> </tspan></text></g>\n",
       "<g> <rect id=\"mem_tile4\" class=\"mem_tile\" width=\"180\" height=\"140\" x=\"20\" y=\"660\" stroke=\"black\" stroke-width=\"2\" fill=\"#E0FFC2\"/> </g>\n",
       "<g> <text id=\"text_mem_tile4\" class=\"mem_tile_text\" x=\"20\" y=\"660\" fill=\"\" font-family=\"Arial, Helvetica, sans-serif\"> <tspan x=\"110.0\" y=\"729.3\" dy=\"1em\" font-size=\"1\"> </tspan></text></g>\n",
       "<g> <rect id=\"interconnect_box4\" class=\"interconnect_box\" width=\"40\" height=\"40\" x=\"30\" y=\"670\" stroke=\"black\" stroke-width=\"1\" fill=\"#DBBCBD\"/> </g>\n",
       "<g> <text id=\"text_interconnect_box4\" class=\"interconnect_box_text\" x=\"30\" y=\"670\" fill=\"\" font-family=\"Arial, Helvetica, sans-serif\"> <tspan x=\"50.0\" y=\"689.3\" dy=\"1em\" font-size=\"1\"> </tspan></text></g>\n",
       "<line id=\"ic_h_line4_0\" class=\"interconnect\" x1=\"38.0\" y1=\"685.0\" x2=\"58.0\" y2=\"685.0\" stroke=\"black\" stroke-width=\"1\" fill=\"none\" marker-end=\"url(#ic_endarrow)\"/>\n",
       "<line id=\"ic_h_line4_1\" class=\"interconnect\" x1=\"62.0\" y1=\"695.0\" x2=\"42.0\" y2=\"695.0\" stroke=\"black\" stroke-width=\"1\" fill=\"none\" marker-end=\"url(#ic_endarrow)\"/>\n",
       "<line id=\"ic_h_line4_2\" class=\"interconnect\" x1=\"45.0\" y1=\"702.0\" x2=\"45.0\" y2=\"682.0\" stroke=\"black\" stroke-width=\"1\" fill=\"none\" marker-end=\"url(#ic_endarrow)\"/>\n",
       "<line id=\"ic_h_line4_3\" class=\"interconnect\" x1=\"55.0\" y1=\"678.0\" x2=\"55.0\" y2=\"698.0\" stroke=\"black\" stroke-width=\"1\" fill=\"none\" marker-end=\"url(#ic_endarrow)\"/>\n",
       "<g> <rect id=\"mem_tile_container4\" class=\"mem_tile_container\" width=\"120\" height=\"60.0\" x=\"70\" y=\"730.0\" stroke=\"black\" stroke-width=\"1\" fill=\"#ffffff\"/> </g>\n",
       "<g> <text id=\"text_mem_tile_container4\" class=\"mem_tile_container_text\" x=\"70\" y=\"730.0\" fill=\"\" font-family=\"Arial, Helvetica, sans-serif\"> <tspan x=\"130.0\" y=\"759.3\" dy=\"1em\" font-size=\"1\"> </tspan></text></g>\n",
       "<g> <rect id=\"memory_outline_0_16\" x=\"77.0\" y=\"737.0\" height=\"46.0\" width=\"6.625\" style=\"stroke:#f0f0f0; fill:#fefefe; stroke-opacity:0.5\"> </rect> </g>\n",
       "<g> <rect id=\"memory_outline_1_16\" x=\"83.625\" y=\"737.0\" height=\"46.0\" width=\"6.625\" style=\"stroke:#f0f0f0; fill:#fefefe; stroke-opacity:0.5\"> </rect> </g>\n",
       "<g> <rect id=\"memory_outline_2_16\" x=\"90.25\" y=\"737.0\" height=\"46.0\" width=\"6.625\" style=\"stroke:#f0f0f0; fill:#fefefe; stroke-opacity:0.5\"> </rect> </g>\n",
       "<g> <rect id=\"memory_outline_3_16\" x=\"96.875\" y=\"737.0\" height=\"46.0\" width=\"6.625\" style=\"stroke:#f0f0f0; fill:#fefefe; stroke-opacity:0.5\"> </rect> </g>\n",
       "<g> <rect id=\"memory_outline_4_16\" x=\"103.5\" y=\"737.0\" height=\"46.0\" width=\"6.625\" style=\"stroke:#f0f0f0; fill:#fefefe; stroke-opacity:0.5\"> </rect> </g>\n",
       "<g> <rect id=\"memory_outline_5_16\" x=\"110.125\" y=\"737.0\" height=\"46.0\" width=\"6.625\" style=\"stroke:#f0f0f0; fill:#fefefe; stroke-opacity:0.5\"> </rect> </g>\n",
       "<g> <rect id=\"memory_outline_6_16\" x=\"116.75\" y=\"737.0\" height=\"46.0\" width=\"6.625\" style=\"stroke:#f0f0f0; fill:#fefefe; stroke-opacity:0.5\"> </rect> </g>\n",
       "<g> <rect id=\"memory_outline_7_16\" x=\"123.375\" y=\"737.0\" height=\"46.0\" width=\"6.625\" style=\"stroke:#f0f0f0; fill:#fefefe; stroke-opacity:0.5\"> </rect> </g>\n",
       "<g> <rect id=\"memory_outline_8_16\" x=\"130.0\" y=\"737.0\" height=\"46.0\" width=\"6.625\" style=\"stroke:#f0f0f0; fill:#fefefe; stroke-opacity:0.5\"> </rect> </g>\n",
       "<g> <rect id=\"memory_outline_9_16\" x=\"136.625\" y=\"737.0\" height=\"46.0\" width=\"6.625\" style=\"stroke:#f0f0f0; fill:#fefefe; stroke-opacity:0.5\"> </rect> </g>\n",
       "<g> <rect id=\"memory_outline_10_16\" x=\"143.25\" y=\"737.0\" height=\"46.0\" width=\"6.625\" style=\"stroke:#f0f0f0; fill:#fefefe; stroke-opacity:0.5\"> </rect> </g>\n",
       "<g> <rect id=\"memory_outline_11_16\" x=\"149.875\" y=\"737.0\" height=\"46.0\" width=\"6.625\" style=\"stroke:#f0f0f0; fill:#fefefe; stroke-opacity:0.5\"> </rect> </g>\n",
       "<g> <rect id=\"memory_outline_12_16\" x=\"156.5\" y=\"737.0\" height=\"46.0\" width=\"6.625\" style=\"stroke:#f0f0f0; fill:#fefefe; stroke-opacity:0.5\"> </rect> </g>\n",
       "<g> <rect id=\"memory_outline_13_16\" x=\"163.125\" y=\"737.0\" height=\"46.0\" width=\"6.625\" style=\"stroke:#f0f0f0; fill:#fefefe; stroke-opacity:0.5\"> </rect> </g>\n",
       "<g> <rect id=\"memory_outline_14_16\" x=\"169.75\" y=\"737.0\" height=\"46.0\" width=\"6.625\" style=\"stroke:#f0f0f0; fill:#fefefe; stroke-opacity:0.5\"> </rect> </g>\n",
       "<g> <rect id=\"memory_outline_15_16\" x=\"176.375\" y=\"737.0\" height=\"46.0\" width=\"6.625\" style=\"stroke:#f0f0f0; fill:#fefefe; stroke-opacity:0.5\"> </rect> </g>\n",
       "<g> <rect id=\"mem_tile_memory4\" class=\"mem_tile_memory\" width=\"106\" height=\"46.0\" x=\"77\" y=\"737.0\" stroke=\"black\" stroke-width=\"\" fill=\"None\"/><animate attributeName=\"stroke-width\" dur=\"0.5s\" repeatCount=\"indefinite\" values=\"0;                       2;0\"/>\n",
       " </g>\n",
       "<g> <text id=\"text_mem_tile_memory4\" class=\"mem_tile_memory_text\" x=\"77\" y=\"737.0\" fill=\"black\" font-family=\"Arial, Helvetica, sans-serif\"> <tspan x=\"130.0\" y=\"750.9\" dy=\"1em\" font-size=\"13\"> </tspan></text></g>\n",
       "<g> <rect id=\"if_tile5\" class=\"if_tile\" width=\"180\" height=\"140\" x=\"20\" y=\"820\" stroke=\"black\" stroke-width=\"2\" fill=\"#E0C2FF\"/> </g>\n",
       "<g> <text id=\"text_if_tile5\" class=\"if_tile_text\" x=\"20\" y=\"820\" fill=\"\" font-family=\"Arial, Helvetica, sans-serif\"> <tspan x=\"110.0\" y=\"889.3\" dy=\"1em\" font-size=\"1\"> </tspan></text></g>\n",
       "<g> <rect id=\"interconnect_box5\" class=\"interconnect_box\" width=\"40\" height=\"40\" x=\"30\" y=\"830\" stroke=\"black\" stroke-width=\"1\" fill=\"#DBBCBD\"/> </g>\n",
       "<g> <text id=\"text_interconnect_box5\" class=\"interconnect_box_text\" x=\"30\" y=\"830\" fill=\"\" font-family=\"Arial, Helvetica, sans-serif\"> <tspan x=\"50.0\" y=\"849.3\" dy=\"1em\" font-size=\"1\"> </tspan></text></g>\n",
       "<line id=\"ic_h_line5_0\" class=\"interconnect\" x1=\"38.0\" y1=\"845.0\" x2=\"58.0\" y2=\"845.0\" stroke=\"black\" stroke-width=\"1\" fill=\"none\" marker-end=\"url(#ic_endarrow)\"/>\n",
       "<line id=\"ic_h_line5_1\" class=\"interconnect\" x1=\"62.0\" y1=\"855.0\" x2=\"42.0\" y2=\"855.0\" stroke=\"black\" stroke-width=\"1\" fill=\"none\" marker-end=\"url(#ic_endarrow)\"/>\n",
       "<line id=\"ic_h_line5_2\" class=\"interconnect\" x1=\"45.0\" y1=\"862.0\" x2=\"45.0\" y2=\"842.0\" stroke=\"black\" stroke-width=\"1\" fill=\"none\" marker-end=\"url(#ic_endarrow)\"/>\n",
       "<line id=\"ic_h_line5_3\" class=\"interconnect\" x1=\"55.0\" y1=\"838.0\" x2=\"55.0\" y2=\"858.0\" stroke=\"black\" stroke-width=\"1\" fill=\"none\" marker-end=\"url(#ic_endarrow)\"/>\n",
       "<g> <rect id=\"if_tile_container5\" class=\"if_tile_container\" width=\"120\" height=\"60.0\" x=\"70\" y=\"890.0\" stroke=\"black\" stroke-width=\"1\" fill=\"#ffffff\"/> </g>\n",
       "<g> <text id=\"text_if_tile_container5\" class=\"if_tile_container_text\" x=\"70\" y=\"890.0\" fill=\"\" font-family=\"Arial, Helvetica, sans-serif\"> <tspan x=\"130.0\" y=\"919.3\" dy=\"1em\" font-size=\"1\"> </tspan></text></g>\n",
       "<g> <rect id=\"if_dmabox5\" class=\"if_dmabox\" width=\"106\" height=\"46.0\" x=\"77\" y=\"897.0\" stroke=\"black\" stroke-width=\"\" fill=\"white\"/><animate attributeName=\"stroke-width\" dur=\"0.5s\" repeatCount=\"indefinite\" values=\"0;                       2;0\"/>\n",
       " </g>\n",
       "<g> <text id=\"text_if_dmabox5\" class=\"if_dmabox_text\" x=\"77\" y=\"897.0\" fill=\"black\" font-family=\"Arial, Helvetica, sans-serif\"> <tspan x=\"92.0\" y=\"904.4\" dy=\"1em\" font-size=\"13\">Interface Tile </tspan><tspan x=\"93.0\" y=\"917.4\" dy=\"1em\" font-size=\"13\">Data movers </tspan></text></g>\n",
       "<line id=\"diagonal5\" class=\"interconnect\" x1=\"70\" y1=\"870\" x2=\"90.0\" y2=\"890.0\" stroke=\"red\" stroke-width=\"1\" fill=\"none\"/>\n",
       "<path id=\"south_mem_connection5\" stroke=\"black\" stroke-width=\"1\" fill=\"none\" d=\"M 130.0, 950.0,                 l0, 30\"/>\n",
       "<circle id=\"d_circle5\" class=\"ic_animations\" cx=\"90.0\" cy=\"890.0\" r=\"3\" fill=\"none\">            <animateMotion dur=\"2.0s\" repeatCount=\"indefinite\" begin=\"0s\" path=\"M0, 0,                 L-20.0, -20.0,                \"/>            <animate attributeName=\"fill\" values=\"none;#009E73\" dur=\"0.0001s\" begin=\"0s\" fill=\"freeze\"/>            </circle>\n",
       "<circle id=\"d_circle5\" class=\"ic_animations\" cx=\"70\" cy=\"870\" r=\"3\" fill=\"none\">            <animateMotion dur=\"2.0s\" repeatCount=\"indefinite\" begin=\"0s\" path=\"M0, 0,                 L20.0, 20.0,                \"/>            <animate attributeName=\"fill\" values=\"none;#C00000\" dur=\"0.0001s\" begin=\"0s\" fill=\"freeze\"/>            </circle>\n",
       "<circle id=\"mem_circle_east5\" class=\"mem_animations\" cx=\"0\" cy=\"0\" r=\"3\" fill=\"none\">                    <animateMotion dur=\"2.0s\" repeatCount=\"indefinite\" path=\"M 130.0, 980,                         l 0, -30                        \" begin=\"0s\"/>                    <animate attributeName=\"fill\" values=\"none;#009E73\" dur=\"0.0001s\" begin=\"0s\" fill=\"freeze\"/>                    </circle>\n",
       "<circle id=\"mem_circle_east5\" class=\"mem_animations\" cx=\"0\" cy=\"0\" r=\"3\" fill=\"none\">                    <animateMotion dur=\"2.0s\" repeatCount=\"indefinite\" path=\"M 130.0, 950,                         l 0, 30                        \" begin=\"0s\"/>                    <animate attributeName=\"fill\" values=\"none;#C00000\" dur=\"0.0001s\" begin=\"0s\" fill=\"freeze\"/>                    </circle>\n",
       "<line id=\"diagonal0\" class=\"interconnect\" x1=\"70\" y1=\"70\" x2=\"90.0\" y2=\"90.0\" stroke=\"red\" stroke-width=\"1\" fill=\"none\"/>\n",
       "<line id=\"v_ic_connection0\" class=\"interconnect\" x1=\"50\" y1=\"70\" x2=\"50\" y2=\"190\" stroke=\"red\" stroke-width=\"1\" fill=\"none\"/>\n",
       "<line id=\"diagonal1\" class=\"interconnect\" x1=\"70\" y1=\"230\" x2=\"90.0\" y2=\"250.0\" stroke=\"red\" stroke-width=\"1\" fill=\"none\"/>\n",
       "<line id=\"v_ic_connection1\" class=\"interconnect\" x1=\"50\" y1=\"230\" x2=\"50\" y2=\"350\" stroke=\"red\" stroke-width=\"1\" fill=\"none\"/>\n",
       "<line id=\"diagonal2\" class=\"interconnect\" x1=\"70\" y1=\"390\" x2=\"90.0\" y2=\"410.0\" stroke=\"red\" stroke-width=\"1\" fill=\"none\"/>\n",
       "<line id=\"v_ic_connection2\" class=\"interconnect\" x1=\"50\" y1=\"390\" x2=\"50\" y2=\"510\" stroke=\"red\" stroke-width=\"1\" fill=\"none\"/>\n",
       "<line id=\"diagonal3\" class=\"interconnect\" x1=\"70\" y1=\"550\" x2=\"90.0\" y2=\"570.0\" stroke=\"red\" stroke-width=\"1\" fill=\"none\"/>\n",
       "<line id=\"v_ic_connection3\" class=\"interconnect\" x1=\"50\" y1=\"550\" x2=\"50\" y2=\"670\" stroke=\"red\" stroke-width=\"1\" fill=\"none\"/>\n",
       "<line id=\"diagonal4\" class=\"interconnect\" x1=\"70\" y1=\"710\" x2=\"90.0\" y2=\"730.0\" stroke=\"red\" stroke-width=\"1\" fill=\"none\"/>\n",
       "<line id=\"v_ic_connection4\" class=\"interconnect\" x1=\"50\" y1=\"710\" x2=\"50\" y2=\"830\" stroke=\"red\" stroke-width=\"1\" fill=\"none\"/>\n",
       "<circle id=\"d_circle0\" class=\"ic_animations\" cx=\"70\" cy=\"70\" r=\"3\" fill=\"none\">            <animateMotion dur=\"2.0s\" repeatCount=\"indefinite\" begin=\"0.0s\" path=\"M0, 0,                 L20.0, 20.0,                \"/>            <animate attributeName=\"fill\" values=\"none;#E6BBD1\" dur=\"0.0001s\" begin=\"0.0s\" fill=\"freeze\"/>            </circle>\n",
       "<circle id=\"v_circle_north0\" class=\"ic_animations\" cx=\"50\" cy=\"190\" r=\"3\" fill=\"none\">            <animateMotion dur=\"2.0s\" repeatCount=\"indefinite\" begin=\"0.0s\" path=\"M0, 0,                 L0, -120                \"/>            <animate attributeName=\"fill\" values=\"none;#E6BBD1\" dur=\"0.0001s\" begin=\"0.0s\" fill=\"freeze\"/>            </circle>\n",
       "<circle id=\"v_circle_north1\" class=\"ic_animations\" cx=\"50\" cy=\"350\" r=\"3\" fill=\"none\">            <animateMotion dur=\"2.0s\" repeatCount=\"indefinite\" begin=\"0.0s\" path=\"M0, 0,                 L0, -120                \"/>            <animate attributeName=\"fill\" values=\"none;#E6BBD1\" dur=\"0.0001s\" begin=\"0.0s\" fill=\"freeze\"/>            </circle>\n",
       "<circle id=\"v_circle_north2\" class=\"ic_animations\" cx=\"50\" cy=\"510\" r=\"3\" fill=\"none\">            <animateMotion dur=\"2.0s\" repeatCount=\"indefinite\" begin=\"0.0s\" path=\"M0, 0,                 L0, -120                \"/>            <animate attributeName=\"fill\" values=\"none;#E6BBD1\" dur=\"0.0001s\" begin=\"0.0s\" fill=\"freeze\"/>            </circle>\n",
       "<circle id=\"d_circle3\" class=\"ic_animations\" cx=\"70\" cy=\"550\" r=\"3\" fill=\"none\">            <animateMotion dur=\"2.0s\" repeatCount=\"indefinite\" begin=\"-0.2s\" path=\"M0, 0,                 L20.0, 20.0,                \"/>            <animate attributeName=\"fill\" values=\"none;#C36D6D\" dur=\"0.0001s\" begin=\"-0.2s\" fill=\"freeze\"/>            </circle>\n",
       "<circle id=\"v_circle_north3\" class=\"ic_animations\" cx=\"50\" cy=\"670\" r=\"3\" fill=\"none\">            <animateMotion dur=\"2.0s\" repeatCount=\"indefinite\" begin=\"-0.2s\" path=\"M0, 0,                 L0, -120                \"/>            <animate attributeName=\"fill\" values=\"none;#C36D6D\" dur=\"0.0001s\" begin=\"-0.2s\" fill=\"freeze\"/>            </circle>\n",
       "<circle id=\"v_circle_north3\" class=\"ic_animations\" cx=\"50\" cy=\"670\" r=\"3\" fill=\"none\">            <animateMotion dur=\"2.0s\" repeatCount=\"indefinite\" begin=\"0.0s\" path=\"M0, 0,                 L0, -120                \"/>            <animate attributeName=\"fill\" values=\"none;#E6BBD1\" dur=\"0.0001s\" begin=\"0.0s\" fill=\"freeze\"/>            </circle>\n",
       "<circle id=\"d_circle3\" class=\"ic_animations\" cx=\"90.0\" cy=\"570.0\" r=\"3\" fill=\"none\">            <animateMotion dur=\"2.0s\" repeatCount=\"indefinite\" begin=\"0s\" path=\"M0, 0,                 L-20.0, -20.0,                \"/>            <animate attributeName=\"fill\" values=\"none;#C00000\" dur=\"0.0001s\" begin=\"0s\" fill=\"freeze\"/>            </circle>\n",
       "<circle id=\"v_circle_south3\" class=\"ic_animations\" cx=\"50\" cy=\"550\" r=\"3\" fill=\"none\">            <animateMotion dur=\"2.0s\" repeatCount=\"indefinite\" begin=\"0s\" path=\"M0, 0,                 L0, 120                \"/>            <animate attributeName=\"fill\" values=\"none;#C00000\" dur=\"0.0001s\" begin=\"0s\" fill=\"freeze\"/>            </circle>\n",
       "<circle id=\"d_circle4\" class=\"ic_animations\" cx=\"70\" cy=\"710\" r=\"3\" fill=\"none\">            <animateMotion dur=\"4s\" repeatCount=\"indefinite\" begin=\"0s\" path=\"M0, 0,                 L20.0, 20.0,                \"/>            <animate attributeName=\"fill\" values=\"none;#009E73\" dur=\"0.0001s\" begin=\"0s\" fill=\"freeze\"/>            </circle>\n",
       "<circle id=\"v_circle_north4\" class=\"ic_animations\" cx=\"50\" cy=\"830\" r=\"3\" fill=\"none\">            <animateMotion dur=\"4s\" repeatCount=\"indefinite\" begin=\"0s\" path=\"M0, 0,                 L0, -120                \"/>            <animate attributeName=\"fill\" values=\"none;#009E73\" dur=\"0.0001s\" begin=\"0s\" fill=\"freeze\"/>            </circle>\n",
       "<circle id=\"d_circle4\" class=\"ic_animations\" cx=\"90.0\" cy=\"730.0\" r=\"3\" fill=\"none\">            <animateMotion dur=\"2.0s\" repeatCount=\"indefinite\" begin=\"-0.2s\" path=\"M0, 0,                 L-20.0, -20.0,                \"/>            <animate attributeName=\"fill\" values=\"none;#C36D6D\" dur=\"0.0001s\" begin=\"-0.2s\" fill=\"freeze\"/>            </circle>\n",
       "<circle id=\"d_circle4\" class=\"ic_animations\" cx=\"90.0\" cy=\"730.0\" r=\"3\" fill=\"none\">            <animateMotion dur=\"2.0s\" repeatCount=\"indefinite\" begin=\"0.0s\" path=\"M0, 0,                 L-20.0, -20.0,                \"/>            <animate attributeName=\"fill\" values=\"none;#E6BBD1\" dur=\"0.0001s\" begin=\"0.0s\" fill=\"freeze\"/>            </circle>\n",
       "<circle id=\"v_circle_south4\" class=\"ic_animations\" cx=\"50\" cy=\"710\" r=\"3\" fill=\"none\">            <animateMotion dur=\"2.0s\" repeatCount=\"indefinite\" begin=\"0s\" path=\"M0, 0,                 L0, 120                \"/>            <animate attributeName=\"fill\" values=\"none;#C00000\" dur=\"0.0001s\" begin=\"0s\" fill=\"freeze\"/>            </circle>\n",
       "<path id=\"south_mem_connection0\" class=\"mem_connections\" stroke=\"blue\" stroke-width=\"1\" fill=\"none\" d=\"M 160.0, 143.0,                 l0, 80.0,                l-30.0, 17.0,                l-30.0, 17.0\"/>\n",
       "<path id=\"south_mem_connection0\" class=\"mem_connections\" stroke=\"blue\" stroke-width=\"1\" fill=\"none\" d=\"M 100.0, 143.0,                 l0, 80.0,                l30.0, 17.0,                l30.0, 17.0\"/>\n",
       "<line id=\"internal_mem_connection0\" x1=\"123.0\" y1=\"120.0\" x2=\"137.0\" y2=\"120.0\" class=\"mem_connections\" stroke=\"blue\" stroke-width=\"1\" fill=\"none\"/>\n",
       "<path id=\"south_mem_connection1\" class=\"mem_connections\" stroke=\"blue\" stroke-width=\"1\" fill=\"none\" d=\"M 160.0, 303.0,                 l0, 80.0,                l-30.0, 17.0,                l-30.0, 17.0\"/>\n",
       "<path id=\"south_mem_connection1\" class=\"mem_connections\" stroke=\"blue\" stroke-width=\"1\" fill=\"none\" d=\"M 100.0, 303.0,                 l0, 80.0,                l30.0, 17.0,                l30.0, 17.0\"/>\n",
       "<line id=\"internal_mem_connection1\" x1=\"123.0\" y1=\"280.0\" x2=\"137.0\" y2=\"280.0\" class=\"mem_connections\" stroke=\"blue\" stroke-width=\"1\" fill=\"none\"/>\n",
       "<path id=\"south_mem_connection2\" class=\"mem_connections\" stroke=\"blue\" stroke-width=\"1\" fill=\"none\" d=\"M 160.0, 463.0,                 l0, 80.0,                l-30.0, 17.0,                l-30.0, 17.0\"/>\n",
       "<path id=\"south_mem_connection2\" class=\"mem_connections\" stroke=\"blue\" stroke-width=\"1\" fill=\"none\" d=\"M 100.0, 463.0,                 l0, 80.0,                l30.0, 17.0,                l30.0, 17.0\"/>\n",
       "<line id=\"internal_mem_connection2\" x1=\"123.0\" y1=\"440.0\" x2=\"137.0\" y2=\"440.0\" class=\"mem_connections\" stroke=\"blue\" stroke-width=\"1\" fill=\"none\"/>\n",
       "<circle id=\"mem_circle_south0\" class=\"mem_animations\" cx=\"0\" cy=\"0\" r=\"3\" fill=\"none\">                    <animateMotion dur=\"4s\" repeatCount=\"indefinite\" path=\"M 160.0, 143.0,                 l0, 80.0,                l-30.0, 17.0,                l-30.0, 17.0\" begin=\"0s\"/>                    <animate attributeName=\"fill\" values=\"none;#DC267F\" dur=\"0.0001s\" begin=\"0s\" fill=\"freeze\"/>                    </circle>\n",
       "<circle id=\"mem_circle_south1\" class=\"mem_animations\" cx=\"0\" cy=\"0\" r=\"3\" fill=\"none\">                    <animateMotion dur=\"4s\" repeatCount=\"indefinite\" path=\"M 160.0, 303.0,                 l0, 80.0,                l-30.0, 17.0,                l-30.0, 17.0\" begin=\"0s\"/>                    <animate attributeName=\"fill\" values=\"none;#F0E442\" dur=\"0.0001s\" begin=\"0s\" fill=\"freeze\"/>                    </circle>\n",
       "<circle id=\"mem_circle_south2\" class=\"mem_animations\" cx=\"0\" cy=\"0\" r=\"3\" fill=\"none\">                    <animateMotion dur=\"4s\" repeatCount=\"indefinite\" path=\"M 160.0, 463.0,                 l0, 80.0,                l-30.0, 17.0,                l-30.0, 17.0\" begin=\"0s\"/>                    <animate attributeName=\"fill\" values=\"none;#0072B2\" dur=\"0.0001s\" begin=\"0s\" fill=\"freeze\"/>                    </circle>\n",
       "<linearGradient id=\"kernel_0\" gradientTransform=\"rotate(90)\"> <stop offset=\"0%\" stop-color=\"white\"/> <stop offset=\"10%\" stop-color=\"#DC267F\"/> </linearGradient> <circle id=\"kernel_circle_0\" class=\"kernel\" cx=\"100.0\" cy=\"120.0\" r=\"20\" fill=\"url(#kernel_0)\" stroke=\"black\" stroke-width=\"1\" stroke-dasharray=\"5, 5\"> <animateTransform attributeName=\"transform\" type=\"rotate\" from=\"0 100.0 120.0\" to=\"360 100.0 120.0\" dur=\"4s\" begin=\"0s\" repeatCount=\"indefinite\"/> </circle> \n",
       "<linearGradient id=\"kernel_1\" gradientTransform=\"rotate(90)\"> <stop offset=\"0%\" stop-color=\"white\"/> <stop offset=\"10%\" stop-color=\"#F0E442\"/> </linearGradient> <circle id=\"kernel_circle_1\" class=\"kernel\" cx=\"100.0\" cy=\"280.0\" r=\"20\" fill=\"url(#kernel_1)\" stroke=\"black\" stroke-width=\"1\" stroke-dasharray=\"5, 5\"> <animateTransform attributeName=\"transform\" type=\"rotate\" from=\"0 100.0 280.0\" to=\"360 100.0 280.0\" dur=\"4s\" begin=\"0s\" repeatCount=\"indefinite\"/> </circle> \n",
       "<linearGradient id=\"kernel_2\" gradientTransform=\"rotate(90)\"> <stop offset=\"0%\" stop-color=\"white\"/> <stop offset=\"10%\" stop-color=\"#0072B2\"/> </linearGradient> <circle id=\"kernel_circle_2\" class=\"kernel\" cx=\"100.0\" cy=\"440.0\" r=\"20\" fill=\"url(#kernel_2)\" stroke=\"black\" stroke-width=\"1\" stroke-dasharray=\"5, 5\"> <animateTransform attributeName=\"transform\" type=\"rotate\" from=\"0 100.0 440.0\" to=\"360 100.0 440.0\" dur=\"4s\" begin=\"0s\" repeatCount=\"indefinite\"/> </circle> \n",
       "<linearGradient id=\"kernel_3\" gradientTransform=\"rotate(90)\"> <stop offset=\"0%\" stop-color=\"white\"/> <stop offset=\"10%\" stop-color=\"#C00000\"/> </linearGradient> <circle id=\"kernel_circle_3\" class=\"kernel\" cx=\"100.0\" cy=\"600.0\" r=\"20\" fill=\"url(#kernel_3)\" stroke=\"black\" stroke-width=\"1\" stroke-dasharray=\"5, 5\"> <animateTransform attributeName=\"transform\" type=\"rotate\" from=\"0 100.0 600.0\" to=\"360 100.0 600.0\" dur=\"4s\" begin=\"0s\" repeatCount=\"indefinite\"/> </circle> \n",
       "<g transform=\"rotate(180, 139.875, 143.0) \"> <rect id=\"buffer0_0\" class=\"aie_tile_buffers\" x=\"137.0\" y=\"143.0\" height=\"46.0\" width=\"5.75\" style=\"stroke:none; fill:none\"> <animate attributeName=\"height\" values=\"46.0;0;46.0\" keyTimes=\"0;0.5;1\" dur=\"4.0s\" begin=\"0s\" fill=\"freeze\" repeatCount=\"indefinite\"/> <animate attributeName=\"fill\" values=\"none;#E6BBD1;#E6BBD1;#E6BBD1;#E6BBD1\" keyTimes=\"0; 0.00001; 0.5; 0.50001; 1\" dur=\"4.0s\" begin=\"0s\" fill=\"freeze\" repeatCount=\"indefinite\"/></rect></g>\n",
       "<g transform=\"rotate(180, 145.625, 143.0) \"> <rect id=\"buffer0_1\" class=\"aie_tile_buffers\" x=\"142.75\" y=\"143.0\" height=\"46.0\" width=\"5.75\" style=\"stroke:none; fill:none\"> <animate attributeName=\"height\" values=\"0;46.0;0\" keyTimes=\"0;0.5;1\" dur=\"4.0s\" begin=\"0s\" fill=\"freeze\" repeatCount=\"indefinite\"/> <animate attributeName=\"fill\" values=\"none;#E6BBD1;#E6BBD1;#E6BBD1;#E6BBD1\" keyTimes=\"0; 0.00001; 0.5; 0.50001; 1\" dur=\"4.0s\" begin=\"0s\" fill=\"freeze\" repeatCount=\"indefinite\"/></rect></g>\n",
       "<g transform=\"rotate(180, 151.375, 143.0) \"> <rect id=\"buffer0_2\" class=\"aie_tile_buffers\" x=\"148.5\" y=\"143.0\" height=\"46.0\" width=\"5.75\" style=\"stroke:none; fill:none\"> <animate attributeName=\"height\" values=\"0;46.0;0\" keyTimes=\"0;0.5;1\" dur=\"4.0s\" begin=\"0s\" fill=\"freeze\" repeatCount=\"indefinite\"/> <animate attributeName=\"fill\" values=\"none;#DC267F;#DC267F;#DC267F;#DC267F\" keyTimes=\"0; 0.00001; 0.5; 0.50001; 1\" dur=\"4.0s\" begin=\"0s\" fill=\"freeze\" repeatCount=\"indefinite\"/></rect></g>\n",
       "<g transform=\"rotate(180, 157.125, 143.0) \"> <rect id=\"buffer0_3\" class=\"aie_tile_buffers\" x=\"154.25\" y=\"143.0\" height=\"46.0\" width=\"5.75\" style=\"stroke:none; fill:none\"> <animate attributeName=\"height\" values=\"46.0;0;46.0\" keyTimes=\"0;0.5;1\" dur=\"4.0s\" begin=\"0s\" fill=\"freeze\" repeatCount=\"indefinite\"/> <animate attributeName=\"fill\" values=\"none;#DC267F;#DC267F;#DC267F;#DC267F\" keyTimes=\"0; 0.00001; 0.5; 0.50001; 1\" dur=\"4.0s\" begin=\"0s\" fill=\"freeze\" repeatCount=\"indefinite\"/></rect></g>\n",
       "<g transform=\"rotate(180, 139.875, 303.0) \"> <rect id=\"buffer1_0\" class=\"aie_tile_buffers\" x=\"137.0\" y=\"303.0\" height=\"46.0\" width=\"5.75\" style=\"stroke:none; fill:none\"> <animate attributeName=\"height\" values=\"0;46.0;0\" keyTimes=\"0;0.5;1\" dur=\"4.0s\" begin=\"0s\" fill=\"freeze\" repeatCount=\"indefinite\"/> <animate attributeName=\"fill\" values=\"none;#F0E442;#F0E442;#F0E442;#F0E442\" keyTimes=\"0; 0.00001; 0.5; 0.50001; 1\" dur=\"4.0s\" begin=\"0s\" fill=\"freeze\" repeatCount=\"indefinite\"/></rect></g>\n",
       "<g transform=\"rotate(180, 145.625, 303.0) \"> <rect id=\"buffer1_1\" class=\"aie_tile_buffers\" x=\"142.75\" y=\"303.0\" height=\"46.0\" width=\"5.75\" style=\"stroke:none; fill:none\"> <animate attributeName=\"height\" values=\"46.0;0;46.0\" keyTimes=\"0;0.5;1\" dur=\"4.0s\" begin=\"0s\" fill=\"freeze\" repeatCount=\"indefinite\"/> <animate attributeName=\"fill\" values=\"none;#F0E442;#F0E442;#F0E442;#F0E442\" keyTimes=\"0; 0.00001; 0.5; 0.50001; 1\" dur=\"4.0s\" begin=\"0s\" fill=\"freeze\" repeatCount=\"indefinite\"/></rect></g>\n",
       "<g transform=\"rotate(180, 139.875, 463.0) \"> <rect id=\"buffer2_0\" class=\"aie_tile_buffers\" x=\"137.0\" y=\"463.0\" height=\"46.0\" width=\"5.75\" style=\"stroke:none; fill:none\"> <animate attributeName=\"height\" values=\"0;46.0;0\" keyTimes=\"0;0.5;1\" dur=\"4.0s\" begin=\"0s\" fill=\"freeze\" repeatCount=\"indefinite\"/> <animate attributeName=\"fill\" values=\"none;#0072B2;#0072B2;#0072B2;#0072B2\" keyTimes=\"0; 0.00001; 0.5; 0.50001; 1\" dur=\"4.0s\" begin=\"0s\" fill=\"freeze\" repeatCount=\"indefinite\"/></rect></g>\n",
       "<g transform=\"rotate(180, 145.625, 463.0) \"> <rect id=\"buffer2_1\" class=\"aie_tile_buffers\" x=\"142.75\" y=\"463.0\" height=\"46.0\" width=\"5.75\" style=\"stroke:none; fill:none\"> <animate attributeName=\"height\" values=\"46.0;0;46.0\" keyTimes=\"0;0.5;1\" dur=\"4.0s\" begin=\"0s\" fill=\"freeze\" repeatCount=\"indefinite\"/> <animate attributeName=\"fill\" values=\"none;#0072B2;#0072B2;#0072B2;#0072B2\" keyTimes=\"0; 0.00001; 0.5; 0.50001; 1\" dur=\"4.0s\" begin=\"0s\" fill=\"freeze\" repeatCount=\"indefinite\"/></rect></g>\n",
       "<g transform=\"rotate(180, 139.875, 623.0) \"> <rect id=\"buffer3_0\" class=\"aie_tile_buffers\" x=\"137.0\" y=\"623.0\" height=\"46.0\" width=\"5.75\" style=\"stroke:none; fill:none\"> <animate attributeName=\"height\" values=\"46.0;0;46.0\" keyTimes=\"0;0.5;1\" dur=\"4.0s\" begin=\"0s\" fill=\"freeze\" repeatCount=\"indefinite\"/> <animate attributeName=\"fill\" values=\"none;#C36D6D;#C36D6D;#C36D6D;#C36D6D\" keyTimes=\"0; 0.00001; 0.5; 0.50001; 1\" dur=\"4.0s\" begin=\"0s\" fill=\"freeze\" repeatCount=\"indefinite\"/></rect></g>\n",
       "<g transform=\"rotate(180, 145.625, 623.0) \"> <rect id=\"buffer3_1\" class=\"aie_tile_buffers\" x=\"142.75\" y=\"623.0\" height=\"46.0\" width=\"5.75\" style=\"stroke:none; fill:none\"> <animate attributeName=\"height\" values=\"0;46.0;0\" keyTimes=\"0;0.5;1\" dur=\"4.0s\" begin=\"0s\" fill=\"freeze\" repeatCount=\"indefinite\"/> <animate attributeName=\"fill\" values=\"none;#C36D6D;#C36D6D;#C36D6D;#C36D6D\" keyTimes=\"0; 0.00001; 0.5; 0.50001; 1\" dur=\"4.0s\" begin=\"0s\" fill=\"freeze\" repeatCount=\"indefinite\"/></rect></g>\n",
       "<g transform=\"rotate(180, 151.375, 623.0) \"> <rect id=\"buffer3_2\" class=\"aie_tile_buffers\" x=\"148.5\" y=\"623.0\" height=\"46.0\" width=\"5.75\" style=\"stroke:none; fill:none\"> <animate attributeName=\"height\" values=\"0;46.0;0\" keyTimes=\"0;0.5;1\" dur=\"4.0s\" begin=\"0s\" fill=\"freeze\" repeatCount=\"indefinite\"/> <animate attributeName=\"fill\" values=\"none;#C00000;#C00000;#C00000;#C00000\" keyTimes=\"0; 0.00001; 0.5; 0.50001; 1\" dur=\"4.0s\" begin=\"0s\" fill=\"freeze\" repeatCount=\"indefinite\"/></rect></g>\n",
       "<g transform=\"rotate(180, 157.125, 623.0) \"> <rect id=\"buffer3_3\" class=\"aie_tile_buffers\" x=\"154.25\" y=\"623.0\" height=\"46.0\" width=\"5.75\" style=\"stroke:none; fill:none\"> <animate attributeName=\"height\" values=\"46.0;0;46.0\" keyTimes=\"0;0.5;1\" dur=\"4.0s\" begin=\"0s\" fill=\"freeze\" repeatCount=\"indefinite\"/> <animate attributeName=\"fill\" values=\"none;#C00000;#C00000;#C00000;#C00000\" keyTimes=\"0; 0.00001; 0.5; 0.50001; 1\" dur=\"4.0s\" begin=\"0s\" fill=\"freeze\" repeatCount=\"indefinite\"/></rect></g>\n",
       "<g transform=\"rotate(180, 80.3125, 783.0) \"> <rect id=\"buffer4_0\" class=\"mem_tile_buffers\" x=\"77.0\" y=\"783.0\" height=\"46.0\" width=\"6.625\" style=\"stroke:none; fill:none\"> <animate attributeName=\"height\" values=\"46.0;0;46.0\" keyTimes=\"0;0.5;1\" dur=\"4.0s\" begin=\"0.0s\" fill=\"freeze\" repeatCount=\"indefinite\"/> <animate attributeName=\"fill\" values=\"none;#C36D6D;#C36D6D;#009E73;#009E73\" keyTimes=\"0; 0.00001; 0.5; 0.50001; 1\" dur=\"4.0s\" begin=\"0.0s\" fill=\"freeze\" repeatCount=\"indefinite\"/></rect></g>\n",
       "<g transform=\"rotate(180, 86.9375, 783.0) \"> <rect id=\"buffer4_1\" class=\"mem_tile_buffers\" x=\"83.625\" y=\"783.0\" height=\"46.0\" width=\"6.625\" style=\"stroke:none; fill:none\"> <animate attributeName=\"height\" values=\"46.0;0;46.0\" keyTimes=\"0;0.5;1\" dur=\"4.0s\" begin=\"0.2s\" fill=\"freeze\" repeatCount=\"indefinite\"/> <animate attributeName=\"fill\" values=\"none;#E6BBD1;#E6BBD1;#009E73;#009E73\" keyTimes=\"0; 0.00001; 0.5; 0.50001; 1\" dur=\"4.0s\" begin=\"0.2s\" fill=\"freeze\" repeatCount=\"indefinite\"/></rect></g>\n",
       "<g transform=\"rotate(180, 93.5625, 783.0) \"> <rect id=\"buffer4_2\" class=\"mem_tile_buffers\" x=\"90.25\" y=\"783.0\" height=\"46.0\" width=\"6.625\" style=\"stroke:none; fill:none\"> <animate attributeName=\"height\" values=\"0;46.0;0\" keyTimes=\"0;0.5;1\" dur=\"4.0s\" begin=\"0.0s\" fill=\"freeze\" repeatCount=\"indefinite\"/> <animate attributeName=\"fill\" values=\"none;#009E73;#009E73;#C36D6D;#C36D6D\" keyTimes=\"0; 0.00001; 0.5; 0.50001; 1\" dur=\"4.0s\" begin=\"0.0s\" fill=\"freeze\" repeatCount=\"indefinite\"/></rect></g>\n",
       "<g transform=\"rotate(180, 100.1875, 783.0) \"> <rect id=\"buffer4_3\" class=\"mem_tile_buffers\" x=\"96.875\" y=\"783.0\" height=\"46.0\" width=\"6.625\" style=\"stroke:none; fill:none\"> <animate attributeName=\"height\" values=\"0;46.0;0\" keyTimes=\"0;0.5;1\" dur=\"4.0s\" begin=\"0.2s\" fill=\"freeze\" repeatCount=\"indefinite\"/> <animate attributeName=\"fill\" values=\"none;#009E73;#009E73;#E6BBD1;#E6BBD1\" keyTimes=\"0; 0.00001; 0.5; 0.50001; 1\" dur=\"4.0s\" begin=\"0.2s\" fill=\"freeze\" repeatCount=\"indefinite\"/></rect></g>\n",
       "<linearGradient id=\"kernel_1001\" gradientTransform=\"rotate(90)\"> <stop offset=\"0%\" stop-color=\"white\"/> <stop offset=\"10%\" stop-color=\"#C00000\"/> </linearGradient> <circle id=\"kernel_circle_1001\" class=\"kernel\" cx=\"260.0\" cy=\"940.0\" r=\"20\" fill=\"url(#kernel_1001)\" stroke=\"black\" stroke-width=\"1\" stroke-dasharray=\"5, 5\"> <animateTransform attributeName=\"transform\" type=\"rotate\" from=\"0 260.0 940.0\" to=\"360 260.0 940.0\" dur=\"0s\" begin=\"0s\" repeatCount=\"indefinite\"/> </circle> \n",
       "<text class=\"text\" x=\"288\" y=\"945.0\">bitwiseand_0</text><linearGradient id=\"kernel_1002\" gradientTransform=\"rotate(90)\"> <stop offset=\"0%\" stop-color=\"white\"/> <stop offset=\"10%\" stop-color=\"#0072B2\"/> </linearGradient> <circle id=\"kernel_circle_1002\" class=\"kernel\" cx=\"260.0\" cy=\"890.0\" r=\"20\" fill=\"url(#kernel_1002)\" stroke=\"black\" stroke-width=\"1\" stroke-dasharray=\"5, 5\"> <animateTransform attributeName=\"transform\" type=\"rotate\" from=\"0 260.0 890.0\" to=\"360 260.0 890.0\" dur=\"0s\" begin=\"0s\" repeatCount=\"indefinite\"/> </circle> \n",
       "<text class=\"text\" x=\"288\" y=\"895.0\">gray2rgba_0</text><linearGradient id=\"kernel_1003\" gradientTransform=\"rotate(90)\"> <stop offset=\"0%\" stop-color=\"white\"/> <stop offset=\"10%\" stop-color=\"#F0E442\"/> </linearGradient> <circle id=\"kernel_circle_1003\" class=\"kernel\" cx=\"260.0\" cy=\"840.0\" r=\"20\" fill=\"url(#kernel_1003)\" stroke=\"black\" stroke-width=\"1\" stroke-dasharray=\"5, 5\"> <animateTransform attributeName=\"transform\" type=\"rotate\" from=\"0 260.0 840.0\" to=\"360 260.0 840.0\" dur=\"0s\" begin=\"0s\" repeatCount=\"indefinite\"/> </circle> \n",
       "<text class=\"text\" x=\"288\" y=\"845.0\">in_range_0</text><linearGradient id=\"kernel_1004\" gradientTransform=\"rotate(90)\"> <stop offset=\"0%\" stop-color=\"white\"/> <stop offset=\"10%\" stop-color=\"#DC267F\"/> </linearGradient> <circle id=\"kernel_circle_1004\" class=\"kernel\" cx=\"260.0\" cy=\"790.0\" r=\"20\" fill=\"url(#kernel_1004)\" stroke=\"black\" stroke-width=\"1\" stroke-dasharray=\"5, 5\"> <animateTransform attributeName=\"transform\" type=\"rotate\" from=\"0 260.0 790.0\" to=\"360 260.0 790.0\" dur=\"0s\" begin=\"0s\" repeatCount=\"indefinite\"/> </circle> \n",
       "<text class=\"text\" x=\"288\" y=\"795.0\">rgba2hue_0</text></g></svg>"
      ],
      "text/plain": [
       "<IPython.core.display.SVG object>"
      ]
     },
     "metadata": {},
     "output_type": "display_data"
    }
   ],
   "source": [
    "app_builder.display()"
   ]
  },
  {
   "cell_type": "markdown",
   "id": "8b758e25-e4a5-4172-8c95-054de39404fb",
   "metadata": {},
   "source": [
    "You can see how each of the four software kernels has been mapped to the NPU column and how data moves between kernels. Notice that the memory tile multicasts data to the top compute tile (`rgba2hue_0` software kernel) and to the bottom compute tile (`bitwiseand_0`). This is the fork in the dataflow graph we saw earlier. \n",
    "\n",
    "In the animation you can also see that `in_range_0` consumes data from the `rgba2_hue_0` output buffer directly via nearest neighbor communication. The same happens for `gray2rgba_0` and `bitwiseand_0` consuming data from the data memory at its north, which correspond to the output data from `rgba2_hue_0` and `gray2rgba_0` respectively. \n",
    "\n",
    "Note that in this application we are using both nearest-neighbor communication and data movers to transfer intermediate results between tiles."
   ]
  },
  {
   "cell_type": "markdown",
   "id": "c97d9259-45c5-424c-8b59-581a55fbd64d",
   "metadata": {},
   "source": [
    "### Run the application\n",
    "\n",
    "We are going to load the application in the NPU using the `ImageLooper720p` visualization helper."
   ]
  },
  {
   "cell_type": "code",
   "execution_count": 7,
   "id": "15b379d7-4ce0-4507-9721-7ddca1e77e77",
   "metadata": {},
   "outputs": [],
   "source": [
    "from npu.lib.graphs.image_looper_720p import ImageLooper720p\n",
    "\n",
    "app = ImageLooper720p(img='images/jpg/ryzenai_future_starts_now.jpg',\n",
    "                      xclbin='ColorDetectApplication.xclbin',\n",
    "                      rtps={\"range_low\" : { \"type\": \"hueslider\", \"min\": 0, \"max\" : 255, \"rangehigh\": \"range_high\", \"name\": \"Hue range\"}})"
   ]
  },
  {
   "cell_type": "code",
   "execution_count": 8,
   "id": "b702b1f5-fbfa-4d74-ae9a-4cf9e23bbb20",
   "metadata": {},
   "outputs": [
    {
     "data": {
      "application/vnd.jupyter.widget-view+json": {
       "model_id": "20a7bc2569894b95ba93d434b58a7f46",
       "version_major": 2,
       "version_minor": 0
      },
      "text/plain": [
       "Image(value=b'', format='jpeg')"
      ]
     },
     "metadata": {},
     "output_type": "display_data"
    },
    {
     "data": {
      "application/vnd.jupyter.widget-view+json": {
       "model_id": "28be1747da594a58b593577739687e20",
       "version_major": 2,
       "version_minor": 0
      },
      "text/plain": [
       "Button(description='Stop', style=ButtonStyle())"
      ]
     },
     "metadata": {},
     "output_type": "display_data"
    },
    {
     "data": {
      "application/vnd.jupyter.widget-view+json": {
       "model_id": "a6ab66599ff649a3a90d8eba50cc5873",
       "version_major": 2,
       "version_minor": 0
      },
      "text/plain": [
       "HBox(children=(IntSlider(value=0, description='Hue range', max=255, style=SliderStyle(description_width='auto'…"
      ]
     },
     "metadata": {},
     "output_type": "display_data"
    }
   ],
   "source": [
    "app.start()"
   ]
  },
  {
   "cell_type": "markdown",
   "id": "c62582e0",
   "metadata": {},
   "source": [
    "\n",
    "---\n"
   ]
  },
  {
   "cell_type": "markdown",
   "id": "1916152c",
   "metadata": {},
   "source": [
    "## Exercise for the Reader\n",
    "\n",
    "In this exercise, you are going to work with grayscale input and output images. As you can see the in the image below, there are two working branches. The edges will be overlaid on the inverse of the input image. The source image is multicast to the `filter2D` and to the `inverse` kernels, the output of the `filter2D` processed by the `threshold` kernel. Finally, the edges are overlaid on top of the inverse image using the `bitwiseor` kernel.\n",
    "\n",
    "<center><img src=\"./images/png/edge_detect_exercise_reader.png\" style=\"max-height: 180px; width:auto; height:auto;\"></center>\n",
    "<center><strong>Edge detection exercise for the reader</strong></center>"
   ]
  },
  {
   "cell_type": "markdown",
   "id": "0bda1f7f",
   "metadata": {},
   "source": [
    "### Define your pipeline application\n",
    "\n",
    "Import the necessary components and define your `callgraph`.\n",
    "\n",
    "For the `ThresholdGrayscale` kernel, set:\n",
    "\n",
    "- `max_val` to 255\n",
    "- `threshold_type` to `0`\n",
    "\n",
    "For the `Filter2d` note that we are using `f2doperator` to define the kernel operator for the convolution. The operation `*f2doperator.tolist()` unpacks the nine values and pass them as argument to the kernel call. Do not forget to multiply them by 4096 (already done in the code). "
   ]
  },
  {
   "cell_type": "code",
   "execution_count": null,
   "id": "9ced4493",
   "metadata": {},
   "outputs": [],
   "source": [
    "from npu.build.appbuilder import AppBuilder\n",
    "from npu.build.mtkernel import MTPassThrough\n",
    "from npu.lib import ... # Import the , Filter2D and ThresholdGrayscale, bitwiseor, Inverse\n",
    "import numpy as np\n",
    "\n",
    "class InverseEdgeDetectApplication(AppBuilder):\n",
    "\n",
    "    def __init__(self):\n",
    "        # create an instance of the necessary kernels\n",
    "        self.filter2d = ... # instantiate filter2d\n",
    "        self.threshold = ... # instantiate threshold grayscale\n",
    "        self.inverse = ... # instantiate inverse\n",
    "        self.bitor = ... # instantiate bitwise or\n",
    "        self.mtbuffer_in = ... # MTPassThrough\n",
    "        super().__init__()\n",
    "\n",
    "    def callgraph(self, x_in: np.ndarray, x_out: np.ndarray) -> None:\n",
    "        f2doperator = np.array([[0, -1, 0], [-1, 4, -1], [0, -1, 0]], dtype = np.int16).reshape(9) * 4096\n",
    "        rows = x_in.shape[0]\n",
    "        for row in range(rows):\n",
    "            input_buffer = ... # call MTPassThrough\n",
    "            filter2d_buffer = self.filter2d(input_buffer, *f2doperator.tolist())\n",
    "            # <your code goes here>\n",
    "            output = self.bitor(threshold_buffer, inverse_buffer, ...) # call bitwiseor \n",
    "            x_out[t] = output"
   ]
  },
  {
   "cell_type": "markdown",
   "id": "4dc8c93b",
   "metadata": {},
   "source": [
    "Display and build your application."
   ]
  },
  {
   "cell_type": "code",
   "execution_count": null,
   "id": "6774fe63",
   "metadata": {},
   "outputs": [],
   "source": [
    "# define input and output grayscale buffers\n",
    "x_in = np.zeros(shape=(720, 1280), dtype=np.uint8)\n",
    "x_out = np.zeros(shape=(720, 1280), dtype=np.uint8)\n",
    "\n",
    "app_builder = InverseEdgeDetectApplication()\n",
    "app_builder(x_in, x_out)\n",
    "\n",
    "app_builder.display()"
   ]
  },
  {
   "cell_type": "markdown",
   "id": "363f0531",
   "metadata": {},
   "source": [
    "If you are happy with the kernel placement, build your application. Otherwise, use the `tloc` attribute to place the kernels."
   ]
  },
  {
   "cell_type": "code",
   "execution_count": null,
   "id": "e6a5ebfe",
   "metadata": {},
   "outputs": [],
   "source": [
    "app_builder.build(x_in, x_out)"
   ]
  },
  {
   "cell_type": "markdown",
   "id": "c0e172e0",
   "metadata": {},
   "source": [
    "### Run your custom application\n",
    "\n",
    "Once built, load your custom application in the NPU, run it and show the results:"
   ]
  },
  {
   "cell_type": "code",
   "execution_count": null,
   "id": "41bc3d99",
   "metadata": {},
   "outputs": [],
   "source": [
    "from npu.utils import OpenCVImageReader, image_plot\n",
    "from npu.runtime import AppRunner\n",
    "\n",
    "app = AppRunner('InverseEdgeDetectApplication.xclbin')\n",
    "\n",
    "# Allocate app input and output buffers to exchange data with NPU\n",
    "input_image = app.allocate(shape=(720, 1280), dtype=np.uint8)\n",
    "output_image = app.allocate(shape=(720, 1280), dtype=np.uint8)\n",
    "\n",
    "# Load RGBA 720p image into input_image buffer\n",
    "img = OpenCVImageReader('images/jpg/ryzenai_future_starts_now.jpg', grayscale=True).img\n",
    "input_image[:] = img\n",
    "# Pass input_image buffer to NPU\n",
    "input_image.sync_to_npu()\n",
    "\n",
    "# Run app on NPU\n",
    "app.call(input_image, output_image)\n",
    "\n",
    "# Get results from NPU via output_image buffer\n",
    "output_image.sync_from_npu()\n",
    "\n",
    "# Plot source and result images\n",
    "image_plot(input_image, output_image)"
   ]
  },
  {
   "cell_type": "markdown",
   "id": "11d684d4",
   "metadata": {},
   "source": [
    "Do not forget to clean up the application."
   ]
  },
  {
   "cell_type": "code",
   "execution_count": null,
   "id": "166a6110",
   "metadata": {},
   "outputs": [],
   "source": [
    "del app"
   ]
  },
  {
   "cell_type": "markdown",
   "id": "b657e0a6",
   "metadata": {},
   "source": [
    "You can also use the `VideoApplication` helper function to feed your application from the webcam."
   ]
  },
  {
   "cell_type": "code",
   "execution_count": null,
   "id": "8540d648",
   "metadata": {},
   "outputs": [],
   "source": [
    "from npu.lib import VideoApplication, pxtype\n",
    "\n",
    "app = VideoApplication('InverseEdgeDetectApplication.xclbin', pxtype_in=pxtype.GRAY, pxtype_out=pxtype.GRAY)\n",
    "app.rtps = {} # add list of desired RTPs\n",
    "app.start()"
   ]
  },
  {
   "cell_type": "markdown",
   "id": "ec0087c0-66b0-4848-ba71-6e10f03f155f",
   "metadata": {},
   "source": [
    "## Conclusion\n",
    "\n",
    "By reusing software kernels from the Riallto library, you saw how to create and build a new NPU application. You can create new software kernels and reuse existing kernels from the Riallto library to create new custom applications. "
   ]
  },
  {
   "cell_type": "markdown",
   "id": "9e14ddf6",
   "metadata": {},
   "source": [
    "\n",
    "---\n",
    "\n",
    "<center>\n",
    "Copyright&copy; 2023 AMD, Inc\n",
    "</center>\n",
    "<center>\n",
    "SPDX-License-Identifier: MIT\n",
    "</center>"
   ]
  }
 ],
 "metadata": {
  "kernelspec": {
   "display_name": "Python 3 (ipykernel)",
   "language": "python",
   "name": "python3"
  },
  "language_info": {
   "codemirror_mode": {
    "name": "ipython",
    "version": 3
   },
   "file_extension": ".py",
   "mimetype": "text/x-python",
   "name": "python",
   "nbconvert_exporter": "python",
   "pygments_lexer": "ipython3",
   "version": "3.9.2"
  },
  "widgets": {
   "application/vnd.jupyter.widget-state+json": {
    "state": {},
    "version_major": 2,
    "version_minor": 0
   }
  }
 },
 "nbformat": 4,
 "nbformat_minor": 5
}
