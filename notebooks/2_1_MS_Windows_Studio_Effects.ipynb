{
 "cells": [
  {
   "cell_type": "markdown",
   "metadata": {
    "tags": []
   },
   "source": [
    "# Windows Studio Effects\n",
    "\n",
    "\n",
    "## Goal\n",
    "\n",
    "* Demonstrate the NPU in action using the Windows Studio Effects\n",
    "\n",
    "\n",
    "## References\n",
    "\n",
    "**[Windows Studio Effects](https://support.microsoft.com/en-us/windows/manage-cameras-with-camera-settings-in-windows-11-97997ed5-bb98-47b6-a13d-964106997757#ID0EDBBF)**\n",
    "    \n",
    "---"
   ]
  },
  {
   "cell_type": "markdown",
   "metadata": {},
   "source": [
    "<div class=\"alert alert-box alert-warning\">\n",
    "\n",
    "<h4> This is only supported on Windows and is not supported on the Linux release of Riallto</h4>\n",
    "\n",
    "</div>"
   ]
  },
  {
   "cell_type": "markdown",
   "metadata": {
    "tags": []
   },
   "source": [
    "## Introduction to Windows Studio Effects\n",
    "\n",
    "\n",
    "Microsoft's **[Windows Studio Effects](https://support.microsoft.com/en-us/windows/manage-cameras-with-camera-settings-in-windows-11-97997ed5-bb98-47b6-a13d-964106997757#ID0EDBBF)** (WSE) uses Ryzen AI for energy-efficient acceleration of AI enhanced features for video conferencing."
   ]
  },
  {
   "cell_type": "code",
   "execution_count": 1,
   "metadata": {
    "tags": []
   },
   "outputs": [
    {
     "data": {
      "text/html": [
       "\n",
       "        <iframe\n",
       "            width=\"560\"\n",
       "            height=\"315\"\n",
       "            src=\"https://www.youtube.com/embed/xzUOhkqAItM\"\n",
       "            frameborder=\"0\"\n",
       "            allowfullscreen\n",
       "            \n",
       "        ></iframe>\n",
       "        "
      ],
      "text/plain": [
       "<IPython.lib.display.IFrame at 0x280e971b700>"
      ]
     },
     "execution_count": 1,
     "metadata": {},
     "output_type": "execute_result"
    }
   ],
   "source": [
    "from IPython.display import IFrame\n",
    "IFrame('https://www.youtube.com/embed/xzUOhkqAItM', width=560, height=315)"
   ]
  },
  {
   "cell_type": "markdown",
   "metadata": {
    "tags": [],
    "toc-hr-collapsed": true
   },
   "source": [
    "### WSE Features\n",
    "\n",
    "WSE features are available exclusively on systems equipped with dedicated AI hardware. Features available at launch include:\n",
    "\n",
    "* intelligent *background blur* to hide your background and avoid distractions\n",
    "\n",
    "* *eye contact correction* creates the impression that you are looking at the camera, improving your engagement and connection with your audience\n",
    "\n",
    "* *automatic framing* dynamically adjust the camera view, ensuring that you remain centered and perfectly positioned within the frame \n",
    "\n",
    "* *Voice Focus* filters out background noise and boosts your audio to give you and your participants a higher quality call experience\n",
    "\n",
    "---\n"
   ]
  },
  {
   "cell_type": "markdown",
   "metadata": {},
   "source": [
    "## Try Windows Studio Effects Now "
   ]
  },
  {
   "cell_type": "markdown",
   "metadata": {},
   "source": [
    "<div class=\"alert alert-box alert-warning\">\n",
    "\n",
    "<h4>Windows Studio Effects requires a processor with the Ryzen AI NPU and a supported webcam</h4>\n",
    "\n",
    "</div>"
   ]
  },
  {
   "cell_type": "markdown",
   "metadata": {},
   "source": [
    "### Windows Studio Effects settings\n",
    "\n",
    "Discover what Ryzen AI can do by trying Windows Studio Effects, which is pre-installed on the laptop you are using!\n",
    "\n",
    "#### Steps\n",
    "\n",
    "* Open the Camera application on your Windows 11 laptop.\n",
    "\n",
    "* Make sure the Camera application is set to *Take Video* for your built-in webcam.\n",
    "\n",
    "* The WSE icon should be visible on the top right corner\n",
    "  ![](./images/png/wse_icon.png)\n",
    "\n",
    "* Click the *Windows Studio Effects* icon to open the settings, and try turning on and off the different features."
   ]
  },
  {
   "cell_type": "markdown",
   "metadata": {},
   "source": [
    "<center><img src=\"./images/png/wse_video.png\"></center>\n",
    "<center><strong>Camera App Windows Studio Effects</strong></center>"
   ]
  },
  {
   "cell_type": "markdown",
   "metadata": {},
   "source": [
    "\n",
    "**Automatic framing**\n",
    "- With automatic framing enabled try moving around your room and notice how the camera view will pan and zoom to keep you in the center.\n",
    "\n",
    "**Background blur**\n",
    "- With background blur enabled, try the *Standard* and *Portrait* effects. Try it with two people in the room. The effect will keep you both in focus.   \n",
    "\n",
    "**Eye contact**\n",
    "- Try looking at the bottom of your screen while turning on and off this effect. It will apply a correction to your eyes to make it appear that you are looking directly at the camera and making eye contact with your audience. This effect can be more subtle than the others and harder to notice.\n",
    "\n",
    "All these functions are running on the Ryzen AI NPU. This means your main CPU is free for other tasks, improving the speed and responsiveness of your laptop. Ryzen AI uses less power for these functions which increases your battery life. Ryzen AI is the only x86 CPU with an NPU. It is the only way to use Windows Studio Effects on your Windows 11 laptop. \n",
    "\n",
    "---\n"
   ]
  },
  {
   "cell_type": "markdown",
   "metadata": {},
   "source": [
    "## System-wide Settings\n",
    "\n",
    "You can enable these features system wide. These means the effects can be enabled for any application that uses your camera. \n",
    "\n",
    "* Opening the camera system settings. Click the cog in the top left corner and then select *open camera system settings*.\n",
    "\n",
    "<center><img src=\"./images/png/camera_settings.png\" style=\"max-height:380px; width:auto; height:auto;\"></center>\n",
    "<center><strong>Camera settings</strong></center>\n"
   ]
  },
  {
   "cell_type": "markdown",
   "metadata": {},
   "source": [
    "In the camera system settings, you will be able to configure the camera effects that apply to the system. If any of the effects is enabled here, it will apply to all the apps using the camera e.g., Teams.\n",
    "\n",
    "<center><img src=\"./images/png/wse_system.png\" style=\"max-height:380px; width:auto; height:auto;\"></center>\n",
    "<center><strong>System wide Windows Studio Effects settings</strong></center>"
   ]
  },
  {
   "cell_type": "markdown",
   "metadata": {},
   "source": [
    "## Next steps\n",
    "\n",
    "Continue to section 3 to learn more about the Ryzen AI NPU architecture, with example applications you can run on your Ryzen AI laptop. "
   ]
  },
  {
   "cell_type": "markdown",
   "metadata": {},
   "source": [
    "\n",
    "---\n",
    "\n",
    "<center>\n",
    "Copyright&copy; 2023 AMD, Inc\n",
    "</center>\n",
    "<center>\n",
    "SPDX-License-Identifier: MIT\n",
    "</center>\n"
   ]
  }
 ],
 "metadata": {
  "kernelspec": {
   "display_name": "Python 3 (ipykernel)",
   "language": "python",
   "name": "python3"
  },
  "language_info": {
   "codemirror_mode": {
    "name": "ipython",
    "version": 3
   },
   "file_extension": ".py",
   "mimetype": "text/x-python",
   "name": "python",
   "nbconvert_exporter": "python",
   "pygments_lexer": "ipython3",
   "version": "3.10.6"
  }
 },
 "nbformat": 4,
 "nbformat_minor": 4
}
