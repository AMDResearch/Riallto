{
 "cells": [
  {
   "cell_type": "markdown",
   "id": "586e00eb-9a18-4f60-b1ed-e0e68d416ef3",
   "metadata": {
    "tags": []
   },
   "source": [
    "# Welcome to Riallto\n"
   ]
  },
  {
   "cell_type": "markdown",
   "id": "cec36467-b9e3-4e28-9122-7ec91d219fd5",
   "metadata": {
    "tags": []
   },
   "source": [
    "<center><img src=\"./images/png/AMD-Ryzen-AI-Main-1.png\" alt=\"AMD Ryzen AI\" style=\"zoom:45%;\" /></center>"
   ]
  },
  {
   "cell_type": "markdown",
   "id": "6fad0d37-6216-445a-b678-ce62879e59bc",
   "metadata": {},
   "source": [
    "This guide offers an in-depth exploration of AMD's Ryzen AI, the first in a new class of Neural Processing Unit (NPU) designed for x86 computers. The Ryzen AI NPU was launched in 2023 in select members of the Ryzen 7040 device family, and powers Microsoft Window Studio Effects in the latest AMD Ryzen AI laptops.  \n",
    "  \n",
    "Ryzen AI provides the energy-efficient, performant, AI processing needed by a whole host of new AI features that will emerge in future generations of laptops.\n",
    "  \n",
    "If you would like to learn more about what NPUs are, why they are needed, and how they work, you are in the right place! \n",
    "\n",
    "## Get Riallto\n",
    "\n",
    "### Riallto webpages\n",
    "\n",
    "The Riallto education material consists of a series of Jupyter notebooks. You have the option to view this content online on the [Riallto website](https://www.riallto.ai) which may be where you are reading this right now! Most of the Riallto webpages are static versions of the notebooks and are generated from the notebooks. \n",
    "\n",
    "### Riallto installer\n",
    "\n",
    "If you have a Ryzen AI laptop, you can [install Riallto](https://www.riallto.ai/install-riallto.html) which will also install a copy of the Jupyter notebooks locally. This allows you to open and execute the code cells directly on your computer. This is important in sections 3, 4 and 5, where the notebooks contain code cells that you can execute on your Ryzen AI laptop. \n",
    "\n",
    "---\n"
   ]
  },
  {
   "cell_type": "markdown",
   "id": "27c90fa8-f903-4557-a0a5-a1fdf501bce1",
   "metadata": {},
   "source": [
    "## Organization\n",
    "\n",
    "The guide is organized as follows:\n",
    "\n",
    "### Section 1: Introduction\n",
    "\n",
    "Contains a short video that provides a conceptual overview of the Ryzen AI NPU, its features and an introduction to Riallto. We recommend that you start by watching the video.\n",
    "\n",
    "**[1. Video overview of the Ryzen AI NPU and introduction to Riallto](http://www.riallto.ai/ryzenai_video_overview.html)**\n",
    "\n",
    "Understand the motivation for NPUs and what Ryzen AI offers.\n",
    "\n",
    "**[2. Understanding the Ryzen AI NPU](1_1_ryzenai.ipynb)**\n"
   ]
  },
  {
   "cell_type": "markdown",
   "id": "58c4d29a",
   "metadata": {},
   "source": [
    "\n",
    "### Section 2: Windows Studio Effects (WSE) with Ryzen AI\n",
    "\n",
    "Demonstrates the Ryzen AI NPU in action, running real-time AI workloads in Microsoft's Windows Studio Effects (WSE).\n",
    "\n",
    "**This is only supported on Windows.**\n",
    "\n",
    "**[1. Windows Studio Effects demo](2_1_MS_Windows_Studio_Effects.ipynb)**\n"
   ]
  },
  {
   "cell_type": "markdown",
   "id": "5bc1d940",
   "metadata": {},
   "source": [
    "\n",
    "### Section 3: Exploring the NPU with image processing examples\n",
    "\n",
    "Provides a guided walkthrough of the key architectural features of the NPU illustrated with a series of video processing examples. We chose to use image processing examples for two reasons. Like AI applications, video processing examples map well to dataflow graphs and they are easily understood visually which allows us to focus more on the NPU's architecture. After we have understood the key features of the NPU, we show how to run AI programs on the NPU in a later section.\n",
    "\n",
    "**[1. Loading your first application on the Ryzen AI NPU](3_1_Color_threshold_example.ipynb)**\n",
    "\n",
    "**[2. Understanding the Ryzen AI column architecture and tiles](3_2_Ryzenai_capabilities.ipynb)**\n",
    "\n",
    "**[3. Scale applications to multiple compute tiles](3_3_Scaled_color_threshold_example.ipynb)**\n",
    "\n",
    "**[4. Learn about optimizing data movement](3_4_Edge_detect_example.ipynb)**\n",
    "\n",
    "**[5. Advanced multicast data movement and running multiple kernels on a single compute tile](3_5_Color_detect_example.ipynb)**\n"
   ]
  },
  {
   "cell_type": "markdown",
   "id": "edb0592a",
   "metadata": {},
   "source": [
    "\n",
    "### Section 4: Building Your own applications for the Ryzen AI NPU\n",
    "\n",
    "Learn how to build and run your own code on the NPU using Riallto.\n",
    "\n",
    "**[1. Introduction to the Riallto Software Framework](4_1_software_framework.ipynb)**\n",
    "\n",
    "**[2. Write your first Kernel](4_2_write_your_kernel.ipynb)**\n",
    "\n",
    "**[3. Using Run Time Parameters](4_3_kernels_with_runtime_parameters.ipynb)**\n",
    "\n",
    "**[4. Learn how to use the vector processing units](4_4_threshold_kernel_with_vector_ops.ipynb)**\n",
    "\n",
    "**[5. Describing an Application](4_5_describe_an_application.ipynb)**\n",
    "\n",
    "**[6. Building a complete application](4_6_build_application.ipynb)**\n",
    "\n",
    "**[7. Using Memory Tiles](4_7_using_the_memtile_in_your_applications.ipynb)**\n",
    "\n",
    "**[8. Reusing software kernels](4_8_build_a_colorDetect_application.ipynb)**\n"
   ]
  },
  {
   "cell_type": "markdown",
   "id": "8e7798e4",
   "metadata": {},
   "source": [
    "\n",
    "### Section 5: Running Machine Learning applications on Ryzen AI \n",
    "\n",
    "Introduces the PyTorch-ONNX flow for running AI applications on the Ryzen AI NPU.\n",
    "\n",
    "**This is currently not supported on Linux.** \n",
    "\n",
    "**[1. Machine Learning Inference with PyTorch and ONNX](5_1_pytorch_onnx_inference.ipynb)**\n",
    "\n",
    "**[2. Machine Learning re-training with PyTorch and ONNX](5_2_pytorch_onnx_re-train.ipynb)**\n",
    "\n",
    "### Glossary\n",
    "\n",
    "Find a list and description of terminology used in these notebooks in the **[glossary](Glossary.ipynb)**\n",
    "\n",
    "### Appendix\n",
    "\n",
    "Additional introductory material on image processing that some readers may find useful.\n",
    "\n",
    "**[Review of Image Processing Concepts](Appendix_Review_of_Image_Processing_Concepts.ipynb)**\n"
   ]
  },
  {
   "cell_type": "markdown",
   "id": "99ab3556",
   "metadata": {},
   "source": [
    "\n",
    "---\n",
    "\n",
    "<center>\n",
    "Copyright&copy; 2023 AMD, Inc\n",
    "</center>\n",
    "<center>\n",
    "SPDX-License-Identifier: MIT\n",
    "</center>\n",
    "\n"
   ]
  }
 ],
 "metadata": {
  "kernelspec": {
   "display_name": "Python 3 (ipykernel)",
   "language": "python",
   "name": "python3"
  },
  "language_info": {
   "codemirror_mode": {
    "name": "ipython",
    "version": 3
   },
   "file_extension": ".py",
   "mimetype": "text/x-python",
   "name": "python",
   "nbconvert_exporter": "python",
   "pygments_lexer": "ipython3",
   "version": "3.10.6"
  },
  "widgets": {
   "application/vnd.jupyter.widget-state+json": {
    "state": {},
    "version_major": 2,
    "version_minor": 0
   }
  }
 },
 "nbformat": 4,
 "nbformat_minor": 5
}
