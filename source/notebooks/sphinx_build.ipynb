{
 "cells": [
  {
   "cell_type": "markdown",
   "id": "e12acdf0-482e-41c8-b3fb-74c493b0df36",
   "metadata": {},
   "source": [
    "# Sphinx Build"
   ]
  },
  {
   "cell_type": "markdown",
   "id": "aafd9603-1d0f-43f3-825c-0e3ca78a8b6e",
   "metadata": {},
   "source": [
    "On a Phoenix Laptop with PHX PYNQ installed, and local copy of repo;\n",
    "\n",
    "Do a windows install of Sphinx\n",
    "\n",
    "```\n",
    "pip install -U sphinx\n",
    "```\n",
    "\n",
    "Ref: https://www.sphinx-doc.org/en/master/usage/installation.html#windows\n",
    "\n",
    "Activate the Riallto venv\n",
    "\n",
    "```\n",
    "activate_venv.ps1\n",
    "```\n",
    "\n",
    "Install the following in the venv\n",
    "\n",
    "```\n",
    "pip install sphinx\n",
    "pip install recommonmark\n",
    "pip install sphinx_markdown_tables\n",
    "pip install nbsphinx\n",
    "pip install nbsphinx-link\n",
    "pip install pandoc\n",
    "pip install sphinx_copybutton\n",
    "```\n",
    "\n",
    "## pandoc\n",
    "Pandoc is written in Haskell. The pip package is only a wrapper. Need to install pandoc. \n",
    "\n",
    "Download windows installer:\n",
    "https://github.com/jgm/pandoc/releases/tag/3.1.8\n",
    "\n",
    "To rerun webpage build:\n",
    "* Take a copy of the make.bat and source folder in this branch. \n",
    "* Copy the source folder and make.bat to the docs folder in master.\n",
    "* In docs directory; run: `./make.bat html`\n",
    "\n",
    "This will create a build folder with the generated pages. \n",
    "\n",
    "* Copy the contents of ./build/html to the docs folder on this GitHub repository and push to update the docs.\n",
    "\n",
    "Documentation is hosted using GitHub pages. In the repository settings, enable GitHub pages, and set the pages to build from `docs` in this branch .\n",
    "\n",
    "Steps to reproduce webpages from scratch:\n",
    "\n",
    "* In the docs directory; run: `sphinx-quickstart` to setup the Sphinx config\n",
    "* copy the conf.py settings from this directory (edit as required)\n",
    "* run `sphinx-apidoc -o source/ ./npu` to auto generate the tempaltes for the source code\n",
    "* Edit the index.rst to change the homapage and to icnlude/exclude notebook files.\n",
    "Notebooks are not in the docs directory. Sphinx can't access anything outside the docs directory directly. `npsphinx-link` is used to add .nblink files in the docs folder that link to the notbeookk folder. Image link is not working. npsphinx may support this with \"extra-media\" but I don't have this working. For now the images directory is copied to the docs dir. This could be symlinks in Linux. \n",
    "* run `./make.bat html` to generate the webpages\n"
   ]
  },
  {
   "cell_type": "markdown",
   "id": "7dccc2f5-3771-461d-8670-ac19161a5e0b",
   "metadata": {},
   "source": [
    "# Tips\n",
    "\n",
    "## Embeded .ipynb outside docs folder;\n",
    "* pip install nbsphinx\n",
    "* pip install nbsphinx-link\n",
    "* pip install pandoc\n",
    "Create a .nblink file inside the doc folder\n",
    "Inside this file add\n",
    "\n",
    "```\n",
    "{\n",
    "\"path\": \"./relative/path/to/.ipynb\"\n",
    "}\n",
    "```\n",
    "\n",
    "## Embed HTML\n",
    "\n",
    ".. raw:: html\n",
    "   :file: filename.html\n",
    "\n",
    "## Cookie script\n",
    "Comment out this script when testing pages locally, otherwise cookie is never set and cookie prompt loads on every page\n",
    "\n",
    "`source\\_themes\\xilinx\\layout`\n",
    "```\n",
    "<!--<script src=\"https://cdn.cookielaw.org/scripttemplates/otSDKStub.js\" data-document-language=\"true\" type=\"text/javascript\" charset=\"UTF-8\" data-domain-script=\"03af8d57-0a04-47a6-8f10-322fa00d8fc7\" ></script>\n",
    "<script type=\"text/javascript\">\n",
    "function OptanonWrapper() { }\n",
    "</script>-->\n",
    "<!-- OneTrust Cookies Consent Notice end for xilinx.github.io -->\n",
    "```"
   ]
  },
  {
   "cell_type": "code",
   "execution_count": 1,
   "id": "b4458735-cda4-4e37-813b-2a6212f9c9a9",
   "metadata": {},
   "outputs": [
    {
     "name": "stdout",
     "output_type": "stream",
     "text": [
      " Volume in drive C is OS\n",
      " Volume Serial Number is 2AAE-4EBE\n",
      "\n",
      " Directory of C:\\Users\\catha\\OneDrive\\Documents\\PHX-PYNQ-Dev-0.5\\docs\n",
      "\n",
      "29/09/2023  15:03    <DIR>          .\n",
      "29/09/2023  08:53    <DIR>          ..\n",
      "29/09/2023  08:37    <DIR>          .ipynb_checkpoints\n",
      "29/09/2023  13:52    <DIR>          build\n",
      "22/09/2023  11:58               697 drivers.md\n",
      "26/09/2023  15:54    <DIR>          images\n",
      "22/09/2023  11:58               723 licenses.md\n",
      "29/09/2023  09:11               791 make.bat\n",
      "29/09/2023  08:39               593 Makefile\n",
      "22/09/2023  11:58             1,543 onnxruntime.md\n",
      "29/09/2023  13:55    <DIR>          source\n",
      "29/09/2023  15:03            12,042 sphinx_build.ipynb\n",
      "22/09/2023  11:58               584 wsl.md\n",
      "               7 File(s)         16,973 bytes\n",
      "               6 Dir(s)  523,455,508,480 bytes free\n"
     ]
    }
   ],
   "source": [
    "!dir "
   ]
  },
  {
   "cell_type": "markdown",
   "id": "a7386fbf-a531-415d-8d44-7af54ed41ff6",
   "metadata": {},
   "source": [
    "# Build warnings, errors\n",
    "\n",
    "Most issues or warnings are due to the way notebooks have been written mixing markdown with HTML, or in the case of docstrings - the docstring format used. \n",
    "\n",
    "This warnings are \"won't fix\" and should not be causing issues in the docs html build.\n",
    "\n",
    "This is due to more than one `kernel` object in the Python package. It only affects the cross linking of the object to its documentation. In this case it seems to cross link to the correct object so does not cause an issue. \n",
    "\n",
    "```\n",
    "c:\\users\\catha\\appdata\\local\\riallto\\riallto_venv\\lib\\site-packages\\npu\\build\\port.py:docstring of npu.build.port.Port:31: WARNING: more than one target found for cross-reference 'Kernel': npu.build.kernel.Kernel, npu.utils.svg.Kernel\n",
    "```\n",
    "\n",
    "This is due to a HTML <div> object spanning multiple lines. It does not seem to cause an issue in the html build\n",
    "\n",
    "```\n",
    "C:\\Users\\catha\\OneDrive\\Documents\\riallto\\docs\\source\\4_2_write_your_kernel.nblink:185: WARNING: Inline interpreted text or phrase reference start-string without end-string.\r",
    "```"
   ]
  },
  {
   "cell_type": "markdown",
   "id": "65f24094-f30a-4d77-a3db-b14adca2b4f0",
   "metadata": {},
   "source": [
    "These are different objects with the same name in the Python package. The suggested fix woudl need to be added to docstrings which is not desirable. No fix for now. \n",
    "\n",
    "```\n",
    "\n",
    "c:\\users\\catha\\appdata\\local\\riallto\\riallto_venv\\lib\\site-packages\\npu\\lib\\kernels\\filter2d.py:docstring of npu.lib.kernels.filter2d.Filter2dScalar:4: WARNING: duplicate label npu.lib.kernels:keyword parameter, other instance in C:\\Users\\catha\\OneDrive\\Documents\\riallto\\docs\\source\\npu.lib.kernels.rst\r\n",
    "c:\\users\\catha\\appdata\\local\\riallto\\riallto_venv\\lib\\site-packages\\npu\\runtime\\sequence.py:docstring of npu.runtime.sequence.Operation.bdId:1: WARNING: duplicate object description of npu.runtime.sequence.Operation.bdId, other instance in npu.runtime, use :no-index: for one of them\r\n",
    "c:\\users\\catha\\appdata\\local\\riallto\\riallto_venv\\lib\\site-packages\\npu\\runtime\\sequence.py:docstring of npu.runtime.sequence.Operation.config:1: WARNING: duplicate object description of npu.runtime.sequence.Operation.config, other instance in npu.runtime, use :no-index: for one of them\r\n",
    "c:\\users\\catha\\appdata\\local\\riallto\\riallto_venv\\lib\\site-packages\\npu\\runtime\\sequence.py:docstring of npu.runtime.sequence.Operation.coords:1: WARNING: duplicate object description of npu.runtime.sequence.Operation.coords, other instance in npu.runtime, use :no-index: for one of them\r\n",
    "c:\\users\\catha\\appdata\\local\\riallto\\riallto_venv\\lib\\site-packages\\npu\\runtime\\sequence.py:docstring of npu.runtime.sequence.Operation.opcode:1: WARNING: duplicate object description of npu.runtime.sequence.Operation.opcode, other instance in npu.runtime, use :no-index: for one of them\r\n",
    "c:\\users\\catha\\appdata\\local\\riallto\\riallto_venv\\lib\\site-packages\\npu\\runtime\\sequence.py:docstring of npu.runtime.sequence.Operation.words:1: WARNING: duplicate object description of npu.runtime.sequence.Operation.words, other instance in npu.runtime, use :no-index: for one of them\r\n",
    "c:\\users\\catha\\appdata\\local\\riallto\\riallto_venv\\lib\\site-packages\\npu\\runtime\\sequence.py:docstring of npu.runtime.sequence.RTPOp.addr:1: WARNING: duplicate object description of npu.runtime.sequence.RTPOp.addr, other instance in npu.runtime, use :no-index: for one of them\r\n",
    "c:\\users\\catha\\appdata\\local\\riallto\\riallto_venv\\lib\\site-packages\\npu\\runtime\\sequence.py:docstring of npu.runtime.sequence.RTPOp.rtpidx:1: WARNING: duplicate object description of npu.runtime.sequence.RTPOp.rtpidx, other instance in npu.runtime, use :no-index: for one of them\r\n",
    "c:\\users\\catha\\appdata\\local\\riallto\\riallto_venv\\lib\\site-packages\\npu\\runtime\\sequence.py:docstring of npu.runtime.sequence.RTPOp.value:1: WARNING: duplicate object description of npu.runtime.sequence.RTPOp.value, other instance in npu.runtime, use :no-indexe of them: for  of them"
   ]
  },
  {
   "cell_type": "code",
   "execution_count": null,
   "id": "2a097236-1b76-4625-929c-c748abd69a40",
   "metadata": {},
   "outputs": [],
   "source": []
  }
 ],
 "metadata": {
  "kernelspec": {
   "display_name": "Python 3 (ipykernel)",
   "language": "python",
   "name": "python3"
  },
  "language_info": {
   "codemirror_mode": {
    "name": "ipython",
    "version": 3
   },
   "file_extension": ".py",
   "mimetype": "text/x-python",
   "name": "python",
   "nbconvert_exporter": "python",
   "pygments_lexer": "ipython3",
   "version": "3.9.2"
  },
  "widgets": {
   "application/vnd.jupyter.widget-state+json": {
    "state": {},
    "version_major": 2,
    "version_minor": 0
   }
  }
 },
 "nbformat": 4,
 "nbformat_minor": 5
}
